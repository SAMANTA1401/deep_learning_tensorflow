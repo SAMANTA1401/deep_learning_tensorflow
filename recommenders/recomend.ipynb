{
 "cells": [
  {
   "cell_type": "markdown",
   "metadata": {},
   "source": [
    "In this tutorial, we build a simple matrix factorization model using the MovieLens 100K dataset with TFRS. We can use this model to recommend movies for a given user."
   ]
  },
  {
   "cell_type": "code",
   "execution_count": 38,
   "metadata": {},
   "outputs": [],
   "source": [
    "from typing import Dict, Text\n",
    "\n",
    "import numpy as np\n",
    "import tensorflow as tf\n",
    "\n",
    "import tensorflow_datasets as tfds\n",
    "import tensorflow_recommenders as tfrs"
   ]
  },
  {
   "cell_type": "code",
   "execution_count": 3,
   "metadata": {},
   "outputs": [],
   "source": [
    "import os"
   ]
  },
  {
   "cell_type": "code",
   "execution_count": 4,
   "metadata": {},
   "outputs": [],
   "source": [
    "# Ratings data.\n",
    "ratings = tfds.load('movielens/100k-ratings', split=\"train\", data_dir=os.getcwd())\n",
    "# Features of all the available movies.\n",
    "movies = tfds.load('movielens/100k-movies', split=\"train\", data_dir=os.getcwd())"
   ]
  },
  {
   "cell_type": "code",
   "execution_count": 5,
   "metadata": {},
   "outputs": [],
   "source": [
    "# Select the basic features.\n",
    "ratings = ratings.map(lambda x: {\n",
    "    \"movie_title\": x[\"movie_title\"],\n",
    "    \"user_id\": x[\"user_id\"]\n",
    "})\n",
    "movies = movies.map(lambda x: x[\"movie_title\"])"
   ]
  },
  {
   "cell_type": "markdown",
   "metadata": {},
   "source": [
    "The ratings dataset is likely a tf.data.Dataset object where each element is a dictionary with keys like \"user_id\", \"movie_id\", etc."
   ]
  },
  {
   "cell_type": "code",
   "execution_count": 6,
   "metadata": {},
   "outputs": [
    {
     "data": {
      "text/plain": [
       "<_MapDataset element_spec={'movie_title': TensorSpec(shape=(), dtype=tf.string, name=None), 'user_id': TensorSpec(shape=(), dtype=tf.string, name=None)}>"
      ]
     },
     "execution_count": 6,
     "metadata": {},
     "output_type": "execute_result"
    }
   ],
   "source": [
    "ratings"
   ]
  },
  {
   "cell_type": "code",
   "execution_count": 7,
   "metadata": {},
   "outputs": [
    {
     "data": {
      "text/plain": [
       "{'movie_title': <tf.Tensor: shape=(), dtype=string, numpy=b\"One Flew Over the Cuckoo's Nest (1975)\">,\n",
       " 'user_id': <tf.Tensor: shape=(), dtype=string, numpy=b'138'>}"
      ]
     },
     "execution_count": 7,
     "metadata": {},
     "output_type": "execute_result"
    }
   ],
   "source": [
    "next(iter(ratings.take(1)))"
   ]
  },
  {
   "cell_type": "code",
   "execution_count": 8,
   "metadata": {},
   "outputs": [
    {
     "data": {
      "text/plain": [
       "<_MapDataset element_spec=TensorSpec(shape=(), dtype=tf.string, name=None)>"
      ]
     },
     "execution_count": 8,
     "metadata": {},
     "output_type": "execute_result"
    }
   ],
   "source": [
    "movies"
   ]
  },
  {
   "cell_type": "code",
   "execution_count": 9,
   "metadata": {},
   "outputs": [
    {
     "data": {
      "text/plain": [
       "<tf.Tensor: shape=(), dtype=string, numpy=b'You So Crazy (1994)'>"
      ]
     },
     "execution_count": 9,
     "metadata": {},
     "output_type": "execute_result"
    }
   ],
   "source": [
    "next(iter(movies.take(1)))"
   ]
  },
  {
   "cell_type": "code",
   "execution_count": 10,
   "metadata": {},
   "outputs": [
    {
     "name": "stdout",
     "output_type": "stream",
     "text": [
      "tf.Tensor(b'You So Crazy (1994)', shape=(), dtype=string)\n",
      "tf.Tensor(b'Love Is All There Is (1996)', shape=(), dtype=string)\n",
      "tf.Tensor(b'Fly Away Home (1996)', shape=(), dtype=string)\n",
      "tf.Tensor(b'In the Line of Duty 2 (1987)', shape=(), dtype=string)\n",
      "tf.Tensor(b'Niagara, Niagara (1997)', shape=(), dtype=string)\n"
     ]
    }
   ],
   "source": [
    "for movie in movies.take(5):\n",
    "    print(movie)\n",
    "\n"
   ]
  },
  {
   "cell_type": "markdown",
   "metadata": {},
   "source": [
    "Build vocabularies to convert user ids and movie titles into integer indices for embedding layers"
   ]
  },
  {
   "cell_type": "code",
   "execution_count": 11,
   "metadata": {},
   "outputs": [],
   "source": [
    "user_ids_vocabulary = tf.keras.layers.StringLookup(mask_token=None)  #'StringLookup' object"
   ]
  },
  {
   "cell_type": "code",
   "execution_count": 12,
   "metadata": {},
   "outputs": [
    {
     "data": {
      "text/plain": [
       "<StringLookup name=string_lookup, built=False>"
      ]
     },
     "execution_count": 12,
     "metadata": {},
     "output_type": "execute_result"
    }
   ],
   "source": [
    "user_ids_vocabulary"
   ]
  },
  {
   "cell_type": "markdown",
   "metadata": {},
   "source": [
    "The ratings dataset is likely a tf.data.Dataset object where each element is a dictionary with keys like \"user_id\", \"movie_id\", etc.\n",
    "The map function extracts the \"user_id\" field from each element in the dataset, creating a dataset of user IDs."
   ]
  },
  {
   "cell_type": "code",
   "execution_count": null,
   "metadata": {},
   "outputs": [],
   "source": [
    "# [{\"user_id\": \"user1\", \"movie_id\": \"movieA\"}, \n",
    "#  {\"user_id\": \"user2\", \"movie_id\": \"movieB\"}]\n",
    "\n",
    "# to\n",
    "\n",
    "# [\"user1\", \"user2\"]\n"
   ]
  },
  {
   "cell_type": "code",
   "execution_count": 13,
   "metadata": {},
   "outputs": [],
   "source": [
    "user_ids_vocabulary.adapt(ratings.map(lambda x: x[\"user_id\"])) #'StringLookup' method"
   ]
  },
  {
   "cell_type": "code",
   "execution_count": 14,
   "metadata": {},
   "outputs": [
    {
     "data": {
      "text/plain": [
       "<StringLookup name=string_lookup, built=False>"
      ]
     },
     "execution_count": 14,
     "metadata": {},
     "output_type": "execute_result"
    }
   ],
   "source": [
    "user_ids_vocabulary"
   ]
  },
  {
   "cell_type": "code",
   "execution_count": null,
   "metadata": {},
   "outputs": [],
   "source": [
    "# tf.keras.layers.StringLookup(mask_token=None)\n",
    "# Purpose:\n",
    "# This is a Keras preprocessing layer used to map string inputs (e.g., user IDs) to integer indices.\n",
    "# Parameters:\n",
    "# mask_token=None: Disables masking, meaning no special \"mask\" token will be included in the vocabulary for missing values.\n",
    "# 2. user_ids_vocabulary.adapt(...)\n",
    "# What it does:\n",
    "# The adapt method analyzes the input data to build a vocabulary of unique user IDs.\n",
    "# After calling adapt, the layer will \"learn\" all the unique user IDs present in the dataset and assign a unique integer index to each of them.\n",
    "# For example, if the dataset has user IDs [\"user1\", \"user2\", \"user3\"], the layer might assign:\n",
    "# \"user1\" → 1\n",
    "# \"user2\" → 2\n",
    "# \"user3\" → 3\n",
    "# By default, index 0 is reserved for \"out-of-vocabulary\" (OOV) values that don't appear in the dataset.\n"
   ]
  },
  {
   "cell_type": "code",
   "execution_count": null,
   "metadata": {},
   "outputs": [],
   "source": [
    "movie_titles_vocabulary = tf.keras.layers.StringLookup(mask_token=None) # which is used to convert string inputs into numerical representations.\n",
    "movie_titles_vocabulary.adapt(movies)"
   ]
  },
  {
   "cell_type": "code",
   "execution_count": 16,
   "metadata": {},
   "outputs": [
    {
     "name": "stdout",
     "output_type": "stream",
     "text": [
      "['[UNK]', '405', '655', '13', '450', '276', '416', '537', '303', '234', '393', '181', '279', '429', '846', '7', '94', '682', '308', '92', '293', '222', '201', '59', '435', '378', '880', '417', '896', '592', '796', '758', '561', '130', '406', '551', '334', '804', '268', '474', '889', '269', '727', '399', '642', '916', '145', '650', '363', '151', '524', '749', '194', '387', '90', '648', '291', '864', '311', '747', '85', '286', '327', '653', '328', '385', '299', '497', '95', '271', '457', '18', '301', '532', '374', '805', '178', '1', '389', '870', '716', '883', '833', '472', '437', '313', '533', '881', '280', '339', '504', '184', '788', '894', '666', '314', '506', '932', '886', '798', '244', '343', '707', '606', '454', '109', '373', '354', '782', '62', '345', '790', '487', '207', '622', '892', '407', '588', '500', '774', '660', '312', '305', '711', '43', '535', '919', '854', '456', '618', '200', '102', '49', '495', '87', '6', '851', '868', '60', '256', '643', '452', '144', '843', '807', '425', '409', '479', '342', '64', '347', '840', '543', '379', '295', '246', '514', '346', '297', '659', '344', '486', '455', '577', '56', '326', '189', '897', '823', '267', '933', '128', '10', '815', '458', '42', '332', '125', '627', '198', '119', '11', '21', '174', '766', '5', '934', '318', '158', '398', '887', '621', '943', '82', '751', '721', '715', '757', '664', '586', '862', '608', '536', '712', '545', '380', '773', '249', '503', '262', '795', '254', '239', '663', '694', '593', '453', '83', '567', '548', '693', '58', '488', '320', '401', '44', '23', '848', '521', '294', '290', '699', '566', '498', '394', '738', '639', '601', '907', '654', '330', '296', '847', '221', '825', '436', '468', '442', '116', '936', '665', '325', '624', '224', '806', '16', '484', '447', '709', '270', '882', '72', '527', '99', '903', '899', '634', '542', '493', '445', '878', '541', '463', '230', '110', '913', '210', '70', '216', '336', '763', '496', '22', '214', '922', '698', '381', '298', '213', '321', '901', '671', '292', '236', '263', '645', '250', '661', '629', '391', '38', '361', '193', '927', '264', '160', '890', '632', '459', '197', '786', '871', '826', '690', '177', '705', '554', '478', '505', '307', '188', '392', '104', '921', '620', '233', '764', '756', '640', '489', '938', '748', '630', '617', '940', '863', '733', '26', '159', '141', '830', '625', '57', '152', '776', '708', '697', '223', '828', '741', '637', '15', '918', '615', '885', '835', '499', '397', '360', '560', '466', '426', '669', '553', '523', '911', '91', '587', '451', '14', '422', '253', '595', '195', '867', '275', '235', '838', '717', '63', '232', '215', '186', '115', '704', '605', '875', '619', '600', '323', '508', '315', '710', '684', '117', '724', '591', '552', '731', '476', '255', '924', '76', '877', '844', '568', '538', '243', '65', '585', '534', '465', '942', '75', '28', '25', '676', '251', '89', '559', '357', '217', '802', '683', '610', '449', '370', '338', '316', '288', '923', '908', '579', '121', '831', '752', '518', '501', '77', '562', '872', '860', '686', '658', '383', '274', '118', '771', '569', '331', '168', '167', '84', '526', '460', '402', '24', '746', '719', '638', '101', '865', '761', '73', '48', '372', '324', '778', '69', '54', '430', '329', '148', '829', '770', '768', '734', '423', '206', '106', '97', '930', '540', '180', '176', '164', '821', '679', '582', '432', '421', '287', '2', '931', '122', '910', '745', '480', '893', '8', '546', '483', '190', '100', '81', '647', '633', '507', '411', '367', '365', '348', '227', '161', '839', '787', '753', '490', '470', '395', '37', '257', '96', '539', '52', '481', '248', '187', '793', '79', '780', '492', '428', '135', '834', '525', '396', '3', '277', '123', '912', '735', '557', '528', '464', '382', '283', '218', '183', '555', '41', '388', '850', '573', '440', '412', '371', '322', '272', '157', '154', '138', '12', '113', '836', '413', '403', '350', '226', '939', '929', '902', '852', '677', '519', '590', '45', '237', '20', '185', '114', '904', '891', '869', '792', '703', '667', '603', '599', '580', '494', '284', '137', '837', '670', '668', '574', '265', '259', '112', '900', '623', '530', '368', '126', '714', '556', '467', '434', '424', '404', '351', '340', '884', '861', '616', '589', '529', '469', '358', '30', '203', '173', '781', '722', '644', '611', '352', '204', '179', '162', '906', '853', '760', '674', '597', '433', '349', '32', '937', '905', '692', '641', '550', '515', '199', '935', '859', '794', '784', '74', '718', '614', '196', '755', '730', '71', '695', '680', '66', '646', '448', '175', '779', '767', '607', '517', '502', '211', '169', '156', '817', '777', '689', '576', '446', '420', '31', '149', '917', '814', '743', '739', '673', '565', '477', '473', '40', '192', '136', '874', '754', '68', '675', '635', '564', '337', '29', '803', '789', '772', '750', '737', '701', '509', '491', '462', '438', '377', '366', '209', '208', '142', '108', '928', '925', '759', '691', '626', '419', '306', '285', '150', '845', '841', '702', '544', '471', '439', '427', '390', '898', '783', '720', '713', '67', '563', '531', '522', '510', '376', '229', '165', '131', '129', '879', '813', '80', '769', '706', '696', '672', '657', '602', '238', '146', '103', '827', '819', '800', '775', '678', '613', '609', '581', '53', '410', '375', '219', '182', '171', '17', '98', '842', '785', '744', '628', '612', '604', '583', '46', '408', '359', '289', '261', '225', '191', '172', '920', '915', '909', '856', '810', '801', '797', '742', '728', '575', '485', '482', '355', '333', '304', '281', '247', '133', '120', '832', '822', '816', '791', '725', '598', '594', '549', '47', '414', '362', '353', '35', '27', '212', '134', '799', '736', '726', '688', '656', '649', '584', '578', '511', '50', '444', '443', '415', '4', '356', '33', '260', '240', '139', '124', '111', '914', '86', '855', '849', '808', '765', '662', '547', '520', '51', '461', '386', '319', '278', '266', '258', '241', '163', '153', '127', '105', '941', '9', '857', '723', '681', '652', '570', '513', '400', '39', '384', '369', '335', '317', '282', '273', '245', '220', '205', '170', '155', '132', '107', '88', '876', '858', '820', '818', '811', '78', '762', '729', '700', '687', '651', '61', '55', '516', '512', '431', '341', '310', '302', '252', '231', '228', '140', '93', '926', '895', '888', '873', '866', '824', '812', '809', '740', '732', '685', '636', '631', '596', '572', '571', '558', '475', '441', '418', '364', '36', '34', '309', '300', '242', '202', '19', '166', '147', '143']\n"
     ]
    }
   ],
   "source": [
    "print(user_ids_vocabulary.get_vocabulary())\n"
   ]
  },
  {
   "cell_type": "code",
   "execution_count": 17,
   "metadata": {},
   "outputs": [
    {
     "name": "stdout",
     "output_type": "stream",
     "text": [
      "['[UNK]', \"Ulee's Gold (1997)\", 'That Darn Cat! (1997)', 'Substance of Fire, The (1996)', 'Sliding Doors (1998)', 'Nightwatch (1997)', 'Money Talks (1997)', 'Kull the Conqueror (1997)', 'Ice Storm, The (1997)', 'Hurricane Streets (1998)', 'Hugo Pool (1997)', 'Fly Away Home (1996)', 'Desperate Measures (1998)', 'Designated Mourner, The (1997)', 'Deceiver (1997)', 'Chasing Amy (1997)', 'Chairman of the Board (1998)', 'Butcher Boy, The (1998)', 'Body Snatchers (1993)', 'Á köldum klaka (Cold Fever) (1994)', 'unknown', 'Zeus and Roxanne (1997)', \"Young Poisoner's Handbook, The (1995)\", 'Young Guns II (1990)', 'Young Guns (1988)', 'Young Frankenstein (1974)', 'You So Crazy (1994)', 'Year of the Horse (1997)', 'Yankee Zulu (1994)', 'Wyatt Earp (1994)', 'Wrong Trousers, The (1993)', 'World of Apu, The (Apur Sansar) (1959)', \"Wooden Man's Bride, The (Wu Kui) (1994)\", 'Wonderland (1997)', 'Wonderful, Horrible Life of Leni Riefenstahl, The (1993)', 'Women, The (1939)', 'Woman in Question, The (1950)', 'Wolf (1994)', 'Wizard of Oz, The (1939)', 'Witness (1985)', 'Withnail and I (1987)', 'With Honors (1994)', 'Wishmaster (1997)', 'Winter Guest, The (1997)', 'Winnie the Pooh and the Blustery Day (1968)', 'Wings of the Dove, The (1997)', 'Wings of Desire (1987)', 'Wings of Courage (1995)', 'Window to Paris (1994)', 'Willy Wonka and the Chocolate Factory (1971)', \"William Shakespeare's Romeo and Juliet (1996)\", 'Wild Things (1998)', 'Wild Reeds (1994)', 'Wild Bunch, The (1969)', 'Wild Bill (1995)', 'Wild America (1997)', 'Wife, The (1995)', \"Widows' Peak (1994)\", 'Whole Wide World, The (1996)', 'White Squall (1996)', \"White Man's Burden (1995)\", 'White Balloon, The (1995)', 'While You Were Sleeping (1995)', 'When the Cats Away (Chacun cherche son chat) (1996)', 'When a Man Loves a Woman (1994)', 'When We Were Kings (1996)', 'When Night Is Falling (1995)', 'When Harry Met Sally... (1989)', \"What's Love Got to Do with It (1993)\", \"What's Eating Gilbert Grape (1993)\", 'What Happened Was... (1994)', \"Wes Craven's New Nightmare (1994)\", \"Wend Kuuni (God's Gift) (1982)\", 'Welcome to the Dollhouse (1995)', 'Welcome To Sarajevo (1997)', \"Weekend at Bernie's (1989)\", 'Wedding Singer, The (1998)', 'Wedding Gift, The (1994)', 'Wedding Bell Blues (1996)', 'Waterworld (1995)', 'Washington Square (1997)', 'Warriors of Virtue (1997)', 'War, The (1994)', 'War at Home, The (1996)', 'War Room, The (1993)', 'Wallace & Gromit: The Best of Aardman Animation (1996)', 'Walking and Talking (1996)', 'Walking Dead, The (1995)', 'Walkabout (1971)', 'Walk in the Sun, A (1945)', 'Walk in the Clouds, A (1995)', 'Waiting to Exhale (1995)', 'Waiting for Guffman (1996)', 'Wag the Dog (1997)', 'Volcano (1997)', 'Visitors, The (Visiteurs, Les) (1993)', 'Virtuosity (1995)', 'Village of the Damned (1995)', 'Vie est belle, La (Life is Rosey) (1987)', 'Victor/Victoria (1982)', 'Very Natural Thing, A (1974)', 'Very Brady Sequel, A (1996)', 'Vertigo (1958)', 'Vermont Is For Lovers (1992)', 'Vermin (1998)', 'Venice/Venice (1992)', 'Vegas Vacation (1997)', 'Vanya on 42nd Street (1994)', 'Van, The (1996)', 'Vampire in Brooklyn (1995)', 'Usual Suspects, The (1995)', 'Up in Smoke (1978)', 'Up Close and Personal (1996)', 'Unzipped (1995)', 'Until the End of the World (Bis ans Ende der Welt) (1991)', 'Unstrung Heroes (1995)', 'Unhook the Stars (1996)', 'Unforgiven (1992)', 'Unforgettable (1996)', 'Underworld (1997)', 'Underneath, The (1995)', 'Underground (1995)', 'Under Siege 2: Dark Territory (1995)', 'Under Siege (1992)', 'Unbearable Lightness of Being, The (1988)', 'Umbrellas of Cherbourg, The (Parapluies de Cherbourg, Les) (1964)', 'U.S. Marshalls (1998)', 'U Turn (1997)', 'Two or Three Things I Know About Her (1966)', 'Two if by Sea (1996)', 'Two Much (1996)', 'Two Friends (1986) ', 'Two Deaths (1995)', 'Two Bits (1995)', 'Twister (1996)', 'Twisted (1996)', 'Twin Town (1997)', 'Twilight (1998)', 'Twelve Monkeys (1995)', 'Twelfth Night (1996)', 'Turning, The (1992)', 'Turbulence (1997)', 'Turbo: A Power Rangers Movie (1997)', 'Truth or Consequences, N.M. (1997)', 'Truth About Cats & Dogs, The (1996)', 'Trust (1990)', 'Truman Show, The (1998)', 'True Romance (1993)', 'True Lies (1994)', 'True Crime (1995)', 'Trigger Effect, The (1996)', 'Trial by Jury (1994)', 'Trial and Error (1997)', 'Trees Lounge (1996)', 'Treasure of the Sierra Madre, The (1948)', 'Traveller (1997)', 'Transformers: The Movie, The (1986)', 'Trainspotting (1996)', 'Toy Story (1995)', 'Touki Bouki (Journey of the Hyena) (1973)', 'Tough and Deadly (1995)', 'Touch of Evil (1958)', 'Touch (1997)', 'Total Eclipse (1995)', 'Top Hat (1935)', 'Top Gun (1986)', 'Tomorrow Never Dies (1997)', 'Tommy Boy (1995)', 'Tombstone (1993)', 'Tom and Huck (1995)', 'Tom & Viv (1994)', 'Tokyo Fist (1995)', 'To Wong Foo, Thanks for Everything! Julie Newmar (1995)', 'To Live (Huozhe) (1994)', 'To Kill a Mockingbird (1962)', 'To Have, or Not (1995)', 'To Gillian on Her 37th Birthday (1996)', 'To Die For (1995)', 'To Cross the Rubicon (1991)', 'To Catch a Thief (1955)', 'To Be or Not to Be (1942)', 'Titanic (1997)', 'Tin Men (1987)', 'Tin Drum, The (Blechtrommel, Die) (1979)', 'Tin Cup (1996)', 'Timecop (1994)', 'Time to Kill, A (1996)', 'Time Tracers (1995)', 'Tigrero: A Film That Was Never Made (1994)', 'Tie That Binds, The (1995)', 'Tie Me Up! Tie Me Down! (1990)', 'Threesome (1994)', 'Three Wishes (1995)', 'Three Musketeers, The (1993)', 'Three Lives and Only One Death (1996)', 'Three Colors: White (1994)', 'Three Colors: Red (1994)', 'Three Colors: Blue (1993)', 'Three Caballeros, The (1945)', 'Thousand Acres, A (1997)', 'This Is Spinal Tap (1984)', 'Thirty-Two Short Films About Glenn Gould (1993)', 'Third Man, The (1949)', 'Thinner (1996)', \"Things to Do in Denver when You're Dead (1995)\", 'Thin Man, The (1934)', 'Thin Line Between Love and Hate, A (1996)', 'Thin Blue Line, The (1988)', 'Thieves (Voleurs, Les) (1996)', 'They Made Me a Criminal (1939)', 'Theodore Rex (1995)', 'The Innocent (1994)', 'The Deadly Cure (1996)', 'The Courtyard (1995)', 'That Thing You Do! (1996)', 'That Old Feeling (1997)', 'That Darn Cat! (1965)', 'Tetsuo II: Body Hammer (1992)', 'Terror in a Texas Town (1958)', 'Terminator, The (1984)', 'Terminator 2: Judgment Day (1991)', 'Terminal Velocity (1994)', 'Temptress Moon (Feng Yue) (1996)', 'Telling Lies in America (1997)', 'Taxi Driver (1976)', 'Target (1995)', 'Tank Girl (1995)', 'Tango Lesson, The (1997)', 'Talking About Sex (1994)', 'Tales from the Hood (1995)', 'Tales from the Crypt Presents: Bordello of Blood (1996)', 'Tales From the Crypt Presents: Demon Knight (1995)', 'Tainted (1998)', 'T-Men (1947)', 'Symphonie pastorale, La (1946)', 'Sword in the Stone, The (1963)', 'Switchblade Sisters (1975)', 'Switchback (1997)', 'Swiss Family Robinson (1960)', 'Swingers (1996)', 'Swimming with Sharks (1995)', 'Swept from the Sea (1997)', 'Sweet Nothing (1995)', 'Sweet Hereafter, The (1997)', 'Swan Princess, The (1994)', 'Suture (1993)', 'Surviving the Game (1994)', 'Surviving Picasso (1996)', 'Supercop (1992)', 'Super Mario Bros. (1993)', 'Sunset Park (1996)', 'Sunset Blvd. (1950)', 'Sunchaser, The (1996)', 'Sum of Us, The (1994)', 'Sudden Manhattan (1996)', 'Sudden Death (1995)', 'Substitute, The (1996)', 'SubUrbia (1997)', 'Stupids, The (1996)', 'Stuart Saves His Family (1995)', 'Striptease (1996)', 'Stripes (1981)', 'Striking Distance (1993)', 'Strictly Ballroom (1992)', 'Streetcar Named Desire, A (1951)', 'Street Fighter (1994)', 'Strawberry and Chocolate (Fresa y chocolate) (1993)', 'Stranger, The (1994)', 'Stranger in the House (1997)', 'Strange Days (1995)', 'Story of Xinghua, The (1993)', 'Stonewall (1995)', 'Sting, The (1973)', \"Stephen King's The Langoliers (1995)\", 'Stefano Quantestorie (1993)', 'Steel (1997)', 'Stealing Beauty (1996)', 'Steal Big, Steal Little (1995)', 'Starship Troopers (1997)', 'Stars Fell on Henrietta, The (1995)', 'Stargate (1994)', 'Star Wars (1977)', 'Star Trek: The Wrath of Khan (1982)', 'Star Trek: The Motion Picture (1979)', 'Star Trek: Generations (1994)', 'Star Trek: First Contact (1996)', 'Star Trek VI: The Undiscovered Country (1991)', 'Star Trek V: The Final Frontier (1989)', 'Star Trek IV: The Voyage Home (1986)', 'Star Trek III: The Search for Spock (1984)', 'Star Maps (1997)', \"Star Maker, The (Uomo delle stelle, L') (1995)\", 'Star Kid (1997)', 'Stand by Me (1986)', 'Stalker (1979)', 'Stalingrad (1993)', 'Stag (1997)', 'Squeeze (1996)', 'Spy Hard (1996)', 'Sprung (1997)', 'Spitfire Grill, The (1996)', 'Spirits of the Dead (Tre passi nel delirio) (1968)', 'Spice World (1997)', 'Sphere (1998)', 'Spellbound (1945)', 'Speed 2: Cruise Control (1997)', 'Speed (1994)', 'Speechless (1994)', 'Species (1995)', 'Specialist, The (1994)', 'Spawn (1997)', 'Spanking the Monkey (1994)', 'Spanish Prisoner, The (1997)', 'Space Jam (1996)', 'Sound of Music, The (1965)', 'Soul Food (1997)', \"Sophie's Choice (1982)\", 'Son in Law (1993)', 'Somewhere in Time (1980)', 'Something to Talk About (1995)', \"Someone Else's America (1995)\", 'Somebody to Love (1994)', \"Some Mother's Son (1996)\", 'Some Like It Hot (1959)', 'Some Kind of Wonderful (1987)', 'Some Folks Call It a Sling Blade (1993)', 'Solo (1996)', 'So I Married an Axe Murderer (1993)', 'So Dear to My Heart (1949)', 'Snow White and the Seven Dwarfs (1937)', 'Sneakers (1992)', 'Smoke (1995)', \"Smilla's Sense of Snow (1997)\", 'Smile Like Yours, A (1997)', 'Small Faces (1995)', 'Sliver (1993)', 'Slingshot, The (1993)', 'Sling Blade (1996)', 'Sleepover (1995)', 'Sleepless in Seattle (1993)', 'Sleepers (1996)', 'Sleeper (1973)', 'Sixth Man, The (1997)', 'Six Degrees of Separation (1993)', 'Sirens (1994)', \"Singin' in the Rain (1952)\", 'Simple Wish, A (1997)', 'Simple Twist of Fate, A (1994)', 'Silence of the Palace, The (Saimt el Qusur) (1994)', 'Silence of the Lambs, The (1991)', 'Showgirls (1995)', 'Show, The (1995)', 'Short Cuts (1993)', 'Shopping (1994)', 'Shooting Fish (1997)', 'Shooter, The (1995)', 'Shining, The (1980)', 'Shine (1996)', 'Shiloh (1997)', \"She's the One (1996)\", \"She's So Lovely (1997)\", 'Shawshank Redemption, The (1994)', 'Shanghai Triad (Yao a yao yao dao waipo qiao) (1995)', 'Shallow Grave (1994)', 'Shall We Dance? (1996)', 'Shall We Dance? (1937)', 'Shaggy Dog, The (1959)', 'Shadows (Cienie) (1988)', 'Shadowlands (1993)', 'Shadow, The (1994)', 'Shadow of Angels (Schatten der Engel) (1976)', 'Shadow Conspiracy (1997)', 'Sgt. Bilko (1996)', 'Sexual Life of the Belgians, The (1994)', 'Sex, Lies, and Videotape (1989)', 'Seventh Seal, The (Sjunde inseglet, Det) (1957)', 'Seven Years in Tibet (1997)', 'Seven (Se7en) (1995)', 'Set It Off (1996)', 'Serial Mom (1994)', 'Senseless (1998)', 'Sense and Sensibility (1995)', 'Selena (1997)', 'Secrets & Lies (1996)', 'Secret of Roan Inish, The (1994)', 'Secret Garden, The (1993)', 'Secret Agent, The (1996)', 'Secret Adventures of Tom Thumb, The (1993)', 'Second Jungle Book: Mowgli & Baloo, The (1997)', 'Searching for Bobby Fischer (1993)', 'Search for One-eye Jimmy, The (1996)', 'Screamers (1995)', 'Scream of Stone (Schrei aus Stein) (1991)', 'Scream 2 (1997)', 'Scream (1996)', 'Scout, The (1994)', 'Schizopolis (1996)', \"Schindler's List (1993)\", 'Scarlet Letter, The (1995)', 'Scarlet Letter, The (1926)', 'Savage Nights (Nuits fauves, Les) (1992)', 'Santa with Muscles (1996)', 'Santa Clause, The (1994)', 'Salut cousin! (1996)', 'Saint, The (1997)', 'Saint of Fort Washington, The (1993)', 'Safe Passage (1994)', 'Safe (1995)', 'Sabrina (1995)', 'Sabrina (1954)', 'S.F.W. (1994)', 'Run of the Country, The (1995)', 'Rumble in the Bronx (1995)', 'Ruling Class, The (1972)', 'Rudy (1993)', 'Ruby in Paradise (1993)', 'Rough Magic (1995)', 'Rosewood (1997)', 'Rosencrantz and Guildenstern Are Dead (1990)', \"Roseanna's Grave (For Roseanna) (1997)\", 'Roommates (1995)', 'Room with a View, A (1986)', \"Romy and Michele's High School Reunion (1997)\", 'Romper Stomper (1992)', 'Romeo Is Bleeding (1993)', 'Roman Holiday (1953)', 'Rocket Man (1997)', 'Rock, The (1996)', 'Robocop 3 (1993)', 'Robin Hood: Prince of Thieves (1991)', 'Robin Hood: Men in Tights (1993)', \"Robert A. Heinlein's The Puppet Masters (1994)\", 'Rob Roy (1995)', 'Road to Wellville, The (1994)', 'River Wild, The (1994)', 'Rising Sun (1993)', 'Ripe (1996)', 'Right Stuff, The (1983)', 'Ridicule (1996)', 'Richie Rich (1994)', 'Richard III (1995)', \"Rich Man's Wife, The (1996)\", 'Rhyme & Reason (1997)', 'Return of the Pink Panther, The (1974)', 'Return of the Jedi (1983)', 'Return of Martin Guerre, The (Retour de Martin Guerre, Le) (1982)', 'Restoration (1995)', 'Reservoir Dogs (1992)', 'Replacement Killers, The (1998)', 'Rent-a-Kid (1995)', 'Rendezvous in Paris (Rendez-vous de Paris, Les) (1995)', 'Renaissance Man (1994)', 'Remains of the Day, The (1993)', 'Reluctant Debutante, The (1958)', 'Relic, The (1997)', 'Relative Fear (1994)', 'Ref, The (1994)', 'Red Rock West (1992)', 'Red Firecracker, Green Firecracker (1994)', 'Red Corner (1997)', 'Reckless (1995)', 'Rebel Without a Cause (1955)', 'Rebecca (1940)', 'Rear Window (1954)', 'Reality Bites (1994)', 'Real Genius (1985)', 'Ready to Wear (Pret-A-Porter) (1994)', 'Raw Deal (1948)', 'Ransom (1996)', 'Ran (1985)', 'Raising Arizona (1987)', 'Raise the Red Lantern (1991)', 'Rainmaker, The (1997)', 'Raiders of the Lost Ark (1981)', 'Raging Bull (1980)', 'Radioland Murders (1994)', 'Race the Sun (1996)', 'Quiz Show (1994)', 'Quiet Room, The (1996)', 'Quiet Man, The (1952)', 'Quick and the Dead, The (1995)', 'Quest, The (1996)', 'Queen Margot (Reine Margot, La) (1994)', 'Quartier Mozart (1992)', \"Pyromaniac's Love Story, A (1995)\", 'Pushing Hands (1992)', 'Purple Noon (1960)', 'Pump Up the Volume (1990)', 'Pulp Fiction (1994)', 'Psycho (1960)', 'Prophecy, The (1995)', 'Prophecy II, The (1998)', 'Promise, The (Versprechen, Das) (1994)', 'Promesse, La (1996)', 'Program, The (1993)', 'Professional, The (1994)', 'Private Parts (1997)', 'Private Benjamin (1980)', 'Prisoner of the Mountains (Kavkazsky Plennik) (1996)', 'Princess Caraboo (1994)', 'Princess Bride, The (1987)', 'Primary Colors (1998)', 'Primal Fear (1996)', 'Priest (1994)', 'Price Above Rubies, A (1998)', 'Pretty Woman (1990)', 'Prefontaine (1997)', \"Preacher's Wife, The (1996)\", 'Power 98 (1995)', 'Powder (1995)', 'Postman, The (1997)', 'Postino, Il (1994)', 'Portrait of a Lady, The (1996)', 'Ponette (1996)', 'Pompatus of Love, The (1996)', 'Pollyanna (1960)', 'Police Story 4: Project S (Chao ji ji hua) (1993)', 'Poison Ivy II (1995)', 'Poetic Justice (1993)', 'Pocahontas (1995)', 'Playing God (1997)', 'Platoon (1986)', 'Pinocchio (1940)', 'Pink Floyd - The Wall (1982)', 'Pillow Book, The (1995)', 'Pie in the Sky (1995)', 'Picture Perfect (1997)', 'Picture Bride (1995)', 'Picnic (1955)', 'Piano, The (1993)', 'Philadelphia Story, The (1940)', 'Philadelphia (1993)', 'Phenomenon (1996)', 'Phat Beach (1996)', \"Pharaoh's Army (1995)\", 'Phantoms (1998)', 'Phantom, The (1996)', \"Pete's Dragon (1977)\", 'Pest, The (1997)', 'Persuasion (1995)', 'Perfect World, A (1993)', 'Perfect Candidate, A (1996)', 'Perez Family, The (1995)', 'People vs. Larry Flynt, The (1996)', 'Penny Serenade (1941)', 'Peacemaker, The (1997)', 'Patton (1970)', 'Paths of Glory (1957)', 'Pather Panchali (1955)', 'Passion Fish (1992)', 'Party Girl (1995)', 'Paris, Texas (1984)', 'Paris, France (1993)', 'Paris Was a Woman (1995)', 'Paris Is Burning (1990)', 'Parent Trap, The (1961)', 'Paradise Road (1997)', 'Paradise Lost: The Child Murders at Robin Hood Hills (1996)', 'Paper, The (1994)', 'Panther (1995)', 'Palookaville (1996)', 'Palmetto (1998)', 'Pallbearer, The (1996)', 'Pagemaster, The (1994)', 'Outlaw, The (1943)', 'Outbreak (1995)', 'Out to Sea (1997)', 'Other Voices, Other Rooms (1997)', 'Othello (1995)', 'Oscar & Lucinda (1997)', 'Orlando (1993)', 'Original Gangstas (1996)', 'Operation Dumbo Drop (1995)', 'Open Season (1996)', 'Only You (1994)', 'One Night Stand (1997)', \"One Flew Over the Cuckoo's Nest (1975)\", 'One Fine Day (1996)', 'Once Were Warriors (1994)', 'Once Upon a Time... When We Were Colored (1995)', 'Once Upon a Time in the West (1969)', 'Once Upon a Time in America (1984)', 'On Golden Pond (1981)', 'Omen, The (1976)', 'Oliver & Company (1988)', 'Old Yeller (1957)', 'Old Man and the Sea, The (1958)', 'Old Lady Who Walked in the Sea, The (Vieille qui marchait dans la mer, La) (1991)', 'Office Killer (1997)', 'Of Love and Shadows (1994)', 'Of Human Bondage (1934)', 'Object of My Affection, The (1998)', 'Nénette et Boni (1996)', 'Nutty Professor, The (1996)', 'Nowhere (1997)', 'Now and Then (1995)', 'Notorious (1946)', 'Nothing to Lose (1994)', 'Nothing Personal (1995)', 'Nosferatu a Venezia (1986)', 'Nosferatu (Nosferatu, eine Symphonie des Grauens) (1922)', 'North by Northwest (1959)', 'North (1994)', 'Normal Life (1996)', \"Nobody's Fool (1994)\", 'Nobody Loves Me (Keiner liebt mich) (1994)', 'No Escape (1994)', 'Nixon (1995)', 'Ninotchka (1939)', 'Nine Months (1995)', 'Nina Takes a Lover (1994)', 'Nil By Mouth (1997)', 'Nikita (La Femme Nikita) (1990)', 'Nightmare on Elm Street, A (1984)', 'Nightmare Before Christmas, The (1993)', 'Night on Earth (1991)', 'Night of the Living Dead (1968)', 'Night Flier (1997)', 'Night Falls on Manhattan (1997)', 'Nico Icon (1995)', 'Nick of Time (1995)', 'Niagara, Niagara (1997)', 'Next Step, The (1995)', 'Next Karate Kid, The (1994)', 'Newton Boys, The (1998)', 'New York Cop (1996)', 'New Jersey Drive (1995)', 'New Age, The (1994)', 'NeverEnding Story III, The (1994)', 'Net, The (1995)', 'Neon Bible, The (1995)', 'Nemesis 2: Nebula (1995)', 'Nelly & Monsieur Arnaud (1995)', 'Nell (1994)', 'Natural Born Killers (1994)', \"National Lampoon's Senior Trip (1995)\", 'Naked in New York (1994)', 'Naked Gun 33 1/3: The Final Insult (1994)', 'Naked (1993)', 'Nadja (1994)', 'Mystery Science Theater 3000: The Movie (1996)', 'My Own Private Idaho (1991)', 'My Man Godfrey (1936)', 'My Life as a Dog (Mitt liv som hund) (1985)', \"My Life and Times With Antonin Artaud (En compagnie d'Antonin Artaud) (1993)\", 'My Left Foot (1989)', 'My Fellow Americans (1996)', 'My Favorite Year (1982)', 'My Favorite Season (1993)', 'My Family (1995)', 'My Fair Lady (1964)', 'My Crazy Life (Mi vida loca) (1993)', \"My Best Friend's Wedding (1997)\", 'Mute Witness (1994)', \"Muriel's Wedding (1994)\", 'Murder, My Sweet (1944)', 'Murder in the First (1995)', 'Murder at 1600 (1997)', 'Muppet Treasure Island (1996)', 'Multiplicity (1996)', 'Mulholland Falls (1996)', 'Much Ado About Nothing (1993)', 'Mrs. Winterbourne (1996)', 'Mrs. Parker and the Vicious Circle (1994)', 'Mrs. Doubtfire (1993)', 'Mrs. Dalloway (1997)', 'Mrs. Brown (Her Majesty, Mrs. Brown) (1997)', 'Mr. Wrong (1996)', 'Mr. Wonderful (1993)', 'Mr. Smith Goes to Washington (1939)', 'Mr. Magoo (1997)', 'Mr. Jones (1993)', \"Mr. Holland's Opus (1995)\", 'Mouse Hunt (1997)', 'Mother Night (1996)', 'Mother (1996)', 'Mostro, Il (1994)', 'Mortal Kombat: Annihilation (1997)', 'Mortal Kombat (1995)', 'Moonlight and Valentino (1995)', \"Monty Python's Life of Brian (1979)\", 'Monty Python and the Holy Grail (1974)', 'Month by the Lake, A (1995)', 'Money Train (1995)', 'Mondo (1996)', 'Moll Flanders (1996)', 'Modern Affair, A (1995)', 'Mixed Nuts (1994)', 'Misérables, Les (1995)', 'Mission: Impossible (1996)', 'Mirror Has Two Faces, The (1996)', 'Mirage (1995)', 'Miracle on 34th Street (1994)', 'Mina Tannenbaum (1994)', 'Mimic (1997)', \"Miller's Crossing (1990)\", 'Mille bolle blu (1993)', 'Milk Money (1994)', 'Mighty, The (1998)', 'Mighty Morphin Power Rangers: The Movie (1995)', 'Mighty Aphrodite (1995)', 'Midnight in the Garden of Good and Evil (1997)', 'Midnight Dancers (Sibak) (1994)', \"Microcosmos: Le peuple de l'herbe (1996)\", 'Michael Collins (1996)', 'Michael (1996)', 'Miami Rhapsody (1995)', 'Metro (1997)', 'Metisse (Café au Lait) (1993)', 'Mercury Rising (1998)', 'Menace II Society (1993)', 'Men of Means (1998)', 'Men in Black (1997)', 'Men With Guns (1997)', 'Meet Wally Sparks (1997)', 'Meet Me in St. Louis (1944)', 'Meet John Doe (1941)', 'Mediterraneo (1991)', \"McHale's Navy (1997)\", 'Maybe, Maybe Not (Bewegte Mann, Der) (1994)', 'Maya Lin: A Strong Clear Vision (1994)', 'Maximum Risk (1996)', 'Maverick (1994)', 'Matilda (1996)', 'MatchMaker, The (1997)', \"Mat' i syn (1997)\", 'Mask, The (1994)', \"Mary Shelley's Frankenstein (1994)\", 'Mary Reilly (1996)', 'Mary Poppins (1964)', \"Marvin's Room (1996)\", 'Mars Attacks! (1996)', 'Marlene Dietrich: Shadow and Light (1996) ', 'Marked for Death (1990)', 'Mark of Zorro, The (1940)', \"Margaret's Museum (1995)\", 'Manon of the Spring (Manon des sources) (1986)', 'Manny & Lo (1996)', 'Manhattan Murder Mystery (1993)', 'Manhattan (1979)', 'Manchurian Candidate, The (1962)', 'Man of the Year (1995)', 'Man of the House (1995)', 'Man of No Importance, A (1994)', 'Man in the Iron Mask, The (1998)', 'Man from Down Under, The (1943)', 'Man Without a Face, The (1993)', 'Man Who Would Be King, The (1975)', 'Man Who Knew Too Little, The (1997)', 'Mamma Roma (1962)', 'Maltese Falcon, The (1941)', 'Mallrats (1995)', 'Malice (1993)', 'Major Payne (1994)', 'Magnificent Seven, The (1954)', 'Magic Hour, The (1998)', 'Madonna: Truth or Dare (1991)', 'Madness of King George, The (1994)', 'Made in America (1993)', 'Madame Butterfly (1995)', 'Mad Love (1995)', 'Mad Dog Time (1996)', 'Mad City (1997)', 'Machine, The (1994)', 'Ma vie en rose (My Life in Pink) (1997)', 'MURDER and murder (1996)', 'M. Butterfly (1993)', 'M*A*S*H (1970)', 'M (1931)', 'Low Life, The (1994)', 'Low Down Dirty Shame, A (1994)', \"Lover's Knot (1996)\", 'Love! Valour! Compassion! (1997)', 'Love in the Afternoon (1957)', 'Love and a .45 (1994)', 'Love and Other Catastrophes (1996)', 'Love and Death on Long Island (1997)', 'Love Serenade (1996)', 'Love Jones (1997)', 'Love Is All There Is (1996)', 'Love Bug, The (1969)', 'Love Affair (1994)', 'Love & Human Remains (1993)', 'Lotto Land (1995)', 'Lost in Space (1998)', 'Lost World: Jurassic Park, The (1997)', 'Lost Horizon (1937)', 'Lost Highway (1997)', 'Losing Isaiah (1995)', 'Losing Chase (1996)', 'Lord of Illusions (1995)', 'Looking for Richard (1996)', 'Long Kiss Goodnight, The (1996)', 'Lone Star (1996)', 'Locusts, The (1997)', 'Loch Ness (1995)', 'Local Hero (1983)', 'Loaded (1994)', 'Living in Oblivion (1995)', 'Live Nude Girls (1995)', 'Little Women (1994)', 'Little Rascals, The (1994)', 'Little Princess, The (1939)', 'Little Princess, A (1995)', 'Little Odessa (1994)', 'Little Lord Fauntleroy (1936)', 'Little City (1998)', 'Little Buddha (1993)', 'Little Big League (1994)', 'Lion King, The (1994)', 'Line King: Al Hirschfeld, The (1996)', 'Like Water For Chocolate (Como agua para chocolate) (1992)', 'Lightning Jack (1994)', 'Life with Mikey (1993)', 'Life Less Ordinary, A (1997)', 'Liebelei (1933)', 'Liar Liar (1997)', 'Letter From Death Row, A (1998)', 'Leopard Son, The (1996)', 'Legends of the Fall (1994)', 'Legal Deceit (1997)', 'Leaving Las Vegas (1995)', 'Leave It to Beaver (1997)', 'Leading Man, The (1996)', 'Lay of the Land, The (1997)', 'Lawrence of Arabia (1962)', 'Lawnmower Man, The (1992)', 'Lawnmower Man 2: Beyond Cyberspace (1996)', 'Laura (1944)', 'Late Bloomers (1996)', 'Last of the Mohicans, The (1992)', 'Last Time I Saw Paris, The (1954)', 'Last Time I Committed Suicide, The (1997)', 'Last Supper, The (1995)', 'Last Summer in the Hamptons (1995)', 'Last Man Standing (1996)', 'Last Klezmer: Leopold Kozlowski, His Life and Music, The (1995)', 'Last Dance (1996)', 'Last Action Hero (1993)', 'Lassie (1994)', 'Lashou shentan (1992)', 'Larger Than Life (1996)', 'Land and Freedom (Tierra y libertad) (1995)', 'Land Before Time III: The Time of the Great Giving (1995) (V)', 'Lamerica (1994)', 'Ladybird Ladybird (1994)', 'Lady of Burlesque (1943)', 'L.A. Confidential (1997)', 'Kundun (1997)', 'Koyaanisqatsi (1983)', 'Kolya (1996)', 'Kissed (1996)', 'Kiss the Girls (1997)', 'Kiss of Death (1995)', 'Kiss Me, Guido (1997)', 'Kingpin (1996)', 'King of the Hill (1993)', 'King of New York (1990)', 'Kim (1950)', 'Killing Zoe (1994)', 'Killing Fields, The (1984)', 'Killer: A Journal of Murder (1995)', 'Killer (Bulletproof Heart) (1994)', 'Kika (1993)', 'Kids in the Hall: Brain Candy (1996)', 'Kids (1995)', \"Kid in King Arthur's Court, A (1995)\", 'Kicking and Screaming (1995)', 'Kicked in the Head (1997)', 'Keys to Tulsa (1997)', 'Kazaam (1996)', 'Kaspar Hauser (1993)', 'Kansas City (1996)', 'Kama Sutra: A Tale of Love (1996)', 'Kalifornia (1993)', 'Just Cause (1995)', 'Jury Duty (1995)', 'Juror, The (1996)', 'Jurassic Park (1993)', \"Jupiter's Wife (1994)\", 'Junior (1994)', 'Jungle2Jungle (1997)', 'Jungle Book, The (1994)', 'Jumanji (1995)', 'Judgment Night (1993)', 'Judge Dredd (1995)', 'Jude (1996)', 'Joy Luck Club, The (1993)', 'Journey of August King, The (1995)', 'Johns (1996)', 'Johnny Mnemonic (1995)', 'Johnny 100 Pesos (1993)', \"Joe's Apartment (1996)\", 'Jingle All the Way (1996)', 'Jimmy Hollywood (1994)', 'Jerry Maguire (1996)', 'Jerky Boys, The (1994)', 'Jeffrey (1995)', 'Jefferson in Paris (1995)', 'Jean de Florette (1986)', 'Jaws 3-D (1983)', 'Jaws 2 (1978)', 'Jaws (1975)', \"Jason's Lyric (1994)\", 'Jane Eyre (1996)', 'James and the Giant Peach (1996)', 'Jade (1995)', \"Jackie Chan's First Strike (1996)\", 'Jackie Brown (1997)', 'Jackal, The (1997)', 'Jack and Sarah (1995)', 'Jack (1996)', 'JLG/JLG - autoportrait de décembre (1994)', \"It's a Wonderful Life (1946)\", \"It's My Party (1995)\", 'It Takes Two (1995)', 'It Happened One Night (1934)', 'It Could Happen to You (1994)', 'Island of Dr. Moreau, The (1996)', 'Invitation, The (Zaproszenie) (1986)', 'Inventing the Abbotts (1997)', 'Intimate Relations (1996)', 'Interview with the Vampire (1994)', 'Inspector General, The (1949)', 'Innocents, The (1961)', 'Innocent Sleep, The (1995)', 'Inkwell, The (1994)', 'Infinity (1996)', 'Indiana Jones and the Last Crusade (1989)', 'Indian in the Cupboard, The (1995)', 'Indian Summer (1996)', 'Independence Day (ID4) (1996)', 'Incognito (1997)', 'In the Realm of the Senses (Ai no corrida) (1976)', 'In the Name of the Father (1993)', 'In the Mouth of Madness (1995)', 'In the Line of Fire (1993)', 'In the Line of Duty 2 (1987)', 'In the Company of Men (1997)', 'In the Bleak Midwinter (1995)', 'In the Army Now (1994)', 'In Love and War (1996)', 'In & Out (1997)', 'Immortal Beloved (1994)', 'Ill Gotten Gains (1997)', 'If Lucy Fell (1996)', 'I.Q. (1994)', 'I, Worst of All (Yo, la peor de todas) (1990)', \"I'm Not Rappaport (1996)\", \"I'll Do Anything (1994)\", 'I Shot Andy Warhol (1996)', 'I Love Trouble (1994)', 'I Like It Like That (1994)', 'I Know What You Did Last Summer (1997)', \"I Don't Want to Talk About It (De eso no se habla) (1993)\", \"I Can't Sleep (J'ai pas sommeil) (1994)\", 'Hush (1998)', 'Hunted, The (1995)', 'Hunt for Red October, The (1990)', 'Hungarian Fairy Tale, A (1987)', 'Hunchback of Notre Dame, The (1996)', 'Hudsucker Proxy, The (1994)', 'Howling, The (1981)', 'How to Make an American Quilt (1995)', 'How to Be a Player (1997)', 'Houseguest (1994)', 'House of the Spirits, The (1993)', 'House of Yes, The (1997)', 'House Party 3 (1994)', 'House Arrest (1996)', 'Hour of the Pig, The (1993)', 'Hotel de Love (1996)', 'Hot Shots! Part Deux (1993)', 'Hostile Intentions (1994)', 'Horseman on the Roof, The (Hussard sur le toit, Le) (1995)', 'Horse Whisperer, The (1998)', 'Hoop Dreams (1994)', 'Hoodlum (1997)', 'Homeward Bound: The Incredible Journey (1993)', 'Homeward Bound II: Lost in San Francisco (1996)', 'Home for the Holidays (1995)', 'Home Alone 3 (1997)', 'Home Alone (1990)', 'Homage (1995)', 'Hollow Reed (1996)', 'His Girl Friday (1940)', 'Highlander III: The Sorcerer (1994)', 'Highlander (1986)', 'Higher Learning (1995)', 'High School High (1996)', 'High Noon (1952)', 'Hideaway (1995)', 'Here Comes Cookie (1935)', 'Hercules (1997)', 'Herbie Rides Again (1974)', 'Henry V (1989)', 'Hellraiser: Bloodline (1996)', 'Heidi Fleiss: Hollywood Madam (1995) ', 'Hedd Wyn (1992)', 'Heavyweights (1994)', 'Heavy Metal (1981)', 'Heavy (1995)', 'Heavenly Creatures (1994)', \"Heaven's Prisoners (1996)\", 'Heaven & Earth (1993)', 'Heathers (1989)', 'Heat (1995)', 'Hearts and Minds (1996)', 'Hear My Song (1991)', 'Head Above Water (1996)', 'He Walked by Night (1948)', 'Haunted World of Edward D. Wood Jr., The (1995)', 'Hate (Haine, La) (1995)', 'Harriet the Spy (1996)', 'Harold and Maude (1971)', 'Harlem (1993)', 'Hard Target (1993)', 'Hard Rain (1998)', 'Hard Eight (1996)', 'Happy Gilmore (1996)', 'Hana-bi (1997)', 'Hamlet (1996)', 'Halloween: The Curse of Michael Myers (1995)', 'Half Baked (1998)', 'Hackers (1995)', 'Gumby: The Movie (1995)', 'Guilty as Sin (1993)', 'Guantanamera (1994)', 'Grumpier Old Men (1995)', 'Groundhog Day (1993)', 'Grosse Pointe Blank (1997)', 'Grosse Fatigue (1994)', 'Grifters, The (1990)', \"Gridlock'd (1997)\", 'Great White Hype, The (1996)', 'Great Race, The (1965)', 'Great Expectations (1998)', 'Great Escape, The (1963)', 'Great Dictator, The (1940)', 'Great Day in Harlem, A (1994)', 'Grease 2 (1982)', 'Grease (1978)', 'Grateful Dead (1995)', 'Grass Harp, The (1995)', 'Grand Day Out, A (1992)', 'Graduate, The (1967)', 'Grace of My Heart (1996)', 'Gordy (1995)', 'Goofy Movie, A (1995)', 'GoodFellas (1990)', 'Good, The Bad and The Ugly, The (1966)', 'Good Will Hunting (1997)', 'Good Morning (1971)', 'Good Man in Africa, A (1994)', 'Gone with the Wind (1939)', \"Gone Fishin' (1997)\", 'GoldenEye (1995)', 'Golden Earrings (1947)', 'Gold Diggers: The Secret of Bear Mountain (1995)', 'Godfather: Part II, The (1974)', 'Godfather, The (1972)', 'Go Fish (1994)', 'Glory (1989)', 'Glimmer Man, The (1996)', 'Glengarry Glen Ross (1992)', 'Glass Shield, The (1994)', 'Girls Town (1996)', 'Girl in the Cadillac (1995)', 'Girl 6 (1996)', \"Gilligan's Island: The Movie (1998)\", 'Gigi (1958)', 'Giant (1956)', 'Ghosts of Mississippi (1996)', 'Ghost in the Shell (Kokaku kidotai) (1995)', 'Ghost and the Darkness, The (1996)', 'Ghost and Mrs. Muir, The (1947)', 'Ghost (1990)', 'Getting Even with Dad (1994)', 'Getting Away With Murder (1996)', 'Getaway, The (1994)', 'Get on the Bus (1996)', 'Get Shorty (1995)', 'Geronimo: An American Legend (1993)', 'Germinal (1993)', 'Georgia (1995)', 'George of the Jungle (1997)', 'Gay Divorcee, The (1934)', 'Gattaca (1997)', 'Gate of Heavenly Peace, The (1995)', 'Gaslight (1944)', 'Garden of Finzi-Contini, The (Giardino dei Finzi-Contini, Il) (1970)', 'Gang Related (1997)', 'Gandhi (1982)', 'Game, The (1997)', 'Gabbeh (1996)', 'G.I. Jane (1997)', 'Further Gesture, A (1996)', 'Funny Face (1957)', 'Funeral, The (1996)', 'Full Speed (1996)', 'Full Monty, The (1997)', 'Full Metal Jacket (1987)', 'Fugitive, The (1993)', 'From Dusk Till Dawn (1996)', 'Frisk (1995)', 'Frighteners, The (1996)', 'Fried Green Tomatoes (1991)', 'Friday (1995)', 'Fresh (1994)', 'French Twist (Gazon maudit) (1995)', 'French Kiss (1995)', 'Freeway (1996)', 'Free Willy 3: The Rescue (1997)', 'Free Willy 2: The Adventure Home (1995)', 'Free Willy (1993)', 'Frankie Starlight (1995)', 'Foxfire (1996)', 'Fox and the Hound, The (1981)', 'Four Weddings and a Funeral (1994)', 'Four Rooms (1995)', 'Four Days in September (1997)', 'Forrest Gump (1994)', 'Forget Paris (1995)', 'Foreign Student (1994)', 'Foreign Correspondent (1940)', 'Forbidden Planet (1956)', 'Forbidden Christ, The (Cristo proibito, Il) (1950)', 'For the Moment (1994)', 'For Whom the Bell Tolls (1943)', 'For Richer or Poorer (1997)', 'For Love or Money (1993)', 'For Ever Mozart (1996)', 'Fools Rush In (1997)', 'Fog, The (1980)', 'Fluke (1995)', 'Flubber (1997)', 'Flower of My Secret, The (Flor de mi secreto, La) (1995)', 'Flirting With Disaster (1996)', 'Flirt (1995)', 'Flipper (1996)', 'Flintstones, The (1994)', 'Flesh and Bone (1993)', 'Fled (1996)', 'Fish Called Wanda, A (1988)', 'First Wives Club, The (1996)', 'First Knight (1995)', 'First Kid (1996)', 'Firm, The (1993)', 'Firestorm (1998)', 'Fire on the Mountain (1996)', 'Fire Down Below (1997)', 'Fille seule, La (A Single Girl) (1995)', 'Fifth Element, The (1997)', 'Fierce Creatures (1997)', 'Field of Dreams (1989)', 'Female Perversions (1996)', 'Feeling Minnesota (1996)', 'Feast of July (1995)', 'Fearless (1993)', 'Fear, The (1995)', 'Fear of a Black Hat (1993)', 'Fear (1996)', 'Favor, The (1994)', 'Fausto (1993)', 'Faust (1994)', \"Fathers' Day (1997)\", 'Father of the Bride Part II (1995)', 'Father of the Bride (1950)', 'Fatal Instinct (1993)', 'Faster Pussycat! Kill! Kill! (1965)', 'Fast, Cheap & Out of Control (1997)', 'Farmer & Chase (1995)', 'Farinelli: il castrato (1994)', 'Fargo (1996)', 'Farewell to Arms, A (1932)', 'Farewell My Concubine (1993)', 'Far From Home: The Adventures of Yellow Dog (1995)', 'Fantasia (1940)', 'Fan, The (1996)', 'Family Thing, A (1996)', 'Falling in Love Again (1980)', 'Fallen (1998)', 'Fall (1997)', 'Faithful (1996)', 'FairyTale: A True Story (1997)', 'Fair Game (1995)', 'Faces (1968)', 'Face/Off (1997)', \"Eye of Vichy, The (Oeil de Vichy, L') (1993)\", 'Eye for an Eye (1996)', 'Extreme Measures (1996)', 'Exotica (1994)', 'Exit to Eden (1994)', 'Executive Decision (1996)', 'Excess Baggage (1997)', 'Evita (1996)', 'Evil Dead II (1987)', 'Everyone Says I Love You (1996)', 'Every Other Weekend (1990)', 'Everest (1998)', 'Event Horizon (1997)', 'Evening Star, The (1996)', 'Even Cowgirls Get the Blues (1993)', \"Eve's Bayou (1997)\", 'Etz Hadomim Tafus (Under the Domin Tree) (1994)', 'Escape to Witch Mountain (1975)', 'Escape from New York (1981)', 'Escape from L.A. (1996)', 'Eraser (1996)', 'Entertaining Angels: The Dorothy Day Story (1996)', 'Englishman Who Went Up a Hill, But Came Down a Mountain, The (1995)', 'English Patient, The (1996)', \"Enfer, L' (1994)\", 'Endless Summer 2, The (1994)', 'Enchanted April (1991)', 'Empire Strikes Back, The (1980)', 'Emma (1996)', 'Eighth Day, The (1996)', 'Edge, The (1997)', 'Eddie (1996)', \"Ed's Next Move (1996)\", 'Ed Wood (1994)', 'Ed (1996)', 'Eat Drink Man Woman (1994)', 'East of Eden (1955)', 'E.T. the Extra-Terrestrial (1982)', 'Duoluo tianshi (1995)', 'Dunston Checks In (1996)', 'Dumbo (1941)', 'Dumb & Dumber (1994)', 'Duck Soup (1933)', 'Drunks (1995)', 'Drop Zone (1994)', 'Drop Dead Fred (1991)', 'Dream With the Fishes (1997)', 'Dream Man (1995)', 'Dragonheart (1996)', 'Dracula: Dead and Loving It (1995)', 'Dr. Strangelove or: How I Learned to Stop Worrying and Love the Bomb (1963)', 'Down by Law (1986)', 'Down Periscope (1996)', 'Double vie de Véronique, La (Double Life of Veronique, The) (1991)', 'Double Team (1997)', 'Double Happiness (1994)', 'Doors, The (1991)', 'Doom Generation, The (1995)', 'Donnie Brasco (1997)', \"Don't Be a Menace to South Central While Drinking Your Juice in the Hood (1996)\", 'Don Juan DeMarco (1995)', 'Dolores Claiborne (1994)', 'Diva (1981)', 'Disclosure (1994)', 'Dirty Dancing (1987)', 'Dingo (1992)', 'Die xue shuang xiong (Killer, The) (1989)', 'Die Hard: With a Vengeance (1995)', 'Die Hard 2 (1990)', 'Die Hard (1988)', 'Dial M for Murder (1954)', 'Diabolique (1996)', \"Devil's Own, The (1997)\", \"Devil's Advocate, The (1997)\", 'Devil in a Blue Dress (1995)', 'Destiny Turns on the Radio (1995)', 'Desperado (1995)', 'Desert Winds (1995)', 'Denise Calls Up (1995)', 'Demolition Man (1993)', 'Delta of Venus (1994)', 'Delicatessen (1991)', 'Deer Hunter, The (1978)', 'Deep Rising (1998)', 'Deconstructing Harry (1997)', 'Death in the Garden (Mort en ce jardin, La) (1956)', 'Death in Brunswick (1991)', 'Death and the Maiden (1994)', 'Dear God (1996)', 'Dead Presidents (1995)', 'Dead Poets Society (1989)', 'Dead Man Walking (1995)', 'Dead Man (1995)', 'Dazed and Confused (1993)', 'Daytrippers, The (1996)', 'Days of Thunder (1990)', 'Daylight (1996)', 'Day the Sun Turned Cold, The (Tianguo niezi) (1994)', 'Day the Earth Stood Still, The (1951)', 'Davy Crockett, King of the Wild Frontier (1955)', 'Dave (1993)', 'Dark City (1998)', \"Dante's Peak (1997)\", \"Daniel Defoe's Robinson Crusoe (1996)\", 'Dangerous Minds (1995)', 'Dangerous Ground (1997)', 'Dangerous Beauty (1998)', 'Dances with Wolves (1990)', 'Damsel in Distress, A (1937)', 'Daens (1992)', 'Dadetown (1995)', 'D3: The Mighty Ducks (1996)', 'Cérémonie, La (1995)', 'Cyrano de Bergerac (1990)', 'Cyclo (1995)', 'Cutthroat Island (1995)', 'Cure, The (1995)', 'Curdled (1996)', 'Crying Game, The (1992)', 'Cry, the Beloved Country (1995)', 'Crumb (1994)', 'Crude Oasis, The (1995)', 'Crucible, The (1996)', 'Crows and Sparrows (1949)', 'Crow: City of Angels, The (1996)', 'Crow, The (1994)', 'Crossing Guard, The (1995)', 'Crossfire (1947)', 'Crooklyn (1994)', 'Cronos (1992)', 'Critical Care (1997)', 'Crimson Tide (1995)', 'Crash (1996)', 'Craft, The (1996)', 'Cowboy Way, The (1994)', 'Courage Under Fire (1996)', 'Country Life (1994)', 'Cosi (1996)', 'Corrina, Corrina (1994)', 'Copycat (1995)', 'Cops and Robbersons (1994)', 'Cop Land (1997)', 'Cool Runnings (1993)', 'Cool Hand Luke (1967)', 'Cook the Thief His Wife & Her Lover, The (1989)', 'Convent, The (Convento, O) (1995)', 'Contempt (Mépris, Le) (1963)', 'Contact (1997)', 'Conspiracy Theory (1997)', 'Congo (1995)', 'Coneheads (1993)', 'Condition Red (1995)', 'Conan the Barbarian (1981)', 'Con Air (1997)', 'Commandments (1997)', 'Color of Night (1994)', 'Colonel Chabert, Le (1994)', 'Collectionneuse, La (1967)', 'Coldblooded (1995)', 'Cold Comfort Farm (1995)', 'Cobb (1994)', 'Clueless (1995)', 'Close Shave, A (1995)', 'Clockwork Orange, A (1971)', 'Clockers (1995)', 'Cliffhanger (1993)', 'Client, The (1994)', 'Clerks (1994)', 'Clear and Present Danger (1994)', 'Clean Slate (Coup de Torchon) (1981)', 'Clean Slate (1994)', 'City of Lost Children, The (1995)', 'City of Industry (1997)', 'City of Angels (1998)', \"City Slickers II: The Legend of Curly's Gold (1994)\", 'City Hall (1996)', 'Citizen Ruth (1996)', 'Citizen Kane (1941)', 'Circle of Friends (1995)', 'Cinema Paradiso (1988)', 'Cinderella (1950)', 'Ciao, Professore! (1993)', 'Chungking Express (1994)', 'Christmas Carol, A (1938)', 'Chinatown (1974)', 'Children of the Revolution (1996)', 'Children of the Corn: The Gathering (1996)', 'Chasers (1994)', 'Charade (1963)', 'Chamber, The (1996)', 'Chain Reaction (1996)', 'Century (1993)', 'Cemetery Man (Dellamorte Dellamore) (1994)', 'Cement Garden, The (1993)', 'Celtic Pride (1996)', 'Celluloid Closet, The (1995)', 'Celestial Clockwork (1994)', 'Caught (1996)', 'Catwalk (1995)', \"Cats Don't Dance (1997)\", 'Cat on a Hot Tin Roof (1958)', 'Cat People (1982)', 'Castle Freak (1995)', 'Casper (1995)', 'Casino (1995)', 'Casablanca (1942)', 'Carrington (1995)', 'Carried Away (1996)', 'Carrie (1976)', 'Carpool (1996)', 'Caro Diario (Dear Diary) (1994)', 'Carmen Miranda: Bananas Is My Business (1994)', \"Carlito's Way (1993)\", 'Careful (1992)', 'Career Girls (1997)', 'Captives (1994)', 'Cape Fear (1991)', 'Cape Fear (1962)', 'Candyman: Farewell to the Flesh (1995)', 'Candyman (1992)', 'Candidate, The (1972)', 'Canadian Bacon (1994)', 'Calendar Girl (1993)', 'Cable Guy, The (1996)', 'Cabin Boy (1994)', \"C'est arrivé près de chez vous (1992)\", 'Bye Bye, Love (1995)', 'Butterfly Kiss (1995)', 'Butch Cassidy and the Sundance Kid (1969)', 'Bushwhacked (1995)', 'Burnt Offerings (1976)', 'Burnt By the Sun (1994)', 'Bullets Over Broadway (1994)', 'Bulletproof (1996)', 'Buddy (1997)', 'Browning Version, The (1994)', 'Brothers in Trouble (1995)', 'Brothers McMullen, The (1995)', \"Brother's Kiss, A (1997)\", 'Brother Minister: The Assassination of Malcolm X (1994)', 'Bronx Tale, A (1993)', 'Broken English (1996)', 'Broken Arrow (1996)', 'Bringing Up Baby (1938)', 'Bridges of Madison County, The (1995)', 'Bridge on the River Kwai, The (1957)', 'Bride of Frankenstein (1935)', 'Breaking the Waves (1996)', \"Breakfast at Tiffany's (1961)\", 'Breakdown (1997)', 'Bread and Chocolate (Pane e cioccolata) (1973)', 'Brazil (1985)', 'Braveheart (1995)', 'Brassed Off (1996)', \"Bram Stoker's Dracula (1992)\", 'Braindead (1992)', 'Brady Bunch Movie, The (1995)', 'Boys, Les (1997)', 'Boys on the Side (1995)', 'Boys of St. Vincent, The (1993)', 'Boys in Venice (1996)', 'Boys Life (1995)', 'Boys (1996)', \"Boy's Life 2 (1997)\", 'Boxing Helena (1993)', 'Bound (1996)', 'Bottle Rocket (1996)', 'Booty Call (1997)', 'Boot, Das (1981)', 'Boomerang (1992)', 'Boogie Nights (1997)', 'Bonnie and Clyde (1967)', 'Bonheur, Le (1965)', 'Bogus (1996)', 'Body Snatcher, The (1945)', 'Body Parts (1991)', 'Bob Roberts (1992)', 'Blues Brothers, The (1980)', 'Blues Brothers 2000 (1998)', 'Blue in the Face (1995)', 'Blue Sky (1994)', 'Blue Chips (1994)', 'Blue Angel, The (Blaue Engel, Der) (1930)', 'Blown Away (1994)', 'Bloody Child, The (1996)', 'Bloodsport 2 (1995)', \"Blood For Dracula (Andy Warhol's Dracula) (1974)\", 'Blood Beach (1981)', 'Blood & Wine (1997)', 'Blob, The (1958)', 'Bliss (1997)', 'Blink (1994)', 'Blade Runner (1982)', 'Black Sheep (1996)', 'Black Beauty (1994)', 'Bitter Sugar (Azucar Amargo) (1996)', 'Bitter Moon (1992)', 'Birds, The (1963)', 'Birdcage, The (1996)', 'Bird of Prey (1996)', 'Bio-Dome (1996)', 'Billy Madison (1995)', 'Big Squeeze, The (1996)', 'Big Sleep, The (1946)', 'Big One, The (1997)', 'Big Night (1996)', 'Big Lebowski, The (1998)', 'Big Green, The (1995)', 'Big Bully (1996)', 'Big Blue, The (Grand bleu, Le) (1988)', 'Big Bang Theory, The (1994)', 'Bhaji on the Beach (1993)', 'Beyond Rangoon (1995)', 'Beyond Bedlam (1993)', 'Bewegte Mann, Der (1994)', 'Beverly Hills Ninja (1997)', 'Beverly Hills Cop III (1994)', 'Beverly Hillbillies, The (1993)', 'Better Off Dead... (1985)', 'Best of the Best 3: No Turning Back (1995)', 'Best Men (1997)', 'Bent (1997)', 'Benny & Joon (1993)', 'Ben-Hur (1959)', 'Belle de jour (1967)', 'Believers, The (1987)', 'Being There (1979)', 'Being Human (1993)', 'Before the Rain (Pred dozhdot) (1994)', 'Before and After (1996)', 'Before Sunrise (1995)', 'Bedknobs and Broomsticks (1971)', 'Bed of Roses (1996)', 'Beavis and Butt-head Do America (1996)', 'Beauty and the Beast (1991)', 'Beautiful Thing (1996)', 'Beautiful Girls (1996)', 'Beautician and the Beast, The (1997)', 'Beat the Devil (1954)', 'Beans of Egypt, Maine, The (1994)', 'Bean (1997)', 'Baton Rouge (1988)', 'Batman Returns (1992)', 'Batman Forever (1995)', 'Batman (1989)', 'Batman & Robin (1997)', 'Bastard Out of Carolina (1996)', 'Basquiat (1996)', 'Basketball Diaries, The (1995)', 'Basic Instinct (1992)', 'Barcelona (1994)', 'Barbarella (1968)', 'Barb Wire (1996)', 'Band Wagon, The (1953)', 'Bananas (1971)', 'Balto (1995)', 'Ballad of Narayama, The (Narayama Bushiko) (1958)', 'Bad Taste (1987)', 'Bad Moon (1996)', 'Bad Girls (1994)', 'Bad Company (1995)', 'Bad Boys (1995)', 'Backbeat (1993)', 'Back to the Future (1985)', 'Babysitter, The (1995)', 'Babyfever (1994)', 'Baby-Sitters Club, The (1995)', 'Babe (1995)', 'B. Monkey (1998)', 'B*A*P*S (1997)', 'Ayn Rand: A Sense of Life (1997)', 'Awfully Big Adventure, An (1995)', 'Austin Powers: International Man of Mystery (1997)', 'August (1996)', 'Audrey Rose (1977)', 'Associate, The (1996)', 'Assignment, The (1997)', 'Assassins (1995)', 'As Good As It Gets (1997)', 'Arsenic and Old Lace (1944)', 'Arrival, The (1996)', 'Around the World in 80 Days (1956)', 'Army of Darkness (1993)', 'Aristocats, The (1970)', 'Apt Pupil (1998)', \"April Fool's Day (1986)\", 'Apple Dumpling Gang, The (1975)', 'Apostle, The (1997)', 'Apollo 13 (1995)', 'Apocalypse Now (1979)', 'Apartment, The (1960)', 'Aparajito (1956)', \"Antonia's Line (1995)\", 'Another Stakeout (1993)', 'Annie Hall (1977)', 'Anne Frank Remembered (1995)', 'Anna Karenina (1997)', 'Anna (1996)', 'Angus (1995)', 'Angels in the Outfield (1994)', 'Angels and Insects (1995)', 'Angela (1995)', 'Angel on My Shoulder (1946)', 'Angel and the Badman (1947)', 'Angel Baby (1995)', 'Andre (1994)', 'Anastasia (1997)', 'Anaconda (1997)', 'An Unforgettable Summer (1994)', 'Amos & Andrew (1993)', 'Amityville: Dollhouse (1996)', 'Amityville: A New Generation (1993)', 'Amityville II: The Possession (1982)', 'Amityville Horror, The (1979)', 'Amityville Curse, The (1990)', 'Amityville 3-D (1983)', \"Amityville 1992: It's About Time (1992)\", 'Amistad (1997)', 'American in Paris, An (1951)', 'American Werewolf in London, An (1981)', 'American Strays (1996)', 'American President, The (1995)', 'American Dream (1990)', 'American Buffalo (1996)', 'Amazing Panda Adventure, The (1995)', 'Amateur (1994)', 'Amadeus (1984)', 'Alphaville (1965)', 'All Things Fair (1996)', 'All Over Me (1997)', 'All Dogs Go to Heaven 2 (1996)', 'All About Eve (1950)', 'Aliens (1986)', 'Alien: Resurrection (1997)', 'Alien 3 (1992)', 'Alien (1979)', 'Alice in Wonderland (1951)', 'Albino Alligator (1996)', 'Alaska (1996)', 'Aladdin and the King of Thieves (1996)', 'Aladdin (1992)', 'Akira (1988)', 'Airheads (1994)', 'Air Up There, The (1994)', 'Air Force One (1997)', 'Air Bud (1997)', 'Aiqing wansui (1994)', 'Age of Innocence, The (1993)', 'Afterglow (1997)', 'African Queen, The (1951)', 'Affair to Remember, An (1957)', 'Adventures of Robin Hood, The (1938)', 'Adventures of Priscilla, Queen of the Desert, The (1994)', 'Adventures of Pinocchio, The (1996)', 'Addiction, The (1995)', 'Addicted to Love (1997)', 'Addams Family Values (1993)', 'Across the Sea of Time (1995)', 'Ace Ventura: When Nature Calls (1995)', 'Ace Ventura: Pet Detective (1994)', 'Abyss, The (1989)', 'Absolute Power (1997)', 'Above the Rim (1994)', 'A Chef in Love (1996)', '8 Seconds (1994)', '8 Heads in a Duffel Bag (1997)', '8 1/2 (1963)', '39 Steps, The (1935)', '3 Ninjas: High Noon At Mega Mountain (1998)', '2001: A Space Odyssey (1968)', '20,000 Leagues Under the Sea (1954)', '2 Days in the Valley (1996)', '187 (1997)', '12 Angry Men (1957)', '101 Dalmatians (1996)', '1-900 (1994)', \"'Til There Was You (1997)\"]\n"
     ]
    }
   ],
   "source": [
    "print(movie_titles_vocabulary.get_vocabulary())\n"
   ]
  },
  {
   "cell_type": "code",
   "execution_count": 18,
   "metadata": {},
   "outputs": [
    {
     "name": "stdout",
     "output_type": "stream",
     "text": [
      "tf.Tensor(b'You So Crazy (1994)', shape=(), dtype=string)\n",
      "tf.Tensor(b'Love Is All There Is (1996)', shape=(), dtype=string)\n",
      "tf.Tensor(b'Fly Away Home (1996)', shape=(), dtype=string)\n",
      "tf.Tensor(b'In the Line of Duty 2 (1987)', shape=(), dtype=string)\n",
      "tf.Tensor(b'Niagara, Niagara (1997)', shape=(), dtype=string)\n"
     ]
    }
   ],
   "source": [
    "for movie in movies.take(5):\n",
    "    print(movie)\n"
   ]
  },
  {
   "cell_type": "markdown",
   "metadata": {},
   "source": [
    "Define a model\n",
    "We can define a TFRS model by inheriting from tfrs.Model and implementing the compute_loss method:"
   ]
  },
  {
   "cell_type": "markdown",
   "metadata": {},
   "source": [
    "User Embeddings:\n",
    "\n",
    "self.user_model(features[\"user_id\"])\n",
    "The function takes the user_id tensor from the features dictionary and passes it through self.user_model.\n",
    "self.user_model is likely an embedding layer or neural network that converts user IDs into dense vectors (embeddings)."
   ]
  },
  {
   "cell_type": "code",
   "execution_count": 19,
   "metadata": {},
   "outputs": [],
   "source": [
    "class MovieLensModel(tfrs.Model):\n",
    "  # We derive from a custom base class to help reduce boilerplate. Under the hood,\n",
    "  # these are still plain Keras Models.\n",
    "\n",
    "  def __init__(\n",
    "      self,\n",
    "      user_model: tf.keras.Model,\n",
    "      movie_model: tf.keras.Model,\n",
    "      task: tfrs.tasks.Retrieval):\n",
    "    super().__init__()\n",
    "\n",
    "    # Set up user and movie representations.\n",
    "    self.user_model = user_model\n",
    "    self.movie_model = movie_model\n",
    "\n",
    "    # Set up a retrieval task.\n",
    "    self.task = task\n",
    "\n",
    "  def compute_loss(self, features: Dict[Text, tf.Tensor], training=False) -> tf.Tensor:\n",
    "    # Define how the loss is computed.\n",
    "\n",
    "    user_embeddings = self.user_model(features[\"user_id\"])\n",
    "    movie_embeddings = self.movie_model(features[\"movie_title\"])\n",
    "\n",
    "    return self.task(user_embeddings, movie_embeddings)"
   ]
  },
  {
   "cell_type": "markdown",
   "metadata": {},
   "source": [
    "Keys like \"user_id\" and \"movie_title\" point to tensors representing user and movie identifiers, respectively."
   ]
  },
  {
   "cell_type": "markdown",
   "metadata": {},
   "source": [
    "self.user_model(features[\"user_id\"])\n",
    "The function takes the user_id tensor from the features dictionary and passes it through self.user_model.\n",
    "self.user_model is likely an embedding layer or neural network that converts user IDs into dense vectors (embeddings)."
   ]
  },
  {
   "cell_type": "markdown",
   "metadata": {},
   "source": [
    "Define the two models and the retrieval task."
   ]
  },
  {
   "cell_type": "code",
   "execution_count": 28,
   "metadata": {},
   "outputs": [
    {
     "data": {
      "text/plain": [
       "944"
      ]
     },
     "execution_count": 28,
     "metadata": {},
     "output_type": "execute_result"
    }
   ],
   "source": [
    "user_ids_vocabulary.vocabulary_size()"
   ]
  },
  {
   "cell_type": "code",
   "execution_count": 29,
   "metadata": {},
   "outputs": [
    {
     "data": {
      "text/plain": [
       "1665"
      ]
     },
     "execution_count": 29,
     "metadata": {},
     "output_type": "execute_result"
    }
   ],
   "source": [
    "movie_titles_vocabulary.vocabulary_size()"
   ]
  },
  {
   "cell_type": "code",
   "execution_count": 31,
   "metadata": {},
   "outputs": [],
   "source": [
    "# Define user and movie models.\n",
    "user_model = tf.keras.Sequential([\n",
    "    user_ids_vocabulary,\n",
    "    tf.keras.layers.Embedding(input_dim=user_ids_vocabulary.vocabulary_size(), output_dim=64)\n",
    "])\n",
    "movie_model = tf.keras.Sequential([\n",
    "    movie_titles_vocabulary,\n",
    "    tf.keras.layers.Embedding(input_dim=movie_titles_vocabulary.vocabulary_size(), output_dim=64)\n",
    "])\n",
    "\n"
   ]
  },
  {
   "cell_type": "code",
   "execution_count": 32,
   "metadata": {},
   "outputs": [
    {
     "data": {
      "text/html": [
       "<pre style=\"white-space:pre;overflow-x:auto;line-height:normal;font-family:Menlo,'DejaVu Sans Mono',consolas,'Courier New',monospace\"><span style=\"font-weight: bold\">Model: \"sequential_2\"</span>\n",
       "</pre>\n"
      ],
      "text/plain": [
       "\u001b[1mModel: \"sequential_2\"\u001b[0m\n"
      ]
     },
     "metadata": {},
     "output_type": "display_data"
    },
    {
     "data": {
      "text/html": [
       "<pre style=\"white-space:pre;overflow-x:auto;line-height:normal;font-family:Menlo,'DejaVu Sans Mono',consolas,'Courier New',monospace\">┏━━━━━━━━━━━━━━━━━━━━━━━━━━━━━━━━━┳━━━━━━━━━━━━━━━━━━━━━━━━┳━━━━━━━━━━━━━━━┓\n",
       "┃<span style=\"font-weight: bold\"> Layer (type)                    </span>┃<span style=\"font-weight: bold\"> Output Shape           </span>┃<span style=\"font-weight: bold\">       Param # </span>┃\n",
       "┡━━━━━━━━━━━━━━━━━━━━━━━━━━━━━━━━━╇━━━━━━━━━━━━━━━━━━━━━━━━╇━━━━━━━━━━━━━━━┩\n",
       "│ string_lookup (<span style=\"color: #0087ff; text-decoration-color: #0087ff\">StringLookup</span>)    │ ?                      │   <span style=\"color: #00af00; text-decoration-color: #00af00\">0</span> (unbuilt) │\n",
       "├─────────────────────────────────┼────────────────────────┼───────────────┤\n",
       "│ embedding_3 (<span style=\"color: #0087ff; text-decoration-color: #0087ff\">Embedding</span>)         │ ?                      │   <span style=\"color: #00af00; text-decoration-color: #00af00\">0</span> (unbuilt) │\n",
       "└─────────────────────────────────┴────────────────────────┴───────────────┘\n",
       "</pre>\n"
      ],
      "text/plain": [
       "┏━━━━━━━━━━━━━━━━━━━━━━━━━━━━━━━━━┳━━━━━━━━━━━━━━━━━━━━━━━━┳━━━━━━━━━━━━━━━┓\n",
       "┃\u001b[1m \u001b[0m\u001b[1mLayer (type)                   \u001b[0m\u001b[1m \u001b[0m┃\u001b[1m \u001b[0m\u001b[1mOutput Shape          \u001b[0m\u001b[1m \u001b[0m┃\u001b[1m \u001b[0m\u001b[1m      Param #\u001b[0m\u001b[1m \u001b[0m┃\n",
       "┡━━━━━━━━━━━━━━━━━━━━━━━━━━━━━━━━━╇━━━━━━━━━━━━━━━━━━━━━━━━╇━━━━━━━━━━━━━━━┩\n",
       "│ string_lookup (\u001b[38;5;33mStringLookup\u001b[0m)    │ ?                      │   \u001b[38;5;34m0\u001b[0m (unbuilt) │\n",
       "├─────────────────────────────────┼────────────────────────┼───────────────┤\n",
       "│ embedding_3 (\u001b[38;5;33mEmbedding\u001b[0m)         │ ?                      │   \u001b[38;5;34m0\u001b[0m (unbuilt) │\n",
       "└─────────────────────────────────┴────────────────────────┴───────────────┘\n"
      ]
     },
     "metadata": {},
     "output_type": "display_data"
    },
    {
     "data": {
      "text/html": [
       "<pre style=\"white-space:pre;overflow-x:auto;line-height:normal;font-family:Menlo,'DejaVu Sans Mono',consolas,'Courier New',monospace\"><span style=\"font-weight: bold\"> Total params: </span><span style=\"color: #00af00; text-decoration-color: #00af00\">0</span> (0.00 B)\n",
       "</pre>\n"
      ],
      "text/plain": [
       "\u001b[1m Total params: \u001b[0m\u001b[38;5;34m0\u001b[0m (0.00 B)\n"
      ]
     },
     "metadata": {},
     "output_type": "display_data"
    },
    {
     "data": {
      "text/html": [
       "<pre style=\"white-space:pre;overflow-x:auto;line-height:normal;font-family:Menlo,'DejaVu Sans Mono',consolas,'Courier New',monospace\"><span style=\"font-weight: bold\"> Trainable params: </span><span style=\"color: #00af00; text-decoration-color: #00af00\">0</span> (0.00 B)\n",
       "</pre>\n"
      ],
      "text/plain": [
       "\u001b[1m Trainable params: \u001b[0m\u001b[38;5;34m0\u001b[0m (0.00 B)\n"
      ]
     },
     "metadata": {},
     "output_type": "display_data"
    },
    {
     "data": {
      "text/html": [
       "<pre style=\"white-space:pre;overflow-x:auto;line-height:normal;font-family:Menlo,'DejaVu Sans Mono',consolas,'Courier New',monospace\"><span style=\"font-weight: bold\"> Non-trainable params: </span><span style=\"color: #00af00; text-decoration-color: #00af00\">0</span> (0.00 B)\n",
       "</pre>\n"
      ],
      "text/plain": [
       "\u001b[1m Non-trainable params: \u001b[0m\u001b[38;5;34m0\u001b[0m (0.00 B)\n"
      ]
     },
     "metadata": {},
     "output_type": "display_data"
    }
   ],
   "source": [
    "user_model.summary()"
   ]
  },
  {
   "cell_type": "markdown",
   "metadata": {},
   "source": [
    "tfrs.tasks.Retrieval:\n",
    "This class is used to define a retrieval task in a recommendation system.\n",
    "The goal of a retrieval task is to select a small set of relevant candidates (e.g., movies) from a large pool based on some relevance measure.\n",
    "It handles:\n",
    "Computing the loss (e.g., contrastive loss for user-movie embeddings).\n",
    "Tracking metrics to evaluate model performance (e.g., top-k accuracy)."
   ]
  },
  {
   "cell_type": "markdown",
   "metadata": {},
   "source": [
    "metrics=tfrs.metrics.FactorizedTopK(...):\n",
    "Specifies the evaluation metrics for the retrieval task.\n",
    "FactorizedTopK computes ranking metrics such as recall and precision based on the top-k most relevant items predicted for a user."
   ]
  },
  {
   "cell_type": "markdown",
   "metadata": {},
   "source": [
    "movies.batch(128).map(movie_model):\n",
    "Purpose: Defines the candidate set (all potential movies) for the top-k evaluation.\n",
    "Process:\n",
    "movies: Likely a tf.data.Dataset containing all the movies in the dataset.\n",
    ".batch(128): Groups the movies into batches of 128 for efficient processing.\n",
    ".map(movie_model): Converts raw movie data into embeddings using the movie_model.\n",
    "The result is a batched and embedded representation of all movies, which will be used to compare against user embeddings.\n"
   ]
  },
  {
   "cell_type": "code",
   "execution_count": 33,
   "metadata": {},
   "outputs": [],
   "source": [
    "movie_embeddings =movies.batch(128).map(movie_model)\n",
    "  "
   ]
  },
  {
   "cell_type": "code",
   "execution_count": 34,
   "metadata": {},
   "outputs": [
    {
     "data": {
      "text/plain": [
       "<_MapDataset element_spec=TensorSpec(shape=(None, 64), dtype=tf.float32, name=None)>"
      ]
     },
     "execution_count": 34,
     "metadata": {},
     "output_type": "execute_result"
    }
   ],
   "source": [
    "movie_embeddings"
   ]
  },
  {
   "cell_type": "code",
   "execution_count": 35,
   "metadata": {},
   "outputs": [
    {
     "data": {
      "text/plain": [
       "<tf.Tensor: shape=(128, 64), dtype=float32, numpy=\n",
       "array([[ 0.02136875,  0.02848491, -0.00921426, ...,  0.02290625,\n",
       "         0.04572007, -0.01772724],\n",
       "       [-0.02265123, -0.04321151, -0.03735344, ..., -0.00237501,\n",
       "        -0.01710071,  0.0100952 ],\n",
       "       [-0.02893539,  0.03342885,  0.00305834, ..., -0.00753188,\n",
       "        -0.03864139,  0.0211953 ],\n",
       "       ...,\n",
       "       [ 0.04203833, -0.00471202, -0.03317744, ..., -0.04513462,\n",
       "         0.00371362,  0.04884627],\n",
       "       [-0.01309742,  0.02871958, -0.01162573, ..., -0.03960372,\n",
       "         0.03276548,  0.02968359],\n",
       "       [ 0.04075832, -0.00505923,  0.037194  , ..., -0.04433644,\n",
       "         0.00563056,  0.03548136]], dtype=float32)>"
      ]
     },
     "execution_count": 35,
     "metadata": {},
     "output_type": "execute_result"
    }
   ],
   "source": [
    "next(iter(movie_embeddings.take(1)))"
   ]
  },
  {
   "cell_type": "code",
   "execution_count": 36,
   "metadata": {},
   "outputs": [
    {
     "name": "stdout",
     "output_type": "stream",
     "text": [
      "tf.Tensor(\n",
      "[[ 0.02136875  0.02848491 -0.00921426 ...  0.02290625  0.04572007\n",
      "  -0.01772724]\n",
      " [-0.02265123 -0.04321151 -0.03735344 ... -0.00237501 -0.01710071\n",
      "   0.0100952 ]\n",
      " [-0.02893539  0.03342885  0.00305834 ... -0.00753188 -0.03864139\n",
      "   0.0211953 ]\n",
      " ...\n",
      " [ 0.04203833 -0.00471202 -0.03317744 ... -0.04513462  0.00371362\n",
      "   0.04884627]\n",
      " [-0.01309742  0.02871958 -0.01162573 ... -0.03960372  0.03276548\n",
      "   0.02968359]\n",
      " [ 0.04075832 -0.00505923  0.037194   ... -0.04433644  0.00563056\n",
      "   0.03548136]], shape=(128, 64), dtype=float32)\n",
      "\n",
      "tf.Tensor(\n",
      "[[-4.2969324e-02  2.1216456e-02  3.7999678e-02 ...  4.0883150e-02\n",
      "  -2.6352717e-02 -3.3959676e-02]\n",
      " [-3.7241112e-02  4.3316435e-02  1.5042249e-02 ...  8.4383599e-03\n",
      "  -3.3847034e-02 -4.1530598e-02]\n",
      " [-4.7661450e-02 -9.0553761e-03 -4.8649110e-02 ... -5.5896752e-03\n",
      "   3.7194382e-02  2.5283445e-02]\n",
      " ...\n",
      " [ 1.4398802e-02 -1.6190074e-02  9.3578175e-04 ...  2.9264558e-02\n",
      "  -1.6621254e-02  1.3226535e-02]\n",
      " [ 3.5157751e-02 -1.6982187e-02  3.5500590e-02 ...  4.3246891e-02\n",
      "  -2.9927492e-02  4.6742845e-02]\n",
      " [ 2.3030151e-02 -9.3806535e-05  3.4985375e-02 ... -3.6383249e-02\n",
      "   4.9146898e-03  2.6750792e-02]], shape=(128, 64), dtype=float32)\n",
      "\n",
      "tf.Tensor(\n",
      "[[ 0.02313625  0.02698599 -0.01585563 ... -0.00392986 -0.03073521\n",
      "   0.00307913]\n",
      " [ 0.02753409 -0.04502838 -0.02164145 ...  0.04253197 -0.00822207\n",
      "  -0.01097641]\n",
      " [ 0.01171457 -0.02194811 -0.03475294 ... -0.04276949  0.02168996\n",
      "  -0.00707272]\n",
      " ...\n",
      " [ 0.02981658  0.03517307  0.02876475 ... -0.0120154   0.03887404\n",
      "  -0.03866316]\n",
      " [-0.0212504  -0.03499073  0.00088299 ... -0.03343412  0.00799427\n",
      "   0.00549765]\n",
      " [-0.03297672 -0.00764471 -0.04172393 ... -0.00935405 -0.03291147\n",
      "   0.01349303]], shape=(128, 64), dtype=float32)\n",
      "\n",
      "tf.Tensor(\n",
      "[[-0.01978157  0.04503013 -0.01063979 ...  0.01592368  0.00888745\n",
      "   0.02264616]\n",
      " [-0.04987109 -0.02327058 -0.02510094 ... -0.02133902 -0.00516967\n",
      "  -0.03357204]\n",
      " [-0.00118702  0.04859542 -0.04622029 ... -0.04302067 -0.02446647\n",
      "  -0.01996486]\n",
      " ...\n",
      " [ 0.0229562   0.00983175  0.04696301 ...  0.00070848 -0.02132727\n",
      "  -0.03163028]\n",
      " [-0.00674158 -0.01053343  0.03425428 ...  0.0451653   0.04370797\n",
      "   0.04687959]\n",
      " [-0.03554182  0.01935624  0.04109443 ... -0.02297143  0.02933872\n",
      "  -0.03918159]], shape=(128, 64), dtype=float32)\n",
      "\n",
      "tf.Tensor(\n",
      "[[ 0.03745724  0.03408468  0.0359979  ...  0.03850299 -0.03030285\n",
      "  -0.03819992]\n",
      " [-0.00918261 -0.02213529  0.02770481 ... -0.0419817   0.01554679\n",
      "  -0.01886796]\n",
      " [ 0.04385546 -0.03141908  0.01667798 ...  0.04144938 -0.00977286\n",
      "   0.00612374]\n",
      " ...\n",
      " [ 0.03376131  0.02451733 -0.03761637 ... -0.0161914   0.01820986\n",
      "  -0.02270366]\n",
      " [ 0.04995413 -0.04673222  0.03445124 ...  0.02547696  0.02969462\n",
      "   0.01315324]\n",
      " [ 0.018433    0.02954439 -0.03584395 ... -0.00618253  0.04337471\n",
      "   0.03901087]], shape=(128, 64), dtype=float32)\n",
      "\n",
      "tf.Tensor(\n",
      "[[-0.03095874 -0.03618889 -0.02216759 ...  0.02163703  0.00787325\n",
      "  -0.03188973]\n",
      " [-0.00413358 -0.02706575  0.02732556 ... -0.03543045 -0.0175878\n",
      "  -0.04421684]\n",
      " [ 0.04390276  0.04084932  0.03279142 ... -0.01189972  0.0197976\n",
      "  -0.01971942]\n",
      " ...\n",
      " [ 0.02831063  0.04601698 -0.02453439 ... -0.00488944  0.00934528\n",
      "  -0.04383307]\n",
      " [ 0.03344811  0.03139697  0.02792089 ...  0.02241248  0.03337803\n",
      "  -0.04222345]\n",
      " [-0.03431425 -0.00245869  0.01131915 ... -0.03089273  0.03657006\n",
      "  -0.00892565]], shape=(128, 64), dtype=float32)\n",
      "\n",
      "tf.Tensor(\n",
      "[[-0.01705359  0.02381011  0.01256782 ...  0.01755443 -0.0175297\n",
      "   0.00925747]\n",
      " [ 0.01180618 -0.04547973  0.00179858 ... -0.01735667 -0.01243921\n",
      "  -0.0375363 ]\n",
      " [-0.02246131 -0.01611755  0.01014162 ...  0.03048481 -0.04073085\n",
      "   0.02672921]\n",
      " ...\n",
      " [ 0.02975917 -0.02899416  0.0148486  ... -0.02296093 -0.01772429\n",
      "   0.0364087 ]\n",
      " [ 0.02676186 -0.0235093   0.00840007 ...  0.02462253  0.0396436\n",
      "  -0.03789093]\n",
      " [-0.01514689  0.02229131  0.02884669 ... -0.04863452 -0.02257494\n",
      "   0.02151232]], shape=(128, 64), dtype=float32)\n",
      "\n",
      "tf.Tensor(\n",
      "[[-0.00886996 -0.01798431  0.04870361 ...  0.00430631  0.02546794\n",
      "  -0.0434823 ]\n",
      " [ 0.02644442 -0.03808129 -0.01376893 ... -0.04183166 -0.01664512\n",
      "   0.04512706]\n",
      " [-0.04649064  0.0066934   0.00878478 ... -0.02319341  0.00166174\n",
      "  -0.01596965]\n",
      " ...\n",
      " [ 0.01943669 -0.00981086  0.01354298 ... -0.04185095  0.01752729\n",
      "  -0.04948309]\n",
      " [-0.02426747  0.0369809   0.03541094 ... -0.01223998 -0.01111362\n",
      "   0.02430612]\n",
      " [-0.0004786  -0.03512434  0.04991733 ... -0.02881621 -0.00453284\n",
      "  -0.03882962]], shape=(128, 64), dtype=float32)\n",
      "\n",
      "tf.Tensor(\n",
      "[[ 0.00998253  0.01609644  0.02733878 ... -0.0487388   0.01846791\n",
      "   0.02764592]\n",
      " [-0.0045983   0.03354937  0.03867168 ... -0.00394769  0.04058403\n",
      "   0.01369857]\n",
      " [ 0.02255013  0.00186437 -0.01624166 ...  0.039366   -0.01447495\n",
      "  -0.01765655]\n",
      " ...\n",
      " [-0.00222628  0.03954529  0.00122261 ...  0.03199618  0.04846766\n",
      "  -0.00844283]\n",
      " [ 0.03098614  0.04749248 -0.03199444 ...  0.03534171  0.00813005\n",
      "  -0.01136894]\n",
      " [-0.02029752 -0.04806126 -0.03325639 ...  0.01181151  0.03257276\n",
      "  -0.04133222]], shape=(128, 64), dtype=float32)\n",
      "\n",
      "tf.Tensor(\n",
      "[[-6.37209415e-03  2.26969831e-02 -4.19469960e-02 ...  1.95149668e-02\n",
      "   1.95698626e-02 -1.80141926e-02]\n",
      " [ 4.92691435e-02  6.60007074e-03  4.06983159e-02 ...  2.13962309e-02\n",
      "   4.20739315e-02 -4.79253381e-03]\n",
      " [-3.33733931e-02  8.85561854e-03  2.45361403e-03 ... -1.29672885e-02\n",
      "  -3.50329988e-02  4.44258191e-02]\n",
      " ...\n",
      " [ 1.31361149e-02 -1.66877359e-03  4.95456122e-02 ... -3.08918841e-02\n",
      "   1.34899504e-02  1.32353231e-03]\n",
      " [-1.73273794e-02 -9.33389738e-03  4.95311134e-02 ... -1.57646425e-02\n",
      "  -9.52768326e-03 -2.06818115e-02]\n",
      " [ 4.24950831e-02  2.87128612e-03 -1.02913380e-03 ... -1.13945082e-03\n",
      "   3.89821045e-02 -9.25660133e-05]], shape=(128, 64), dtype=float32)\n",
      "\n",
      "tf.Tensor(\n",
      "[[-0.02893539  0.03342885  0.00305834 ... -0.00753188 -0.03864139\n",
      "   0.0211953 ]\n",
      " [-0.00012279  0.0141067   0.0183521  ... -0.00761052 -0.03601789\n",
      "  -0.03686781]\n",
      " [-0.03860229  0.01863701 -0.04322323 ...  0.00906838 -0.03172405\n",
      "  -0.04971055]\n",
      " ...\n",
      " [-0.04888369  0.04566148  0.01504806 ...  0.02189598 -0.01848293\n",
      "   0.00532465]\n",
      " [-0.01158928 -0.02014366  0.00726449 ...  0.0049051   0.04636318\n",
      "  -0.03567489]\n",
      " [-0.01045771 -0.0202759  -0.00232171 ... -0.01199721  0.02243019\n",
      "  -0.04286817]], shape=(128, 64), dtype=float32)\n",
      "\n",
      "tf.Tensor(\n",
      "[[-0.02003459 -0.03362022  0.01119922 ... -0.04224698 -0.01502057\n",
      "   0.0389999 ]\n",
      " [ 0.0324089  -0.00617683 -0.04107577 ... -0.0365367  -0.03312175\n",
      "   0.0465293 ]\n",
      " [ 0.01423988  0.03524366 -0.00482515 ...  0.03220246 -0.01265688\n",
      "  -0.03265895]\n",
      " ...\n",
      " [-0.0027701   0.01221522 -0.00135888 ...  0.04491645  0.01375541\n",
      "  -0.03250066]\n",
      " [-0.04226467  0.03611361 -0.00266466 ...  0.02746535 -0.00763385\n",
      "  -0.0492022 ]\n",
      " [-0.03589028 -0.02233133  0.00599972 ...  0.01684478 -0.02442311\n",
      "  -0.03481986]], shape=(128, 64), dtype=float32)\n",
      "\n",
      "tf.Tensor(\n",
      "[[ 0.02146164  0.04623601  0.02207793 ... -0.00021458  0.04505361\n",
      "   0.01206494]\n",
      " [ 0.02025857 -0.00939926 -0.02144786 ... -0.04151284 -0.04839522\n",
      "  -0.01754045]\n",
      " [-0.03220244 -0.0031837  -0.03743859 ... -0.03660457  0.00519729\n",
      "  -0.02038854]\n",
      " ...\n",
      " [-0.04482649 -0.02472905  0.00941899 ... -0.03801369 -0.03382196\n",
      "  -0.03678817]\n",
      " [ 0.03414514 -0.00187408  0.01628332 ... -0.03999693  0.03307915\n",
      "  -0.03769282]\n",
      " [ 0.04717321  0.04391691 -0.02847418 ... -0.01076936  0.03257375\n",
      "  -0.00584926]], shape=(128, 64), dtype=float32)\n",
      "\n",
      "tf.Tensor(\n",
      "[[-0.02737749  0.04302258  0.00884262 ... -0.00436077 -0.01806364\n",
      "   0.00923395]\n",
      " [-0.02977276 -0.01249266  0.02107098 ... -0.04238097 -0.00390501\n",
      "  -0.01206095]\n",
      " [-0.02708774 -0.00790198  0.04106117 ... -0.02936761 -0.04697464\n",
      "   0.039201  ]\n",
      " ...\n",
      " [-0.04165658 -0.02054241 -0.0090964  ... -0.02274387 -0.01158527\n",
      "  -0.01282848]\n",
      " [ 0.03654088  0.0492818  -0.04796873 ... -0.01827317 -0.01347263\n",
      "  -0.00194756]\n",
      " [ 0.00977844  0.02303034 -0.02144058 ...  0.00264316  0.0294032\n",
      "  -0.04494691]], shape=(18, 64), dtype=float32)\n",
      "\n"
     ]
    }
   ],
   "source": [
    "for movie in movie_embeddings:\n",
    "    print(movie)\n",
    "    print()"
   ]
  },
  {
   "cell_type": "code",
   "execution_count": 39,
   "metadata": {},
   "outputs": [
    {
     "ename": "ValueError",
     "evalue": "Cannot convert '('c', 'o', 'u', 'n', 't', 'e', 'r')' to a shape. Found invalid entry 'c' of type '<class 'str'>'. ",
     "output_type": "error",
     "traceback": [
      "\u001b[1;31m---------------------------------------------------------------------------\u001b[0m",
      "\u001b[1;31mValueError\u001b[0m                                Traceback (most recent call last)",
      "Cell \u001b[1;32mIn[39], line 2\u001b[0m\n\u001b[0;32m      1\u001b[0m \u001b[38;5;66;03m# Define your objectives.\u001b[39;00m\n\u001b[1;32m----> 2\u001b[0m task \u001b[38;5;241m=\u001b[39m tfrs\u001b[38;5;241m.\u001b[39mtasks\u001b[38;5;241m.\u001b[39mRetrieval(metrics\u001b[38;5;241m=\u001b[39m\u001b[43mtfrs\u001b[49m\u001b[38;5;241;43m.\u001b[39;49m\u001b[43mmetrics\u001b[49m\u001b[38;5;241;43m.\u001b[39;49m\u001b[43mFactorizedTopK\u001b[49m\u001b[43m(\u001b[49m\n\u001b[0;32m      3\u001b[0m \u001b[43m    \u001b[49m\u001b[43mcandidates\u001b[49m\u001b[38;5;241;43m=\u001b[39;49m\u001b[43mmovie_embeddings\u001b[49m\n\u001b[0;32m      4\u001b[0m \u001b[43m)\u001b[49m)\n",
      "File \u001b[1;32md:\\a27_YEARS_OLD\\deep_learning\\venv\\Lib\\site-packages\\tensorflow_recommenders\\metrics\\factorized_top_k.py:79\u001b[0m, in \u001b[0;36mFactorizedTopK.__init__\u001b[1;34m(self, candidates, ks, name)\u001b[0m\n\u001b[0;32m     75\u001b[0m \u001b[38;5;28msuper\u001b[39m()\u001b[38;5;241m.\u001b[39m\u001b[38;5;21m__init__\u001b[39m(name\u001b[38;5;241m=\u001b[39mname)\n\u001b[0;32m     77\u001b[0m \u001b[38;5;28;01mif\u001b[39;00m \u001b[38;5;28misinstance\u001b[39m(candidates, tf\u001b[38;5;241m.\u001b[39mdata\u001b[38;5;241m.\u001b[39mDataset):\n\u001b[0;32m     78\u001b[0m   candidates \u001b[38;5;241m=\u001b[39m (\n\u001b[1;32m---> 79\u001b[0m       \u001b[43mlayers\u001b[49m\u001b[38;5;241;43m.\u001b[39;49m\u001b[43mfactorized_top_k\u001b[49m\u001b[38;5;241;43m.\u001b[39;49m\u001b[43mStreaming\u001b[49m\u001b[43m(\u001b[49m\u001b[43mk\u001b[49m\u001b[38;5;241;43m=\u001b[39;49m\u001b[38;5;28;43mmax\u001b[39;49m\u001b[43m(\u001b[49m\u001b[43mks\u001b[49m\u001b[43m)\u001b[49m\u001b[43m)\u001b[49m\n\u001b[0;32m     80\u001b[0m       \u001b[38;5;241m.\u001b[39mindex_from_dataset(candidates)\n\u001b[0;32m     81\u001b[0m   )\n\u001b[0;32m     83\u001b[0m \u001b[38;5;28mself\u001b[39m\u001b[38;5;241m.\u001b[39m_ks \u001b[38;5;241m=\u001b[39m ks\n\u001b[0;32m     84\u001b[0m \u001b[38;5;28mself\u001b[39m\u001b[38;5;241m.\u001b[39m_candidates \u001b[38;5;241m=\u001b[39m candidates\n",
      "File \u001b[1;32md:\\a27_YEARS_OLD\\deep_learning\\venv\\Lib\\site-packages\\tensorflow_recommenders\\layers\\factorized_top_k.py:376\u001b[0m, in \u001b[0;36mStreaming.__init__\u001b[1;34m(self, query_model, k, handle_incomplete_batches, num_parallel_calls, sorted_order)\u001b[0m\n\u001b[0;32m    373\u001b[0m \u001b[38;5;28mself\u001b[39m\u001b[38;5;241m.\u001b[39m_num_parallel_calls \u001b[38;5;241m=\u001b[39m num_parallel_calls\n\u001b[0;32m    374\u001b[0m \u001b[38;5;28mself\u001b[39m\u001b[38;5;241m.\u001b[39m_sorted \u001b[38;5;241m=\u001b[39m sorted_order\n\u001b[1;32m--> 376\u001b[0m \u001b[38;5;28mself\u001b[39m\u001b[38;5;241m.\u001b[39m_counter \u001b[38;5;241m=\u001b[39m \u001b[38;5;28;43mself\u001b[39;49m\u001b[38;5;241;43m.\u001b[39;49m\u001b[43madd_weight\u001b[49m\u001b[43m(\u001b[49m\u001b[38;5;124;43m\"\u001b[39;49m\u001b[38;5;124;43mcounter\u001b[39;49m\u001b[38;5;124;43m\"\u001b[39;49m\u001b[43m,\u001b[49m\u001b[43m \u001b[49m\u001b[43mdtype\u001b[49m\u001b[38;5;241;43m=\u001b[39;49m\u001b[43mtf\u001b[49m\u001b[38;5;241;43m.\u001b[39;49m\u001b[43mint32\u001b[49m\u001b[43m,\u001b[49m\u001b[43m \u001b[49m\u001b[43mtrainable\u001b[49m\u001b[38;5;241;43m=\u001b[39;49m\u001b[38;5;28;43;01mFalse\u001b[39;49;00m\u001b[43m)\u001b[49m\n",
      "File \u001b[1;32md:\\a27_YEARS_OLD\\deep_learning\\venv\\Lib\\site-packages\\keras\\src\\layers\\layer.py:541\u001b[0m, in \u001b[0;36mLayer.add_weight\u001b[1;34m(self, shape, initializer, dtype, trainable, autocast, regularizer, constraint, aggregation, name)\u001b[0m\n\u001b[0;32m    539\u001b[0m initializer \u001b[38;5;241m=\u001b[39m initializers\u001b[38;5;241m.\u001b[39mget(initializer)\n\u001b[0;32m    540\u001b[0m \u001b[38;5;28;01mwith\u001b[39;00m backend\u001b[38;5;241m.\u001b[39mname_scope(\u001b[38;5;28mself\u001b[39m\u001b[38;5;241m.\u001b[39mname, caller\u001b[38;5;241m=\u001b[39m\u001b[38;5;28mself\u001b[39m):\n\u001b[1;32m--> 541\u001b[0m     variable \u001b[38;5;241m=\u001b[39m \u001b[43mbackend\u001b[49m\u001b[38;5;241;43m.\u001b[39;49m\u001b[43mVariable\u001b[49m\u001b[43m(\u001b[49m\n\u001b[0;32m    542\u001b[0m \u001b[43m        \u001b[49m\u001b[43minitializer\u001b[49m\u001b[38;5;241;43m=\u001b[39;49m\u001b[43minitializer\u001b[49m\u001b[43m,\u001b[49m\n\u001b[0;32m    543\u001b[0m \u001b[43m        \u001b[49m\u001b[43mshape\u001b[49m\u001b[38;5;241;43m=\u001b[39;49m\u001b[43mshape\u001b[49m\u001b[43m,\u001b[49m\n\u001b[0;32m    544\u001b[0m \u001b[43m        \u001b[49m\u001b[43mdtype\u001b[49m\u001b[38;5;241;43m=\u001b[39;49m\u001b[43mdtype\u001b[49m\u001b[43m,\u001b[49m\n\u001b[0;32m    545\u001b[0m \u001b[43m        \u001b[49m\u001b[43mtrainable\u001b[49m\u001b[38;5;241;43m=\u001b[39;49m\u001b[43mtrainable\u001b[49m\u001b[43m,\u001b[49m\n\u001b[0;32m    546\u001b[0m \u001b[43m        \u001b[49m\u001b[43mautocast\u001b[49m\u001b[38;5;241;43m=\u001b[39;49m\u001b[43mautocast\u001b[49m\u001b[43m,\u001b[49m\n\u001b[0;32m    547\u001b[0m \u001b[43m        \u001b[49m\u001b[43maggregation\u001b[49m\u001b[38;5;241;43m=\u001b[39;49m\u001b[43maggregation\u001b[49m\u001b[43m,\u001b[49m\n\u001b[0;32m    548\u001b[0m \u001b[43m        \u001b[49m\u001b[43mname\u001b[49m\u001b[38;5;241;43m=\u001b[39;49m\u001b[43mname\u001b[49m\u001b[43m,\u001b[49m\n\u001b[0;32m    549\u001b[0m \u001b[43m    \u001b[49m\u001b[43m)\u001b[49m\n\u001b[0;32m    550\u001b[0m \u001b[38;5;66;03m# Will be added to layer.losses\u001b[39;00m\n\u001b[0;32m    551\u001b[0m variable\u001b[38;5;241m.\u001b[39mregularizer \u001b[38;5;241m=\u001b[39m regularizers\u001b[38;5;241m.\u001b[39mget(regularizer)\n",
      "File \u001b[1;32md:\\a27_YEARS_OLD\\deep_learning\\venv\\Lib\\site-packages\\keras\\src\\backend\\common\\variables.py:162\u001b[0m, in \u001b[0;36mKerasVariable.__init__\u001b[1;34m(self, initializer, shape, dtype, trainable, autocast, aggregation, name)\u001b[0m\n\u001b[0;32m    160\u001b[0m \u001b[38;5;28;01melse\u001b[39;00m:\n\u001b[0;32m    161\u001b[0m     \u001b[38;5;28;01mif\u001b[39;00m \u001b[38;5;28mcallable\u001b[39m(initializer):\n\u001b[1;32m--> 162\u001b[0m         \u001b[38;5;28mself\u001b[39m\u001b[38;5;241m.\u001b[39m_shape \u001b[38;5;241m=\u001b[39m \u001b[38;5;28;43mself\u001b[39;49m\u001b[38;5;241;43m.\u001b[39;49m\u001b[43m_validate_shape\u001b[49m\u001b[43m(\u001b[49m\u001b[43mshape\u001b[49m\u001b[43m)\u001b[49m\n\u001b[0;32m    163\u001b[0m         \u001b[38;5;28mself\u001b[39m\u001b[38;5;241m.\u001b[39m_initialize_with_initializer(initializer)\n\u001b[0;32m    164\u001b[0m     \u001b[38;5;28;01melse\u001b[39;00m:\n",
      "File \u001b[1;32md:\\a27_YEARS_OLD\\deep_learning\\venv\\Lib\\site-packages\\keras\\src\\backend\\common\\variables.py:184\u001b[0m, in \u001b[0;36mKerasVariable._validate_shape\u001b[1;34m(self, shape)\u001b[0m\n\u001b[0;32m    183\u001b[0m \u001b[38;5;28;01mdef\u001b[39;00m \u001b[38;5;21m_validate_shape\u001b[39m(\u001b[38;5;28mself\u001b[39m, shape):\n\u001b[1;32m--> 184\u001b[0m     shape \u001b[38;5;241m=\u001b[39m \u001b[43mstandardize_shape\u001b[49m\u001b[43m(\u001b[49m\u001b[43mshape\u001b[49m\u001b[43m)\u001b[49m\n\u001b[0;32m    185\u001b[0m     \u001b[38;5;28;01mif\u001b[39;00m \u001b[38;5;28;01mNone\u001b[39;00m \u001b[38;5;129;01min\u001b[39;00m shape:\n\u001b[0;32m    186\u001b[0m         \u001b[38;5;28;01mraise\u001b[39;00m \u001b[38;5;167;01mValueError\u001b[39;00m(\n\u001b[0;32m    187\u001b[0m             \u001b[38;5;124m\"\u001b[39m\u001b[38;5;124mShapes used to initialize variables must be \u001b[39m\u001b[38;5;124m\"\u001b[39m\n\u001b[0;32m    188\u001b[0m             \u001b[38;5;124m\"\u001b[39m\u001b[38;5;124mfully-defined (no `None` dimensions). Received: \u001b[39m\u001b[38;5;124m\"\u001b[39m\n\u001b[0;32m    189\u001b[0m             \u001b[38;5;124mf\u001b[39m\u001b[38;5;124m\"\u001b[39m\u001b[38;5;124mshape=\u001b[39m\u001b[38;5;132;01m{\u001b[39;00mshape\u001b[38;5;132;01m}\u001b[39;00m\u001b[38;5;124m for variable path=\u001b[39m\u001b[38;5;124m'\u001b[39m\u001b[38;5;132;01m{\u001b[39;00m\u001b[38;5;28mself\u001b[39m\u001b[38;5;241m.\u001b[39mpath\u001b[38;5;132;01m}\u001b[39;00m\u001b[38;5;124m'\u001b[39m\u001b[38;5;124m\"\u001b[39m\n\u001b[0;32m    190\u001b[0m         )\n",
      "File \u001b[1;32md:\\a27_YEARS_OLD\\deep_learning\\venv\\Lib\\site-packages\\keras\\src\\backend\\common\\variables.py:535\u001b[0m, in \u001b[0;36mstandardize_shape\u001b[1;34m(shape)\u001b[0m\n\u001b[0;32m    533\u001b[0m     \u001b[38;5;28;01mcontinue\u001b[39;00m\n\u001b[0;32m    534\u001b[0m \u001b[38;5;28;01mif\u001b[39;00m \u001b[38;5;129;01mnot\u001b[39;00m is_int_dtype(\u001b[38;5;28mtype\u001b[39m(e)):\n\u001b[1;32m--> 535\u001b[0m     \u001b[38;5;28;01mraise\u001b[39;00m \u001b[38;5;167;01mValueError\u001b[39;00m(\n\u001b[0;32m    536\u001b[0m         \u001b[38;5;124mf\u001b[39m\u001b[38;5;124m\"\u001b[39m\u001b[38;5;124mCannot convert \u001b[39m\u001b[38;5;124m'\u001b[39m\u001b[38;5;132;01m{\u001b[39;00mshape\u001b[38;5;132;01m}\u001b[39;00m\u001b[38;5;124m'\u001b[39m\u001b[38;5;124m to a shape. \u001b[39m\u001b[38;5;124m\"\u001b[39m\n\u001b[0;32m    537\u001b[0m         \u001b[38;5;124mf\u001b[39m\u001b[38;5;124m\"\u001b[39m\u001b[38;5;124mFound invalid entry \u001b[39m\u001b[38;5;124m'\u001b[39m\u001b[38;5;132;01m{\u001b[39;00me\u001b[38;5;132;01m}\u001b[39;00m\u001b[38;5;124m'\u001b[39m\u001b[38;5;124m of type \u001b[39m\u001b[38;5;124m'\u001b[39m\u001b[38;5;132;01m{\u001b[39;00m\u001b[38;5;28mtype\u001b[39m(e)\u001b[38;5;132;01m}\u001b[39;00m\u001b[38;5;124m'\u001b[39m\u001b[38;5;124m. \u001b[39m\u001b[38;5;124m\"\u001b[39m\n\u001b[0;32m    538\u001b[0m     )\n\u001b[0;32m    539\u001b[0m \u001b[38;5;28;01mif\u001b[39;00m e \u001b[38;5;241m<\u001b[39m \u001b[38;5;241m0\u001b[39m:\n\u001b[0;32m    540\u001b[0m     \u001b[38;5;28;01mraise\u001b[39;00m \u001b[38;5;167;01mValueError\u001b[39;00m(\n\u001b[0;32m    541\u001b[0m         \u001b[38;5;124mf\u001b[39m\u001b[38;5;124m\"\u001b[39m\u001b[38;5;124mCannot convert \u001b[39m\u001b[38;5;124m'\u001b[39m\u001b[38;5;132;01m{\u001b[39;00mshape\u001b[38;5;132;01m}\u001b[39;00m\u001b[38;5;124m'\u001b[39m\u001b[38;5;124m to a shape. \u001b[39m\u001b[38;5;124m\"\u001b[39m\n\u001b[0;32m    542\u001b[0m         \u001b[38;5;124m\"\u001b[39m\u001b[38;5;124mNegative dimensions are not allowed.\u001b[39m\u001b[38;5;124m\"\u001b[39m\n\u001b[0;32m    543\u001b[0m     )\n",
      "\u001b[1;31mValueError\u001b[0m: Cannot convert '('c', 'o', 'u', 'n', 't', 'e', 'r')' to a shape. Found invalid entry 'c' of type '<class 'str'>'. "
     ]
    }
   ],
   "source": [
    "# Define your objectives.\n",
    "task = tfrs.tasks.Retrieval(metrics=tfrs.metrics.FactorizedTopK(\n",
    "    candidates=movie_embeddings\n",
    "))"
   ]
  },
  {
   "cell_type": "markdown",
   "metadata": {},
   "source": [
    "Fit and evaluate it.\n",
    "Create the model, train it, and generate predictions:"
   ]
  },
  {
   "cell_type": "code",
   "execution_count": null,
   "metadata": {},
   "outputs": [],
   "source": [
    "# Create a retrieval model.\n",
    "model = MovieLensModel(user_model, movie_model, task)\n",
    "model.compile(optimizer=tf.keras.optimizers.Adagrad(0.5))\n",
    "\n",
    "# Train for 3 epochs.\n",
    "model.fit(ratings.batch(4096), epochs=3)\n",
    "\n",
    "# Use brute-force search to set up retrieval using the trained representations.\n",
    "index = tfrs.layers.factorized_top_k.BruteForce(model.user_model)\n",
    "index.index_from_dataset(\n",
    "    movies.batch(100).map(lambda title: (title, model.movie_model(title))))\n",
    "\n",
    "# Get some recommendations.\n",
    "_, titles = index(np.array([\"42\"]))\n",
    "print(f\"Top 3 recommendations for user 42: {titles[0, :3]}\")"
   ]
  }
 ],
 "metadata": {
  "kernelspec": {
   "display_name": "Python 3",
   "language": "python",
   "name": "python3"
  },
  "language_info": {
   "codemirror_mode": {
    "name": "ipython",
    "version": 3
   },
   "file_extension": ".py",
   "mimetype": "text/x-python",
   "name": "python",
   "nbconvert_exporter": "python",
   "pygments_lexer": "ipython3",
   "version": "3.11.0"
  }
 },
 "nbformat": 4,
 "nbformat_minor": 2
}
