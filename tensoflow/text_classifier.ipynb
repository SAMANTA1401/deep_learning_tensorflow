{
 "cells": [
  {
   "cell_type": "code",
   "execution_count": 5,
   "metadata": {},
   "outputs": [],
   "source": [
    "import matplotlib.pyplot as plt\n",
    "import os\n",
    "import re\n",
    "import shutil\n",
    "import string\n",
    "import tensorflow as tf\n",
    "\n",
    "from tensorflow.keras import layers\n",
    "from tensorflow.keras import losses"
   ]
  },
  {
   "cell_type": "code",
   "execution_count": null,
   "metadata": {},
   "outputs": [],
   "source": [
    "# shutil is a Python module for high-level file and collection utilities.\n",
    "# Overview\n",
    "# shutil provides functions for:\n",
    "# Copying files and directories\n",
    "# Moving and renaming files and directories\n",
    "# Removing files and directories\n",
    "# Archiving and compressing files\n",
    "\n",
    "# https://www.youtube.com/watch?v=XoTwndOgXBM&list=PLmGsNPZGeM5D8fgr2scwe8wZih4SYB7Vt&index=19\n",
    "# https://www.youtube.com/results?search_query=+microservice+with+machine+learning+ai+project\n",
    "\n",
    "# https://www.youtube.com/playlist?list=PLSrTvUm384I9PV10koj_cqit9OfbJXEkq\n",
    "\n",
    "# https://www.youtube.com/watch?v=I7cDu6IaN7c&list=PLfP3JxW-T70GzK_mU0oWYbnMhjWbVc2O5\n",
    "# https://www.youtube.com/watch?v=wBd2TN4BP8A&list=PLWO1vff-jJQ8QTkAtS9J1kcr4zTcWHGYs\n",
    "# https://www.youtube.com/watch?v=P6m2Z8WdsBk"
   ]
  },
  {
   "cell_type": "code",
   "execution_count": 2,
   "metadata": {},
   "outputs": [
    {
     "name": "stdout",
     "output_type": "stream",
     "text": [
      "2.18.0\n"
     ]
    }
   ],
   "source": [
    "print(tf.__version__)"
   ]
  },
  {
   "cell_type": "markdown",
   "metadata": {},
   "source": [
    "Sentiment analysis"
   ]
  },
  {
   "cell_type": "code",
   "execution_count": 2,
   "metadata": {},
   "outputs": [],
   "source": [
    "import os"
   ]
  },
  {
   "cell_type": "code",
   "execution_count": 3,
   "metadata": {},
   "outputs": [
    {
     "data": {
      "text/plain": [
       "<module 'ntpath' (frozen)>"
      ]
     },
     "execution_count": 3,
     "metadata": {},
     "output_type": "execute_result"
    }
   ],
   "source": [
    "os.path"
   ]
  },
  {
   "cell_type": "markdown",
   "metadata": {},
   "source": [
    "These are split into 25,000 reviews for training and 25,000 reviews for testing. The training and testing sets are balanced, meaning they contain an equal number of positive and negative reviews."
   ]
  },
  {
   "cell_type": "code",
   "execution_count": 6,
   "metadata": {},
   "outputs": [
    {
     "name": "stdout",
     "output_type": "stream",
     "text": [
      "Downloading data from https://ai.stanford.edu/~amaas/data/sentiment/aclImdb_v1.tar.gz\n",
      "\u001b[1m84125825/84125825\u001b[0m \u001b[32m━━━━━━━━━━━━━━━━━━━━\u001b[0m\u001b[37m\u001b[0m \u001b[1m20s\u001b[0m 0us/step\n"
     ]
    }
   ],
   "source": [
    "url = \"https://ai.stanford.edu/~amaas/data/sentiment/aclImdb_v1.tar.gz\"\n",
    "\n",
    "dataset = tf.keras.utils.get_file(\"aclImdb_v1\", url,\n",
    "                                    untar=True, cache_dir='.',\n",
    "                                    cache_subdir='')\n",
    "\n"
   ]
  },
  {
   "cell_type": "code",
   "execution_count": 14,
   "metadata": {},
   "outputs": [
    {
     "data": {
      "text/plain": [
       "'.\\\\aclImdb_v1'"
      ]
     },
     "execution_count": 14,
     "metadata": {},
     "output_type": "execute_result"
    }
   ],
   "source": [
    "dataset"
   ]
  },
  {
   "cell_type": "code",
   "execution_count": 30,
   "metadata": {},
   "outputs": [],
   "source": [
    "folder_dir = os.path.join(os.path.dirname(dataset),'aclImdb_v1')"
   ]
  },
  {
   "cell_type": "code",
   "execution_count": 31,
   "metadata": {},
   "outputs": [
    {
     "data": {
      "text/plain": [
       "['aclImdb']"
      ]
     },
     "execution_count": 31,
     "metadata": {},
     "output_type": "execute_result"
    }
   ],
   "source": [
    "os.listdir(folder_dir)"
   ]
  },
  {
   "cell_type": "code",
   "execution_count": 21,
   "metadata": {},
   "outputs": [],
   "source": [
    "dataset_dir = os.path.join(os.path.dirname(dataset),'aclImdb_v1','aclImdb')"
   ]
  },
  {
   "cell_type": "code",
   "execution_count": 22,
   "metadata": {},
   "outputs": [
    {
     "data": {
      "text/plain": [
       "'.\\\\aclImdb_v1\\\\aclImdb'"
      ]
     },
     "execution_count": 22,
     "metadata": {},
     "output_type": "execute_result"
    }
   ],
   "source": [
    "dataset_dir"
   ]
  },
  {
   "cell_type": "code",
   "execution_count": 23,
   "metadata": {},
   "outputs": [
    {
     "data": {
      "text/plain": [
       "['imdb.vocab', 'imdbEr.txt', 'README', 'test', 'train']"
      ]
     },
     "execution_count": 23,
     "metadata": {},
     "output_type": "execute_result"
    }
   ],
   "source": [
    "\n",
    "os.listdir(dataset_dir)"
   ]
  },
  {
   "cell_type": "code",
   "execution_count": 24,
   "metadata": {},
   "outputs": [
    {
     "data": {
      "text/plain": [
       "['labeledBow.feat',\n",
       " 'neg',\n",
       " 'pos',\n",
       " 'unsup',\n",
       " 'unsupBow.feat',\n",
       " 'urls_neg.txt',\n",
       " 'urls_pos.txt',\n",
       " 'urls_unsup.txt']"
      ]
     },
     "execution_count": 24,
     "metadata": {},
     "output_type": "execute_result"
    }
   ],
   "source": [
    "train_dir = os.path.join(dataset_dir, 'train')\n",
    "os.listdir(train_dir)"
   ]
  },
  {
   "cell_type": "code",
   "execution_count": 27,
   "metadata": {},
   "outputs": [
    {
     "data": {
      "text/plain": [
       "['0_9.txt',\n",
       " '10000_8.txt',\n",
       " '10001_10.txt',\n",
       " '10002_7.txt',\n",
       " '10003_8.txt',\n",
       " '10004_8.txt',\n",
       " '10005_7.txt',\n",
       " '10006_7.txt',\n",
       " '10007_7.txt',\n",
       " '10008_7.txt',\n",
       " '10009_9.txt',\n",
       " '1000_8.txt',\n",
       " '10010_7.txt',\n",
       " '10011_9.txt',\n",
       " '10012_8.txt',\n",
       " '10013_7.txt',\n",
       " '10014_8.txt',\n",
       " '10015_8.txt',\n",
       " '10016_8.txt',\n",
       " '10017_9.txt',\n",
       " '10018_8.txt',\n",
       " '10019_8.txt',\n",
       " '1001_8.txt',\n",
       " '10020_8.txt',\n",
       " '10021_8.txt',\n",
       " '10022_7.txt',\n",
       " '10023_9.txt',\n",
       " '10024_9.txt',\n",
       " '10025_9.txt',\n",
       " '10026_7.txt',\n",
       " '10027_7.txt',\n",
       " '10028_10.txt',\n",
       " '10029_10.txt',\n",
       " '1002_7.txt',\n",
       " '10030_10.txt',\n",
       " '10031_10.txt',\n",
       " '10032_10.txt',\n",
       " '10033_10.txt',\n",
       " '10034_8.txt',\n",
       " '10035_9.txt',\n",
       " '10036_8.txt',\n",
       " '10037_9.txt',\n",
       " '10038_10.txt',\n",
       " '10039_10.txt',\n",
       " '1003_10.txt',\n",
       " '10040_10.txt',\n",
       " '10041_10.txt',\n",
       " '10042_10.txt',\n",
       " '10043_10.txt',\n",
       " '10044_9.txt',\n",
       " '10045_10.txt',\n",
       " '10046_9.txt',\n",
       " '10047_10.txt',\n",
       " '10048_10.txt',\n",
       " '10049_8.txt',\n",
       " '1004_7.txt',\n",
       " '10050_10.txt',\n",
       " '10051_10.txt',\n",
       " '10052_10.txt',\n",
       " '10053_8.txt',\n",
       " '10054_10.txt',\n",
       " '10055_7.txt',\n",
       " '10056_8.txt',\n",
       " '10057_9.txt',\n",
       " '10058_7.txt',\n",
       " '10059_10.txt',\n",
       " '1005_10.txt',\n",
       " '10060_9.txt',\n",
       " '10061_8.txt',\n",
       " '10062_10.txt',\n",
       " '10063_9.txt',\n",
       " '10064_10.txt',\n",
       " '10065_9.txt',\n",
       " '10066_10.txt',\n",
       " '10067_9.txt',\n",
       " '10068_8.txt',\n",
       " '10069_8.txt',\n",
       " '1006_8.txt',\n",
       " '10070_9.txt',\n",
       " '10071_9.txt',\n",
       " '10072_9.txt',\n",
       " '10073_10.txt',\n",
       " '10074_9.txt',\n",
       " '10075_9.txt',\n",
       " '10076_9.txt',\n",
       " '10077_10.txt',\n",
       " '10078_8.txt',\n",
       " '10079_8.txt',\n",
       " '1007_10.txt',\n",
       " '10080_10.txt',\n",
       " '10081_9.txt',\n",
       " '10082_10.txt',\n",
       " '10083_7.txt',\n",
       " '10084_10.txt',\n",
       " '10085_10.txt',\n",
       " '10086_7.txt',\n",
       " '10087_10.txt',\n",
       " '10088_10.txt',\n",
       " '10089_7.txt',\n",
       " '1008_10.txt',\n",
       " '10090_8.txt',\n",
       " '10091_7.txt',\n",
       " '10092_8.txt',\n",
       " '10093_7.txt',\n",
       " '10094_7.txt',\n",
       " '10095_7.txt',\n",
       " '10096_7.txt',\n",
       " '10097_9.txt',\n",
       " '10098_10.txt',\n",
       " '10099_10.txt',\n",
       " '1009_8.txt',\n",
       " '100_7.txt',\n",
       " '10100_10.txt',\n",
       " '10101_8.txt',\n",
       " '10102_7.txt',\n",
       " '10103_8.txt',\n",
       " '10104_10.txt',\n",
       " '10105_8.txt',\n",
       " '10106_8.txt',\n",
       " '10107_8.txt',\n",
       " '10108_10.txt',\n",
       " '10109_10.txt',\n",
       " '1010_10.txt',\n",
       " '10110_10.txt',\n",
       " '10111_7.txt',\n",
       " '10112_7.txt',\n",
       " '10113_10.txt',\n",
       " '10114_10.txt',\n",
       " '10115_10.txt',\n",
       " '10116_10.txt',\n",
       " '10117_8.txt',\n",
       " '10118_7.txt',\n",
       " '10119_7.txt',\n",
       " '1011_10.txt',\n",
       " '10120_7.txt',\n",
       " '10121_8.txt',\n",
       " '10122_7.txt',\n",
       " '10123_10.txt',\n",
       " '10124_8.txt',\n",
       " '10125_8.txt',\n",
       " '10126_10.txt',\n",
       " '10127_8.txt',\n",
       " '10128_9.txt',\n",
       " '10129_7.txt',\n",
       " '1012_10.txt',\n",
       " '10130_10.txt',\n",
       " '10131_10.txt',\n",
       " '10132_9.txt',\n",
       " '10133_7.txt',\n",
       " '10134_7.txt',\n",
       " '10135_7.txt',\n",
       " '10136_7.txt',\n",
       " '10137_7.txt',\n",
       " '10138_8.txt',\n",
       " '10139_8.txt',\n",
       " '1013_9.txt',\n",
       " '10140_8.txt',\n",
       " '10141_9.txt',\n",
       " '10142_8.txt',\n",
       " '10143_8.txt',\n",
       " '10144_8.txt',\n",
       " '10145_8.txt',\n",
       " '10146_7.txt',\n",
       " '10147_10.txt',\n",
       " '10148_10.txt',\n",
       " '10149_9.txt',\n",
       " '1014_9.txt',\n",
       " '10150_9.txt',\n",
       " '10151_8.txt',\n",
       " '10152_9.txt',\n",
       " '10153_9.txt',\n",
       " '10154_8.txt',\n",
       " '10155_9.txt',\n",
       " '10156_10.txt',\n",
       " '10157_10.txt',\n",
       " '10158_7.txt',\n",
       " '10159_7.txt',\n",
       " '1015_10.txt',\n",
       " '10160_7.txt',\n",
       " '10161_9.txt',\n",
       " '10162_9.txt',\n",
       " '10163_8.txt',\n",
       " '10164_7.txt',\n",
       " '10165_7.txt',\n",
       " '10166_7.txt',\n",
       " '10167_7.txt',\n",
       " '10168_8.txt',\n",
       " '10169_7.txt',\n",
       " '1016_8.txt',\n",
       " '10170_8.txt',\n",
       " '10171_7.txt',\n",
       " '10172_8.txt',\n",
       " '10173_8.txt',\n",
       " '10174_7.txt',\n",
       " '10175_10.txt',\n",
       " '10176_7.txt',\n",
       " '10177_9.txt',\n",
       " '10178_10.txt',\n",
       " '10179_9.txt',\n",
       " '1017_8.txt',\n",
       " '10180_7.txt',\n",
       " '10181_8.txt',\n",
       " '10182_8.txt',\n",
       " '10183_7.txt',\n",
       " '10184_9.txt',\n",
       " '10185_10.txt',\n",
       " '10186_8.txt',\n",
       " '10187_7.txt',\n",
       " '10188_8.txt',\n",
       " '10189_7.txt',\n",
       " '1018_8.txt',\n",
       " '10190_7.txt',\n",
       " '10191_10.txt',\n",
       " '10192_8.txt',\n",
       " '10193_9.txt',\n",
       " '10194_10.txt',\n",
       " '10195_8.txt',\n",
       " '10196_10.txt',\n",
       " '10197_7.txt',\n",
       " '10198_8.txt',\n",
       " '10199_7.txt',\n",
       " '1019_10.txt',\n",
       " '101_8.txt',\n",
       " '10200_10.txt',\n",
       " '10201_10.txt',\n",
       " '10202_10.txt',\n",
       " '10203_10.txt',\n",
       " '10204_8.txt',\n",
       " '10205_10.txt',\n",
       " '10206_10.txt',\n",
       " '10207_10.txt',\n",
       " '10208_7.txt',\n",
       " '10209_7.txt',\n",
       " '1020_10.txt',\n",
       " '10210_7.txt',\n",
       " '10211_7.txt',\n",
       " '10212_8.txt',\n",
       " '10213_8.txt',\n",
       " '10214_10.txt',\n",
       " '10215_10.txt',\n",
       " '10216_8.txt',\n",
       " '10217_9.txt',\n",
       " '10218_8.txt',\n",
       " '10219_10.txt',\n",
       " '1021_10.txt',\n",
       " '10220_7.txt',\n",
       " '10221_8.txt',\n",
       " '10222_9.txt',\n",
       " '10223_10.txt',\n",
       " '10224_10.txt',\n",
       " '10225_9.txt',\n",
       " '10226_10.txt',\n",
       " '10227_10.txt',\n",
       " '10228_8.txt',\n",
       " '10229_8.txt',\n",
       " '1022_10.txt',\n",
       " '10230_9.txt',\n",
       " '10231_10.txt',\n",
       " '10232_10.txt',\n",
       " '10233_7.txt',\n",
       " '10234_10.txt',\n",
       " '10235_8.txt',\n",
       " '10236_8.txt',\n",
       " '10237_10.txt',\n",
       " '10238_10.txt',\n",
       " '10239_10.txt',\n",
       " '1023_10.txt',\n",
       " '10240_8.txt',\n",
       " '10241_8.txt',\n",
       " '10242_8.txt',\n",
       " '10243_10.txt',\n",
       " '10244_7.txt',\n",
       " '10245_10.txt',\n",
       " '10246_10.txt',\n",
       " '10247_10.txt',\n",
       " '10248_7.txt',\n",
       " '10249_7.txt',\n",
       " '1024_9.txt',\n",
       " '10250_10.txt',\n",
       " '10251_10.txt',\n",
       " '10252_9.txt',\n",
       " '10253_10.txt',\n",
       " '10254_8.txt',\n",
       " '10255_9.txt',\n",
       " '10256_8.txt',\n",
       " '10257_8.txt',\n",
       " '10258_10.txt',\n",
       " '10259_8.txt',\n",
       " '1025_8.txt',\n",
       " '10260_10.txt',\n",
       " '10261_8.txt',\n",
       " '10262_10.txt',\n",
       " '10263_10.txt',\n",
       " '10264_10.txt',\n",
       " '10265_9.txt',\n",
       " '10266_9.txt',\n",
       " '10267_8.txt',\n",
       " '10268_9.txt',\n",
       " '10269_7.txt',\n",
       " '1026_9.txt',\n",
       " '10270_9.txt',\n",
       " '10271_10.txt',\n",
       " '10272_10.txt',\n",
       " '10273_8.txt',\n",
       " '10274_8.txt',\n",
       " '10275_10.txt',\n",
       " '10276_10.txt',\n",
       " '10277_9.txt',\n",
       " '10278_7.txt',\n",
       " '10279_8.txt',\n",
       " '1027_8.txt',\n",
       " '10280_10.txt',\n",
       " '10281_7.txt',\n",
       " '10282_8.txt',\n",
       " '10283_10.txt',\n",
       " '10284_9.txt',\n",
       " '10285_10.txt',\n",
       " '10286_9.txt',\n",
       " '10287_8.txt',\n",
       " '10288_10.txt',\n",
       " '10289_10.txt',\n",
       " '1028_10.txt',\n",
       " '10290_8.txt',\n",
       " '10291_7.txt',\n",
       " '10292_7.txt',\n",
       " '10293_8.txt',\n",
       " '10294_8.txt',\n",
       " '10295_7.txt',\n",
       " '10296_8.txt',\n",
       " '10297_8.txt',\n",
       " '10298_9.txt',\n",
       " '10299_9.txt',\n",
       " '1029_9.txt',\n",
       " '102_10.txt',\n",
       " '10300_10.txt',\n",
       " '10301_8.txt',\n",
       " '10302_9.txt',\n",
       " '10303_7.txt',\n",
       " '10304_7.txt',\n",
       " '10305_8.txt',\n",
       " '10306_8.txt',\n",
       " '10307_8.txt',\n",
       " '10308_8.txt',\n",
       " '10309_7.txt',\n",
       " '1030_10.txt',\n",
       " '10310_9.txt',\n",
       " '10311_9.txt',\n",
       " '10312_10.txt',\n",
       " '10313_7.txt',\n",
       " '10314_8.txt',\n",
       " '10315_8.txt',\n",
       " '10316_8.txt',\n",
       " '10317_7.txt',\n",
       " '10318_7.txt',\n",
       " '10319_7.txt',\n",
       " '1031_10.txt',\n",
       " '10320_7.txt',\n",
       " '10321_10.txt',\n",
       " '10322_7.txt',\n",
       " '10323_10.txt',\n",
       " '10324_9.txt',\n",
       " '10325_10.txt',\n",
       " '10326_10.txt',\n",
       " '10327_7.txt',\n",
       " '10328_8.txt',\n",
       " '10329_8.txt',\n",
       " '1032_7.txt',\n",
       " '10330_8.txt',\n",
       " '10331_10.txt',\n",
       " '10332_8.txt',\n",
       " '10333_8.txt',\n",
       " '10334_8.txt',\n",
       " '10335_8.txt',\n",
       " '10336_8.txt',\n",
       " '10337_9.txt',\n",
       " '10338_9.txt',\n",
       " '10339_7.txt',\n",
       " '1033_10.txt',\n",
       " '10340_9.txt',\n",
       " '10341_7.txt',\n",
       " '10342_7.txt',\n",
       " '10343_7.txt',\n",
       " '10344_7.txt',\n",
       " '10345_7.txt',\n",
       " '10346_9.txt',\n",
       " '10347_9.txt',\n",
       " '10348_8.txt',\n",
       " '10349_10.txt',\n",
       " '1034_7.txt',\n",
       " '10350_10.txt',\n",
       " '10351_8.txt',\n",
       " '10352_10.txt',\n",
       " '10353_9.txt',\n",
       " '10354_9.txt',\n",
       " '10355_9.txt',\n",
       " '10356_9.txt',\n",
       " '10357_8.txt',\n",
       " '10358_9.txt',\n",
       " '10359_7.txt',\n",
       " '1035_7.txt',\n",
       " '10360_8.txt',\n",
       " '10361_7.txt',\n",
       " '10362_8.txt',\n",
       " '10363_9.txt',\n",
       " '10364_10.txt',\n",
       " '10365_8.txt',\n",
       " '10366_10.txt',\n",
       " '10367_8.txt',\n",
       " '10368_7.txt',\n",
       " '10369_8.txt',\n",
       " '1036_9.txt',\n",
       " '10370_9.txt',\n",
       " '10371_8.txt',\n",
       " '10372_7.txt',\n",
       " '10373_7.txt',\n",
       " '10374_8.txt',\n",
       " '10375_10.txt',\n",
       " '10376_7.txt',\n",
       " '10377_9.txt',\n",
       " '10378_8.txt',\n",
       " '10379_10.txt',\n",
       " '1037_8.txt',\n",
       " '10380_10.txt',\n",
       " '10381_10.txt',\n",
       " '10382_10.txt',\n",
       " '10383_10.txt',\n",
       " '10384_10.txt',\n",
       " '10385_10.txt',\n",
       " '10386_8.txt',\n",
       " '10387_7.txt',\n",
       " '10388_7.txt',\n",
       " '10389_10.txt',\n",
       " '1038_7.txt',\n",
       " '10390_10.txt',\n",
       " '10391_10.txt',\n",
       " '10392_10.txt',\n",
       " '10393_9.txt',\n",
       " '10394_10.txt',\n",
       " '10395_8.txt',\n",
       " '10396_8.txt',\n",
       " '10397_8.txt',\n",
       " '10398_8.txt',\n",
       " '10399_10.txt',\n",
       " '1039_9.txt',\n",
       " '103_7.txt',\n",
       " '10400_10.txt',\n",
       " '10401_10.txt',\n",
       " '10402_10.txt',\n",
       " '10403_7.txt',\n",
       " '10404_9.txt',\n",
       " '10405_8.txt',\n",
       " '10406_10.txt',\n",
       " '10407_8.txt',\n",
       " '10408_10.txt',\n",
       " '10409_10.txt',\n",
       " '1040_10.txt',\n",
       " '10410_10.txt',\n",
       " '10411_9.txt',\n",
       " '10412_8.txt',\n",
       " '10413_10.txt',\n",
       " '10414_10.txt',\n",
       " '10415_7.txt',\n",
       " '10416_9.txt',\n",
       " '10417_8.txt',\n",
       " '10418_9.txt',\n",
       " '10419_10.txt',\n",
       " '1041_9.txt',\n",
       " '10420_10.txt',\n",
       " '10421_7.txt',\n",
       " '10422_7.txt',\n",
       " '10423_9.txt',\n",
       " '10424_9.txt',\n",
       " '10425_9.txt',\n",
       " '10426_9.txt',\n",
       " '10427_8.txt',\n",
       " '10428_10.txt',\n",
       " '10429_10.txt',\n",
       " '1042_10.txt',\n",
       " '10430_9.txt',\n",
       " '10431_10.txt',\n",
       " '10432_10.txt',\n",
       " '10433_9.txt',\n",
       " '10434_10.txt',\n",
       " '10435_7.txt',\n",
       " '10436_8.txt',\n",
       " '10437_7.txt',\n",
       " '10438_9.txt',\n",
       " '10439_8.txt',\n",
       " '1043_10.txt',\n",
       " '10440_9.txt',\n",
       " '10441_10.txt',\n",
       " '10442_10.txt',\n",
       " '10443_9.txt',\n",
       " '10444_9.txt',\n",
       " '10445_10.txt',\n",
       " '10446_10.txt',\n",
       " '10447_10.txt',\n",
       " '10448_10.txt',\n",
       " '10449_9.txt',\n",
       " '1044_8.txt',\n",
       " '10450_10.txt',\n",
       " '10451_10.txt',\n",
       " '10452_10.txt',\n",
       " '10453_10.txt',\n",
       " '10454_9.txt',\n",
       " '10455_10.txt',\n",
       " '10456_10.txt',\n",
       " '10457_8.txt',\n",
       " '10458_10.txt',\n",
       " '10459_9.txt',\n",
       " '1045_8.txt',\n",
       " '10460_10.txt',\n",
       " '10461_9.txt',\n",
       " '10462_7.txt',\n",
       " '10463_10.txt',\n",
       " '10464_7.txt',\n",
       " '10465_8.txt',\n",
       " '10466_8.txt',\n",
       " '10467_10.txt',\n",
       " '10468_9.txt',\n",
       " '10469_10.txt',\n",
       " '1046_10.txt',\n",
       " '10470_9.txt',\n",
       " '10471_10.txt',\n",
       " '10472_7.txt',\n",
       " '10473_10.txt',\n",
       " '10474_9.txt',\n",
       " '10475_8.txt',\n",
       " '10476_9.txt',\n",
       " '10477_9.txt',\n",
       " '10478_8.txt',\n",
       " '10479_10.txt',\n",
       " '1047_8.txt',\n",
       " '10480_10.txt',\n",
       " '10481_8.txt',\n",
       " '10482_10.txt',\n",
       " '10483_8.txt',\n",
       " '10484_8.txt',\n",
       " '10485_8.txt',\n",
       " '10486_7.txt',\n",
       " '10487_7.txt',\n",
       " '10488_10.txt',\n",
       " '10489_10.txt',\n",
       " '1048_8.txt',\n",
       " '10490_7.txt',\n",
       " '10491_7.txt',\n",
       " '10492_10.txt',\n",
       " '10493_9.txt',\n",
       " '10494_10.txt',\n",
       " '10495_7.txt',\n",
       " '10496_10.txt',\n",
       " '10497_8.txt',\n",
       " '10498_10.txt',\n",
       " '10499_10.txt',\n",
       " '1049_7.txt',\n",
       " '104_10.txt',\n",
       " '10500_10.txt',\n",
       " '10501_10.txt',\n",
       " '10502_9.txt',\n",
       " '10503_10.txt',\n",
       " '10504_9.txt',\n",
       " '10505_10.txt',\n",
       " '10506_10.txt',\n",
       " '10507_10.txt',\n",
       " '10508_10.txt',\n",
       " '10509_7.txt',\n",
       " '1050_9.txt',\n",
       " '10510_7.txt',\n",
       " '10511_7.txt',\n",
       " '10512_10.txt',\n",
       " '10513_7.txt',\n",
       " '10514_8.txt',\n",
       " '10515_9.txt',\n",
       " '10516_7.txt',\n",
       " '10517_8.txt',\n",
       " '10518_9.txt',\n",
       " '10519_9.txt',\n",
       " '1051_9.txt',\n",
       " '10520_9.txt',\n",
       " '10521_9.txt',\n",
       " '10522_7.txt',\n",
       " '10523_9.txt',\n",
       " '10524_10.txt',\n",
       " '10525_10.txt',\n",
       " '10526_9.txt',\n",
       " '10527_10.txt',\n",
       " '10528_10.txt',\n",
       " '10529_10.txt',\n",
       " '1052_8.txt',\n",
       " '10530_10.txt',\n",
       " '10531_10.txt',\n",
       " '10532_8.txt',\n",
       " '10533_10.txt',\n",
       " '10534_7.txt',\n",
       " '10535_7.txt',\n",
       " '10536_10.txt',\n",
       " '10537_10.txt',\n",
       " '10538_8.txt',\n",
       " '10539_10.txt',\n",
       " '1053_8.txt',\n",
       " '10540_10.txt',\n",
       " '10541_10.txt',\n",
       " '10542_7.txt',\n",
       " '10543_8.txt',\n",
       " '10544_8.txt',\n",
       " '10545_7.txt',\n",
       " '10546_9.txt',\n",
       " '10547_9.txt',\n",
       " '10548_7.txt',\n",
       " '10549_9.txt',\n",
       " '1054_8.txt',\n",
       " '10550_8.txt',\n",
       " '10551_7.txt',\n",
       " '10552_9.txt',\n",
       " '10553_8.txt',\n",
       " '10554_7.txt',\n",
       " '10555_8.txt',\n",
       " '10556_10.txt',\n",
       " '10557_9.txt',\n",
       " '10558_10.txt',\n",
       " '10559_8.txt',\n",
       " '1055_10.txt',\n",
       " '10560_9.txt',\n",
       " '10561_8.txt',\n",
       " '10562_9.txt',\n",
       " '10563_7.txt',\n",
       " '10564_10.txt',\n",
       " '10565_9.txt',\n",
       " '10566_8.txt',\n",
       " '10567_9.txt',\n",
       " '10568_10.txt',\n",
       " '10569_10.txt',\n",
       " '1056_10.txt',\n",
       " '10570_8.txt',\n",
       " '10571_8.txt',\n",
       " '10572_8.txt',\n",
       " '10573_10.txt',\n",
       " '10574_10.txt',\n",
       " '10575_9.txt',\n",
       " '10576_7.txt',\n",
       " '10577_10.txt',\n",
       " '10578_7.txt',\n",
       " '10579_10.txt',\n",
       " '1057_9.txt',\n",
       " '10580_8.txt',\n",
       " '10581_10.txt',\n",
       " '10582_10.txt',\n",
       " '10583_10.txt',\n",
       " '10584_10.txt',\n",
       " '10585_9.txt',\n",
       " '10586_10.txt',\n",
       " '10587_8.txt',\n",
       " '10588_10.txt',\n",
       " '10589_10.txt',\n",
       " '1058_10.txt',\n",
       " '10590_8.txt',\n",
       " '10591_10.txt',\n",
       " '10592_8.txt',\n",
       " '10593_8.txt',\n",
       " '10594_8.txt',\n",
       " '10595_10.txt',\n",
       " '10596_8.txt',\n",
       " '10597_9.txt',\n",
       " '10598_8.txt',\n",
       " '10599_8.txt',\n",
       " '1059_10.txt',\n",
       " '105_7.txt',\n",
       " '10600_9.txt',\n",
       " '10601_10.txt',\n",
       " '10602_10.txt',\n",
       " '10603_10.txt',\n",
       " '10604_7.txt',\n",
       " '10605_7.txt',\n",
       " '10606_10.txt',\n",
       " '10607_10.txt',\n",
       " '10608_10.txt',\n",
       " '10609_10.txt',\n",
       " '1060_10.txt',\n",
       " '10610_8.txt',\n",
       " '10611_8.txt',\n",
       " '10612_7.txt',\n",
       " '10613_8.txt',\n",
       " '10614_7.txt',\n",
       " '10615_8.txt',\n",
       " '10616_7.txt',\n",
       " '10617_8.txt',\n",
       " '10618_8.txt',\n",
       " '10619_8.txt',\n",
       " '1061_10.txt',\n",
       " '10620_10.txt',\n",
       " '10621_10.txt',\n",
       " '10622_10.txt',\n",
       " '10623_8.txt',\n",
       " '10624_7.txt',\n",
       " '10625_7.txt',\n",
       " '10626_7.txt',\n",
       " '10627_10.txt',\n",
       " '10628_7.txt',\n",
       " '10629_10.txt',\n",
       " '1062_10.txt',\n",
       " '10630_8.txt',\n",
       " '10631_8.txt',\n",
       " '10632_10.txt',\n",
       " '10633_9.txt',\n",
       " '10634_10.txt',\n",
       " '10635_8.txt',\n",
       " '10636_8.txt',\n",
       " '10637_10.txt',\n",
       " '10638_8.txt',\n",
       " '10639_7.txt',\n",
       " '1063_10.txt',\n",
       " '10640_8.txt',\n",
       " '10641_7.txt',\n",
       " '10642_8.txt',\n",
       " '10643_8.txt',\n",
       " '10644_8.txt',\n",
       " '10645_8.txt',\n",
       " '10646_8.txt',\n",
       " '10647_8.txt',\n",
       " '10648_8.txt',\n",
       " '10649_7.txt',\n",
       " '1064_10.txt',\n",
       " '10650_8.txt',\n",
       " '10651_7.txt',\n",
       " '10652_9.txt',\n",
       " '10653_10.txt',\n",
       " '10654_7.txt',\n",
       " '10655_9.txt',\n",
       " '10656_7.txt',\n",
       " '10657_8.txt',\n",
       " '10658_10.txt',\n",
       " '10659_8.txt',\n",
       " '1065_10.txt',\n",
       " '10660_10.txt',\n",
       " '10661_9.txt',\n",
       " '10662_7.txt',\n",
       " '10663_8.txt',\n",
       " '10664_8.txt',\n",
       " '10665_8.txt',\n",
       " '10666_8.txt',\n",
       " '10667_8.txt',\n",
       " '10668_7.txt',\n",
       " '10669_10.txt',\n",
       " '1066_10.txt',\n",
       " '10670_10.txt',\n",
       " '10671_10.txt',\n",
       " '10672_9.txt',\n",
       " '10673_10.txt',\n",
       " '10674_8.txt',\n",
       " '10675_8.txt',\n",
       " '10676_9.txt',\n",
       " '10677_8.txt',\n",
       " '10678_9.txt',\n",
       " '10679_10.txt',\n",
       " '1067_7.txt',\n",
       " '10680_8.txt',\n",
       " '10681_10.txt',\n",
       " '10682_10.txt',\n",
       " '10683_7.txt',\n",
       " '10684_9.txt',\n",
       " '10685_7.txt',\n",
       " '10686_8.txt',\n",
       " '10687_10.txt',\n",
       " '10688_9.txt',\n",
       " '10689_8.txt',\n",
       " '1068_10.txt',\n",
       " '10690_10.txt',\n",
       " '10691_7.txt',\n",
       " '10692_8.txt',\n",
       " '10693_8.txt',\n",
       " '10694_7.txt',\n",
       " '10695_8.txt',\n",
       " '10696_7.txt',\n",
       " '10697_8.txt',\n",
       " '10698_9.txt',\n",
       " '10699_9.txt',\n",
       " '1069_10.txt',\n",
       " '106_10.txt',\n",
       " '10700_8.txt',\n",
       " '10701_10.txt',\n",
       " '10702_10.txt',\n",
       " '10703_7.txt',\n",
       " '10704_10.txt',\n",
       " '10705_7.txt',\n",
       " '10706_7.txt',\n",
       " '10707_8.txt',\n",
       " '10708_8.txt',\n",
       " '10709_10.txt',\n",
       " '1070_8.txt',\n",
       " '10710_9.txt',\n",
       " '10711_10.txt',\n",
       " '10712_8.txt',\n",
       " '10713_9.txt',\n",
       " '10714_8.txt',\n",
       " '10715_8.txt',\n",
       " '10716_7.txt',\n",
       " '10717_10.txt',\n",
       " '10718_10.txt',\n",
       " '10719_10.txt',\n",
       " '1071_8.txt',\n",
       " '10720_9.txt',\n",
       " '10721_9.txt',\n",
       " '10722_10.txt',\n",
       " '10723_8.txt',\n",
       " '10724_8.txt',\n",
       " '10725_9.txt',\n",
       " '10726_7.txt',\n",
       " '10727_7.txt',\n",
       " '10728_10.txt',\n",
       " '10729_8.txt',\n",
       " '1072_10.txt',\n",
       " '10730_10.txt',\n",
       " '10731_7.txt',\n",
       " '10732_8.txt',\n",
       " '10733_7.txt',\n",
       " '10734_10.txt',\n",
       " '10735_10.txt',\n",
       " '10736_10.txt',\n",
       " '10737_10.txt',\n",
       " '10738_9.txt',\n",
       " '10739_10.txt',\n",
       " '1073_9.txt',\n",
       " '10740_8.txt',\n",
       " '10741_10.txt',\n",
       " '10742_9.txt',\n",
       " '10743_9.txt',\n",
       " '10744_8.txt',\n",
       " '10745_10.txt',\n",
       " '10746_10.txt',\n",
       " '10747_10.txt',\n",
       " '10748_10.txt',\n",
       " '10749_8.txt',\n",
       " '1074_10.txt',\n",
       " '10750_8.txt',\n",
       " '10751_10.txt',\n",
       " '10752_10.txt',\n",
       " '10753_10.txt',\n",
       " '10754_10.txt',\n",
       " '10755_10.txt',\n",
       " '10756_8.txt',\n",
       " '10757_10.txt',\n",
       " '10758_8.txt',\n",
       " '10759_9.txt',\n",
       " '1075_10.txt',\n",
       " '10760_8.txt',\n",
       " '10761_10.txt',\n",
       " '10762_10.txt',\n",
       " '10763_8.txt',\n",
       " '10764_9.txt',\n",
       " '10765_10.txt',\n",
       " '10766_7.txt',\n",
       " '10767_10.txt',\n",
       " '10768_7.txt',\n",
       " '10769_10.txt',\n",
       " '1076_8.txt',\n",
       " '10770_7.txt',\n",
       " '10771_10.txt',\n",
       " '10772_10.txt',\n",
       " '10773_9.txt',\n",
       " '10774_8.txt',\n",
       " '10775_8.txt',\n",
       " '10776_8.txt',\n",
       " '10777_9.txt',\n",
       " '10778_8.txt',\n",
       " '10779_10.txt',\n",
       " '1077_8.txt',\n",
       " '10780_10.txt',\n",
       " '10781_10.txt',\n",
       " '10782_7.txt',\n",
       " '10783_10.txt',\n",
       " '10784_10.txt',\n",
       " '10785_10.txt',\n",
       " '10786_10.txt',\n",
       " '10787_10.txt',\n",
       " '10788_10.txt',\n",
       " '10789_10.txt',\n",
       " '1078_8.txt',\n",
       " '10790_8.txt',\n",
       " '10791_9.txt',\n",
       " '10792_9.txt',\n",
       " '10793_10.txt',\n",
       " '10794_10.txt',\n",
       " '10795_7.txt',\n",
       " '10796_9.txt',\n",
       " '10797_8.txt',\n",
       " '10798_8.txt',\n",
       " '10799_7.txt',\n",
       " '1079_7.txt',\n",
       " '107_10.txt',\n",
       " '10800_8.txt',\n",
       " '10801_8.txt',\n",
       " '10802_8.txt',\n",
       " '10803_8.txt',\n",
       " '10804_10.txt',\n",
       " '10805_10.txt',\n",
       " '10806_9.txt',\n",
       " '10807_9.txt',\n",
       " '10808_10.txt',\n",
       " '10809_10.txt',\n",
       " '1080_9.txt',\n",
       " '10810_8.txt',\n",
       " '10811_7.txt',\n",
       " '10812_8.txt',\n",
       " '10813_10.txt',\n",
       " '10814_7.txt',\n",
       " '10815_10.txt',\n",
       " '10816_10.txt',\n",
       " '10817_10.txt',\n",
       " '10818_10.txt',\n",
       " '10819_10.txt',\n",
       " '1081_10.txt',\n",
       " '10820_10.txt',\n",
       " '10821_8.txt',\n",
       " '10822_10.txt',\n",
       " '10823_8.txt',\n",
       " '10824_10.txt',\n",
       " '10825_9.txt',\n",
       " '10826_10.txt',\n",
       " '10827_10.txt',\n",
       " '10828_10.txt',\n",
       " '10829_10.txt',\n",
       " '1082_10.txt',\n",
       " '10830_10.txt',\n",
       " '10831_7.txt',\n",
       " '10832_10.txt',\n",
       " '10833_10.txt',\n",
       " '10834_7.txt',\n",
       " '10835_10.txt',\n",
       " '10836_10.txt',\n",
       " '10837_10.txt',\n",
       " '10838_10.txt',\n",
       " '10839_10.txt',\n",
       " '1083_10.txt',\n",
       " '10840_9.txt',\n",
       " '10841_10.txt',\n",
       " '10842_7.txt',\n",
       " '10843_7.txt',\n",
       " '10844_9.txt',\n",
       " '10845_10.txt',\n",
       " '10846_9.txt',\n",
       " '10847_10.txt',\n",
       " '10848_10.txt',\n",
       " '10849_10.txt',\n",
       " '1084_9.txt',\n",
       " '10850_10.txt',\n",
       " '10851_9.txt',\n",
       " '10852_10.txt',\n",
       " '10853_10.txt',\n",
       " '10854_10.txt',\n",
       " '10855_9.txt',\n",
       " '10856_8.txt',\n",
       " '10857_8.txt',\n",
       " '10858_8.txt',\n",
       " '10859_7.txt',\n",
       " '1085_7.txt',\n",
       " '10860_7.txt',\n",
       " '10861_7.txt',\n",
       " '10862_9.txt',\n",
       " '10863_8.txt',\n",
       " '10864_8.txt',\n",
       " '10865_7.txt',\n",
       " '10866_7.txt',\n",
       " '10867_7.txt',\n",
       " '10868_8.txt',\n",
       " '10869_7.txt',\n",
       " '1086_7.txt',\n",
       " '10870_8.txt',\n",
       " '10871_7.txt',\n",
       " '10872_7.txt',\n",
       " '10873_8.txt',\n",
       " '10874_10.txt',\n",
       " '10875_8.txt',\n",
       " '10876_7.txt',\n",
       " '10877_10.txt',\n",
       " '10878_7.txt',\n",
       " '10879_10.txt',\n",
       " '1087_10.txt',\n",
       " '10880_8.txt',\n",
       " '10881_7.txt',\n",
       " '10882_8.txt',\n",
       " '10883_7.txt',\n",
       " '10884_8.txt',\n",
       " '10885_7.txt',\n",
       " '10886_10.txt',\n",
       " '10887_7.txt',\n",
       " '10888_8.txt',\n",
       " '10889_10.txt',\n",
       " '1088_9.txt',\n",
       " '10890_9.txt',\n",
       " '10891_7.txt',\n",
       " '10892_7.txt',\n",
       " '10893_8.txt',\n",
       " '10894_8.txt',\n",
       " '10895_7.txt',\n",
       " '10896_8.txt',\n",
       " '10897_9.txt',\n",
       " '10898_7.txt',\n",
       " '10899_10.txt',\n",
       " '1089_10.txt',\n",
       " '108_10.txt',\n",
       " ...]"
      ]
     },
     "execution_count": 27,
     "metadata": {},
     "output_type": "execute_result"
    }
   ],
   "source": [
    "\n",
    "sample_files = os.path.join(train_dir, 'pos')\n",
    "os.listdir(sample_files)"
   ]
  },
  {
   "cell_type": "code",
   "execution_count": 28,
   "metadata": {},
   "outputs": [],
   "source": [
    "sample_file = os.path.join(train_dir, 'pos/1181_9.txt')"
   ]
  },
  {
   "cell_type": "code",
   "execution_count": 29,
   "metadata": {},
   "outputs": [
    {
     "name": "stdout",
     "output_type": "stream",
     "text": [
      "Rachel Griffiths writes and directs this award winning short film. A heartwarming story about coping with grief and cherishing the memory of those we've loved and lost. Although, only 15 minutes long, Griffiths manages to capture so much emotion and truth onto film in the short space of time. Bud Tingwell gives a touching performance as Will, a widower struggling to cope with his wife's death. Will is confronted by the harsh reality of loneliness and helplessness as he proceeds to take care of Ruth's pet cow, Tulip. The film displays the grief and responsibility one feels for those they have loved and lost. Good cinematography, great direction, and superbly acted. It will bring tears to all those who have lost a loved one, and survived.\n"
     ]
    }
   ],
   "source": [
    "with open(sample_file) as f:\n",
    "  print(f.read())"
   ]
  },
  {
   "cell_type": "code",
   "execution_count": 32,
   "metadata": {},
   "outputs": [],
   "source": [
    "remove_dir = os.path.join(train_dir, 'unsup')\n",
    "shutil.rmtree(remove_dir)"
   ]
  },
  {
   "cell_type": "markdown",
   "metadata": {},
   "source": [
    "When running a machine learning experiment, it is a best practice to divide your dataset into three splits: train, validation, and test.\n",
    "\n",
    "The IMDB dataset has already been divided into train and test, but it lacks a validation set. Let's create a validation set using an 80:20 split of the training data by using the validation_split argument below.\n",
    "\n",
    "\n",
    "batch_size = 32"
   ]
  },
  {
   "cell_type": "markdown",
   "metadata": {},
   "source": [
    "To prepare a dataset for binary classification, you will need two folders on disk, corresponding to class_a and class_b. These will be the positive and negative movie reviews, which can be found in aclImdb/train/pos and aclImdb/train/neg. As the IMDB dataset contains additional folders, you will remove them before using this utility"
   ]
  },
  {
   "cell_type": "code",
   "execution_count": null,
   "metadata": {},
   "outputs": [
    {
     "name": "stdout",
     "output_type": "stream",
     "text": [
      "Found 25000 files belonging to 2 classes.\n",
      "Using 20000 files for training.\n"
     ]
    }
   ],
   "source": [
    "batch_size = 32\n",
    "seed = 42\n",
    "\n",
    "raw_train_ds = tf.keras.utils.text_dataset_from_directory(\n",
    "    train_dir,\n",
    "    batch_size=batch_size,\n",
    "    validation_split=0.2,\n",
    "    subset='training', # set as training data\n",
    "    seed=seed)"
   ]
  },
  {
   "cell_type": "code",
   "execution_count": 35,
   "metadata": {},
   "outputs": [
    {
     "data": {
      "text/plain": [
       "<_TakeDataset element_spec=(TensorSpec(shape=(None,), dtype=tf.string, name=None), TensorSpec(shape=(None,), dtype=tf.int32, name=None))>"
      ]
     },
     "execution_count": 35,
     "metadata": {},
     "output_type": "execute_result"
    }
   ],
   "source": [
    "raw_train_ds.take(1)"
   ]
  },
  {
   "cell_type": "markdown",
   "metadata": {},
   "source": [
    "As you can see above, there are 25,000 examples in the training folder, of which you will use 80% (or 20,000) for training. As you will see in a moment, you can train a model by passing a dataset directly to model.fit"
   ]
  },
  {
   "cell_type": "code",
   "execution_count": 36,
   "metadata": {},
   "outputs": [
    {
     "name": "stdout",
     "output_type": "stream",
     "text": [
      "Review b'\"Pandemonium\" is a horror movie spoof that comes off more stupid than funny. Believe me when I tell you, I love comedies. Especially comedy spoofs. \"Airplane\", \"The Naked Gun\" trilogy, \"Blazing Saddles\", \"High Anxiety\", and \"Spaceballs\" are some of my favorite comedies that spoof a particular genre. \"Pandemonium\" is not up there with those films. Most of the scenes in this movie had me sitting there in stunned silence because the movie wasn\\'t all that funny. There are a few laughs in the film, but when you watch a comedy, you expect to laugh a lot more than a few times and that\\'s all this film has going for it. Geez, \"Scream\" had more laughs than this film and that was more of a horror film. How bizarre is that?<br /><br />*1/2 (out of four)'\n",
      "Label 0\n",
      "Review b\"David Mamet is a very interesting and a very un-equal director. His first movie 'House of Games' was the one I liked best, and it set a series of films with characters whose perspective of life changes as they get into complicated situations, and so does the perspective of the viewer.<br /><br />So is 'Homicide' which from the title tries to set the mind of the viewer to the usual crime drama. The principal characters are two cops, one Jewish and one Irish who deal with a racially charged area. The murder of an old Jewish shop owner who proves to be an ancient veteran of the Israeli Independence war triggers the Jewish identity in the mind and heart of the Jewish detective.<br /><br />This is were the flaws of the film are the more obvious. The process of awakening is theatrical and hard to believe, the group of Jewish militants is operatic, and the way the detective eventually walks to the final violent confrontation is pathetic. The end of the film itself is Mamet-like smart, but disappoints from a human emotional perspective.<br /><br />Joe Mantegna and William Macy give strong performances, but the flaws of the story are too evident to be easily compensated.\"\n",
      "Label 0\n",
      "Review b'Great documentary about the lives of NY firefighters during the worst terrorist attack of all time.. That reason alone is why this should be a must see collectors item.. What shocked me was not only the attacks, but the\"High Fat Diet\" and physical appearance of some of these firefighters. I think a lot of Doctors would agree with me that,in the physical shape they were in, some of these firefighters would NOT of made it to the 79th floor carrying over 60 lbs of gear. Having said that i now have a greater respect for firefighters and i realize becoming a firefighter is a life altering job. The French have a history of making great documentary\\'s and that is what this is, a Great Documentary.....'\n",
      "Label 1\n"
     ]
    }
   ],
   "source": [
    "for text_batch, label_batch in raw_train_ds.take(1):\n",
    "  for i in range(3):\n",
    "    print(\"Review\", text_batch.numpy()[i])\n",
    "    print(\"Label\", label_batch.numpy()[i])"
   ]
  },
  {
   "cell_type": "code",
   "execution_count": 37,
   "metadata": {},
   "outputs": [
    {
     "name": "stdout",
     "output_type": "stream",
     "text": [
      "Text: tf.Tensor(\n",
      "[b\"Having seen most of Ringo Lam's films, I can say that this is his best film to date, and the most unusual. It's a ancient china period piece cranked full of kick-ass martial arts, where the location of an underground lair full of traps and dungeons plays as big a part as any of the characters. The action is fantastic, the story is tense and entertaining, and the set design is truely memorable. Sadly, Burning Paradise has not been made available on DVD and vhs is next-to-impossible to get your mitts on, even if you near the second biggest china-town in North America (like I do). If you can find it, don't pass it up.\"\n",
      " b'Caution: May contain spoilers...<br /><br />I\\'ve seen this movie 3 times & I\\'ve liked it every time. Upon seeing it again, I\\'m always reminded of how good it is. An HBO TV movie- very well done like most of their movies are- this would\\'ve gotten Oscars for it\\'s performances had it been released for general distribution instead of made for TV.<br /><br />As I\\'m sure anyone knows from reading other reviews here, this is the story of serial murderer, Andrei Chikatilo. He murdered 56 people over 8 years in the former Soviet Union. (3 victims were buried & couldn\\'t be found so he was only convicted of 52 out of 53 of his murders.) The story actually focuses more on the forensic analyst, Victor Burakov played to perfection by Stephen Rea. A man that becomes tortured and obsessed with finding this killer despite the additional obstacles placed by party hacks, his part is essential to be sure. There is a very touching scene towards the end of the movie that mentions how in America, investigators are routinely taken off serial killer cases after 18 months whether they want to or not due to the mental strain & frustration. According to this acct, Burakov worked for over 5 years before getting his first break from it. He followed the case to its conclusion, 3 years later. In this scene, his superior, General Fetisov, played by Donald Sutherland, actually tells him he admires his dedication and apologizes for not knowing he should\\'ve given him a break sooner.<br /><br />Rea\\'s performance is so well done, he doesn\\'t overact, chew up the scenery or do anything that distracts from his portrayal of a man who is hell bent on finding his killer. He is a man with passion, but doesn\\'t show it in the same manner as is so usually portrayed in detective movies. He only occasionally gives outbursts after quietly putting up with more than most could stand under such circumstances. Rea does so much with his face, his eyes, he doesn\\'t need to overact. He just *is* - His character, so frustrated after so long, at one point, driven to frustration, he actually says he\\'d rather find 3 at one time than none in a year. Of course what he means is not that he wants more people to die, he just wants some clues to catch this man. Rea makes us feel for this man. He makes us understand but a glimpse of what it is to live with such horror and futility.<br /><br />A mutant to be sure, Chikatilo\\'s childhood was one which produces such \"monsters.\" The character of Chikatilo is very well done by Jeffrey DeMunn. He somehow (impossible though it may seem) elicits some modicum of sympathy for himself. Perhaps he is the worst of us gone terribly wrong? Either way, his performance is very well done.<br /><br />Donald Sutherland as Colonel Fetisov (later promoted to General) also does a great job. He starts out seeming to be a cynical worldly official that doesn\\'t seem much more interested in helping the investigation than anyone else blocking Burakov. But he eventually becomes more than just an assistant, he actually actively participates in helping Burakov. There is also a very nice turn by Max Von Sydow as the psychiatrist brought in to help profile and figure out what kind of deviant they are looking for.<br /><br />Although this movie deals with a morbid, grotesque and violent story, it really is more about what it takes to catch a killer than the killer himself. All around a very well done movie with fine performances and a great screenplay. The screenplay manages to do what the best of this type of movie does: give factual events & place them meaningfully inside a dramatic framework that makes you feel like you know the people *behind* the facts.<br /><br />9 out of 10 stars'\n",
      " b\"from the view of a NASCAR Maniac like I am, the movie is interesting. You can see many race cars from 1983. Even tough, the racing scenes are not that much realistic. But I have to admit, that I haven't seen any race before 1995, because before that time, they didn't show any NASCAR races in Germany)<br /><br />from the view of a Burt Reynolds fan like I am, the movie basically is what we are used to see from Reynolds in the 80's: Burt behind the wheel of a fast car, like in his Bandit Movies.<br /><br />If you love NASCAR and Burt Reynolds, this movie is a must-see. If you only love one of this 2 things, I also recommend to watch it. If you like neither NASCAR nor Burt Reynolds, you still should give it a chance, but remember, this movie was far away from winning an Oscar Academy Award.<br /><br />It is the typical humor of the 80's. If you like movies like the Cannonball Movies, and Police Academy, you will also like that one.\"\n",
      " b'When it first came out, this work by the Meysels brothers was much criticized and even judged to be exploitation. Luckily, it is now hailed as a masterpiece of documentary cinema, especially now that society has been exposed to real exploitation in what is reality television, and the bad evolution of most direct cinema.<br /><br />Really, at first, we must say that this isn\\'t really direct cinema, it is more cinema verit\\xc3\\xa9. The difference between the two is very slight, but it mainly is the fact that in this documentary, we are made to feel the presence of the Meysels brothers, and they do interact with the characters filmed. This as well makes it clear that it is not exploitation. The Meysels have been allowed in the house, and they are included in what is a very eccentric situation of a very eccentric household. And both Edith and Edie just love the idea of being filmed.<br /><br />It would have been very disappointing had very been shown only a voice of God narration and shallow interviews. Here, we are given a full portrait of the madness of the house, a madness that does seem to go down well with both Edie and her mother Edith. Their house is a mess, litter and animals everywhere, faded colors and furniture all over the house, and the constant fights that are constant interactions of reality. These two people have lived with each other their whole life, and are not fighting in front of the camera because they want the attention, but rather because they can\\'t help talking to each other this way. They know each other too well to hide their inner feelings, there is no need. In the end, though, even as they blame each other for their lives, they really love each other deeply. Edie says she doesn\\'t want her mother to die, because she loves her very much, and Edith says that she doesn\\'t want Edie to leave her because she doesn\\'t want to be alone.<br /><br />But the most interesting aspect of the film is that regardless of their old age, the two women can\\'t help be girls. They cannot help being one the singer, the other the dancer. Exhibit all their artistic skills in front of their camera. When Edie asks David Meysels rhetorically \"Where have you been all my life?\" she is really very happy that she finally gets to show the whole world herself and her wonderful showgirls skills. A beautiful portrait of stylistic importance and a charm that is highly unlikely to be ever seen again, the way only the Meysels and few others could do.'\n",
      " b\"I thought that this was an absolutely charming movie centering around the lives of Mary-Kate's and Ashley's characters Sam and Emma Stanton! They are both trying to make both themselves and their parents happy but; unfortunately, it's just not that easy for them to actually do! I thought that this was an utterly charming and sweet movie and if you are a real fan of these marvelous young ladies then I'm sure that you'll agree with me here! If you haven't seen this movie yet then I say you really missed-out; big time, and that you should definitely take the time out to see it now! This movie is a real winner! Sincerely, Rick Morris\"], shape=(5,), dtype=string)\n",
      "Label: tf.Tensor([1 1 1 1 1], shape=(5,), dtype=int32)\n"
     ]
    }
   ],
   "source": [
    "for text_batch, label_batch in raw_train_ds.take(1):\n",
    "    print(\"Text:\", text_batch[:5])\n",
    "    print(\"Label:\", label_batch[:5])"
   ]
  },
  {
   "cell_type": "code",
   "execution_count": 38,
   "metadata": {},
   "outputs": [
    {
     "name": "stdout",
     "output_type": "stream",
     "text": [
      "Label 0 corresponds to neg\n",
      "Label 1 corresponds to pos\n"
     ]
    }
   ],
   "source": [
    "print(\"Label 0 corresponds to\", raw_train_ds.class_names[0])\n",
    "print(\"Label 1 corresponds to\", raw_train_ds.class_names[1])"
   ]
  },
  {
   "cell_type": "markdown",
   "metadata": {},
   "source": [
    "Notice the reviews contain raw text (with punctuation and occasional HTML tags like <br/>). You will show how to handle these in the following section."
   ]
  },
  {
   "cell_type": "code",
   "execution_count": 40,
   "metadata": {},
   "outputs": [
    {
     "name": "stdout",
     "output_type": "stream",
     "text": [
      "Found 25000 files belonging to 2 classes.\n",
      "Using 5000 files for validation.\n"
     ]
    }
   ],
   "source": [
    "\n",
    "raw_val_ds = tf.keras.utils.text_dataset_from_directory(\n",
    "    train_dir,\n",
    "    batch_size=batch_size,\n",
    "    validation_split=0.2,\n",
    "    subset='validation', # Use the 20% of data for validation\n",
    "    seed=seed) #In machine learning, a seed is a numerical value used to initialize the random number generator (RNG) for reproducibility"
   ]
  },
  {
   "cell_type": "code",
   "execution_count": 41,
   "metadata": {},
   "outputs": [],
   "source": [
    "test_dir = os.path.join(dataset_dir, 'test')"
   ]
  },
  {
   "cell_type": "markdown",
   "metadata": {},
   "source": [
    "label automatically generated based on directory neg and pos"
   ]
  },
  {
   "cell_type": "code",
   "execution_count": 42,
   "metadata": {},
   "outputs": [
    {
     "name": "stdout",
     "output_type": "stream",
     "text": [
      "Found 25000 files belonging to 2 classes.\n"
     ]
    }
   ],
   "source": [
    "raw_test_ds = tf.keras.utils.text_dataset_from_directory(\n",
    "    test_dir,\n",
    "    batch_size=batch_size)"
   ]
  },
  {
   "cell_type": "markdown",
   "metadata": {},
   "source": [
    "Prepare the dataset for training"
   ]
  },
  {
   "cell_type": "markdown",
   "metadata": {},
   "source": [
    "Next, you will standardize, tokenize, and vectorize the data using the helpful tf.keras.layers.TextVectorization layer.\n",
    "\n",
    "Standardization refers to preprocessing the text, typically to remove punctuation or HTML elements to simplify the dataset. "
   ]
  },
  {
   "cell_type": "markdown",
   "metadata": {},
   "source": [
    "Tokenization refers to splitting strings into tokens (for example, splitting a sentence into individual words, by splitting on whitespace)"
   ]
  },
  {
   "cell_type": "markdown",
   "metadata": {},
   "source": [
    "Vectorization refers to converting tokens into numbers so they can be fed into a neural network. All of these tasks can be accomplished with this layer."
   ]
  },
  {
   "cell_type": "code",
   "execution_count": 43,
   "metadata": {},
   "outputs": [],
   "source": [
    "def custom_standardization(input_data):\n",
    "  lowercase = tf.strings.lower(input_data)\n",
    "  stripped_html = tf.strings.regex_replace(lowercase, '<br />', ' ')\n",
    "  #This line of code uses TensorFlow's tf.strings.regex_replace function to replace HTML line breaks (<br />) with spaces in a string tensor.\n",
    "  return tf.strings.regex_replace(stripped_html, '[%s]' % re.escape(string.punctuation), '')\n",
    "#re.escape() escapes special characters in the punctuation string, ensuring they're treated as literal characters in the regex pattern.\n",
    "# The pattern [%s] matches any single character in the escaped punctuation string."
   ]
  },
  {
   "cell_type": "code",
   "execution_count": 45,
   "metadata": {},
   "outputs": [],
   "source": [
    "max_features = 10000\n",
    "sequence_length = 250\n",
    "\n",
    "vectorize_layer = layers.TextVectorization(\n",
    "    standardize=custom_standardization,\n",
    "    max_tokens=max_features,\n",
    "    output_mode='int',\n",
    "    output_sequence_length=sequence_length)"
   ]
  },
  {
   "cell_type": "markdown",
   "metadata": {},
   "source": [
    "Next, you will create a TextVectorization layer. You will use this layer to standardize, tokenize, and vectorize our data. You set the output_mode to int to create unique integer indices for each token.\n",
    "\n",
    "Note that you're using the default split function, and the custom standardization function you defined above. You'll also define some constants for the model, like an explicit maximum sequence_length, which will cause the layer to pad or truncate sequences to exactly sequence_length values."
   ]
  },
  {
   "cell_type": "code",
   "execution_count": 46,
   "metadata": {},
   "outputs": [],
   "source": [
    "# Make a text-only dataset (without labels), then call adapt\n",
    "train_text = raw_train_ds.map(lambda x, y: x) #  convert x, y to only x\n",
    "vectorize_layer.adapt(train_text)"
   ]
  },
  {
   "cell_type": "code",
   "execution_count": 47,
   "metadata": {},
   "outputs": [],
   "source": [
    "def vectorize_text(text, label):\n",
    "  text = tf.expand_dims(text, -1)\n",
    "  return vectorize_layer(text), label"
   ]
  },
  {
   "cell_type": "code",
   "execution_count": 48,
   "metadata": {},
   "outputs": [],
   "source": [
    "text_batch, label_batch = next(iter(raw_train_ds))"
   ]
  },
  {
   "cell_type": "code",
   "execution_count": 51,
   "metadata": {},
   "outputs": [
    {
     "data": {
      "text/plain": [
       "<tf.Tensor: shape=(), dtype=string, numpy=b'Great movie - especially the music - Etta James - \"At Last\". This speaks volumes when you have finally found that special someone.'>"
      ]
     },
     "execution_count": 51,
     "metadata": {},
     "output_type": "execute_result"
    }
   ],
   "source": [
    "text_batch[0]"
   ]
  },
  {
   "cell_type": "code",
   "execution_count": 50,
   "metadata": {},
   "outputs": [
    {
     "data": {
      "text/plain": [
       "<tf.Tensor: shape=(32,), dtype=string, numpy=\n",
       "array([b'Great movie - especially the music - Etta James - \"At Last\". This speaks volumes when you have finally found that special someone.',\n",
       "       b\"I am shocked. Shocked and dismayed that the 428 of you IMDB users who voted before me have not given this film a rating of higher than 7. 7?!?? - that's a C!. If I could give FOBH a 20, I'd gladly do it. This film ranks high atop the pantheon of modern comedy, alongside Half Baked and Mallrats, as one of the most hilarious films of all time. If you know _anything_ about rap music - YOU MUST SEE THIS!! If you know nothing about rap music - learn something!, and then see this! Comparisons to 'Spinal Tap' fail to appreciate the inspired genius of this unique film. If you liked Bob Roberts, you'll love this. Watch it and vote it a 10!\",\n",
       "       b'What a lovely heart warming television movie. The story tells of a little five year old girl who has lost her daddy and finds it impossible to cope. Her mother is also very distressed ..only a miracle can alleviate their unhappiness.Which all viewers hope will materialise. Samantha Mathis is brilliant as the little girl\\'s mum ,as she was as the nanny in\" Jack and Sarah\",worth watching if you like both Samantha Mathis and happy; year tear jerking movies! Ellen Burstyn is, as, always a delightful grandmother in this tender and magnificently acted movie. Jodelle Ferland (the little five year old) is charming and a most convincing young actress. The film is based on a true story which makes it so touching.\"Mermaid\" is a tribute to the milk of human kindness which is clearly illustrated and clearly is still all around us in this difficult world we live in. \"Mermaid\" gives us all hope ,by realising that there a lot of lovely people in the world with lot\\'s of love to give. James Robson Glasgow Scotland U.K.',\n",
       "       b'I haven\\'t read this book, but all through the movie I was awestruck with only one thought in my head: This is so Vonnegut. I have never seen an author, all of the intelligence and life behind the workings of a novel, translated so well to film. This movie had the same complexities found in Vonnegut\\'s novels: the jokes were often meaningful and symbolic, and the dramatic events and symbols were often also jokes.<br /><br />Campbell was also a very Vonnegut character, portrayed perfectly by Nick Nolte. He had all of the earmarks of a Vonnegut \"hero\": lack of concern for political boundaries, ironic dark humor giving way to dumb inactivity in response to stress, and an unwillingness to push his version of reality on those around him.<br /><br />Overall, I was constantly surprised and impressed as I watched this movie. It was the same feeling I had reading \"Cat\\'s Cradle,\" my first Vonnegut novel, as if the most perfectly oddball thing that could happen, he thought of THAT, and he made it real and important. Yes, he has nothing but army surplus \"White Christmas\" albums. So it goes!',\n",
       "       b'\"A Cry in the Dark\" is a masterful piece of cinema, haunting, and incredibly though provoking. The true story of Lindy Chamberland, who, in 1980, witnessed a horrific sight, seeing her 3-month-old baby being brutally taken from their family\\'s tent, while camping on the Austrailian outback. Azaria (the baby) was never seen again, and the result of her horrendous disappearance caused a true life frenzy all around the world. Meryl Streep does immaculate justice to the role of Lindy, as she always does. But the one thing that helps \"A Cry in the Dark\" never fall flat is the brilliant direction. A truly inspired and accurate outlook on this baffeling case, tears are brought to the eyes. The concept is nothing less then terrifying, and afterwards you are left haunted, but also inspired.',\n",
       "       b'Any film in the early days of Orson Welles is a triumph all the way to The third Man with Joseph Cotton. He is also wonderful in a Touch Of Evil. Please see them all! He tends to get pompous and self serving in films like F is for Fake, really stupid waste of film.Don\\'t waste your time watching it. it is really ignorant. Orson Welles is a film icon and anyone studying film should see everything he has filmed. All his leading ladies are tremendous but in the end Welles became a fat drunk, like his character in A Touch Of Evil! For some reason Orson Welles had a way with women, I see how he could be considered attractive in his youth, not like Gary Cooper or Joseph Cotton, or Cary Grant,John Wayne, I could go on and on but I digress... and because I am a woman,I can see the attraction to him. He (Orson Welles) is one of the last true film makers and unless you count the film-makers of today: Tarantino, Scorscese, Spike Lee, most of the film makers just don\\'t measure up to the film makers of the Forties! I know there are many more great film makers of today but in such a short amount of time I can\\'t name them all. No Offense to any of the great film makers of this millennium! August 21,2006. Please remind me of some current up and coming film makers, I don\\'t want to be stuck in the past! I love some of the films out now, but rarely are there any that I would put on a \"100 best\" list.. \"Hustle and Flow\" was great, so was \"Fargo\", and \"Oh, Brother, where art thou,\" from a line in Sullivan\\'s travels; another fine film from the forties! Can anyone give me a best list for the 90\\'s and on up to 2006? I would like to know who to watch! Thank you! Also Props to this website! Where else can you plug a film or boo it! i love the ranting and raving from regular folks like me who can say what I want and I promise not to spoil any film for someone who hasn\\'t seen it yet!',\n",
       "       b\"This movie scared the crap out of me! I have to admit that I spent most of the film watching through my fingers but what I saw was really scary. I screamed out loud two or three times during the show.<br /><br />Film-making-wise my favorite aspects were the sound and photography. The sound was particularly great and the setting was really creepy beautiful. I read somewhere that it's some weird husband and wife team that made it. For some reason that makes this even stranger for me. <br /><br />If you enjoy the jumps and jitters of scary movies than this one is for you! Very suspenseful and a great movie to rent with a bunch of friends who love to watch movies curled up on a sofa screaming like little girls!\",\n",
       "       b'Uta Hagen\\'s \"Respect for Acting\" is the standard textbook in many college theater courses. In the book, Hagen presents two fundamentally different approaches to developing a character as an actor: the Presentational approach, and the Representational approach. In the Presentational approach, the actor focuses on realizing the character as honestly as possible, by introducing emotional elements from the actor\\'s own life. In the Representational approach, the actor tries to present the effect of an emotion, through a high degree of control of movement and sound.<br /><br />The Representational approach to acting was still partially in vogue when this Hamlet was made. British theater has a long history of this style of acting, and Olivier could be said to be the ultimate king of the Representational school.<br /><br />Time has not been kind to this school of acting, or to this movie. Nearly every working actor today uses a Presentational approach. To the modern eye, Olivier\\'s highly enunciated, stylized delivery is stodgy, stiff and stilted. Instead of creating an internally conflicted Hamlet, Olivier made a declaiming, self-important bullhorn out of the melancholy Dane -- an acting style that would have carried well to the backs of the larger London theaters, but is far too starchy to carry off a modern Hamlet.<br /><br />And so the movie creaks along ungainfully today. Olivier\\'s tendency to e-nun-ci-ate makes some of Hamlet\\'s lines unintentionally funny: \"In-stead, you must ac-quire and be-get a tem-purr-ance that may give it... Smooth-ness!\" Instead of crying at meeting his father\\'s ghost (as any proper actor could), bright fill lights in Olivier\\'s pupils give us that impression.<br /><br />Eileen Herlie is the only other actor of note in this Hamlet, putting in a good essay at the Queen, despite the painfully obvious age differences (he was 41; she was 26). The other actors in this movie have no chance to get anything else of significance done, given Olivier\\'s tendency to want to keep! the camera! on him! at all! times! <br /><br />Sixty years later, you feel the insecurity of the Shakespearean stage actor who lacked the confidence to portray a breakable, flawed Hamlet, and instead elected to portray a sort of Elizabethan bullhorn. Final analysis: \"I would have such a fellow whipped for o\\'er-doing Termagant; it out-herods Herod: pray you, avoid it.\"',\n",
       "       b'This is one of Joan Crawford\\'s best Talkies. It was the first Gable-Crawford pairing, and made it evident to MGM and to audiences that they were a sizzling team, leading the studio to make seven more films with them as co-stars.<br /><br />The film convincingly depicts the downward slide of a brother and sister who, after their father loses everything in the stock market crash, must fend for themselves and work for a living. Life is hard in the Depression, and soon even their attempts at finding legitimate work prove futile, and they resort to underworld activity. <br /><br />Joan Crawford is excellent as the socialite-turned-moll. She\\'s smart, complex, and believable. She even tempers the theatrical stiffness of the other actors\\' early Talkie acting style. Clark Gable is a diamond-in-the rough, masculine and gruff as the no-nonsense gangster who becomes involved with Crawford\\'s character. The same year he would play a similar and even more successful role opposite Norma Shearer in \"A Free Soul\", securing his position as top male sex symbol at MGM.<br /><br />If you like Crawford in this type of role, don\\'t miss \"Paid\", which she did a year earlier, which is also among her best early Talkie performances.<br /><br />',\n",
       "       b\"When I was a kid we always used to be babysat, and we always used to rent a film or see a film at the cinema. This is one of the films we watched. This is one of the stupidest films I've ever seen, I think it might even be a Walt Disney Pictures film! A martian is dropped on earth, turns into a human, befriends a human, and is trying everything he can to get back home. But he is distracted by the wonders of the Earth. The only good comment I can give is the choice of actors, Back to the Future's Christopher Lloyd as the martian, Uncle Martin, Dumb and Dumber's Jeff Daniels as Tim O'Hara, Elizabeth Hurley as Brace Channing and Daryl Hannah as Lizzie. But apart from that it's complete crap. Poor!\",\n",
       "       b\"While the overall idea of Escape from Atlantis was intriguing, I found the film to be far less than what I had hoped for upon reading the plot summery. Perhaps I am too much of a child in the technological age: the movie was made, as it is now 2002, an official five years ago --after viewing fantasy epics such as Lord of the Rings, and science fiction feats like Star Wars, as a whole it could not compare to other movies of similar line such as Dinotopia or Homer's The Odyssey.<br /><br />My beef, basically, is that I couldn't relate --I am just about the same age of the children (a young adult), and have no trouble putting myself in the place of a middle-aged man if that is the character available. But the picture did not take me to a different mental plain of existence. I didn't find myself saying 'ACK! I would have done the SAME thing!'. It did not open the doors to my imagination. Even without comparing it to high-budget films or other TV movies, standing alone, certain aspects of the feature I found to be cliche: The character development in the children occurred too rapidly for my liking, seeing too much of the stereotypical selfish-teenager-bitter-after-divorce image changing into the we're-a-big-happy-family-let's-never-separate-again feel that can ultimately make or break a picture in the long run. Even the characters themselves could have undergone improvement: a typical set of one or the other stereotypes. There was the ever-present selfish beauty looking to be rebellious, accompanied by Mr. Perfect image of combining athletics, good looks and intelligence yet a brooding attitude, and lastly the smart-aleck little brother we find to be so common these days. While I know the personalities pushed the story along, I think that adding more individuality as far as nuances and more unique differences would have made it a more enjoyable --and believable (as far as character)-- movie.<br /><br />I do have to raise my glass to the costume and set design --that made it worth finishing to the end for me. Don't get me wrong: all movies are worth seeing for yourself, and the opinion of one could never account for the opinion of many, but I think that with a little more depth to the script, and a little more (I cannot believe I am saying this) realness I dare say Escape from Atlantis could have been magical.\",\n",
       "       b'Wow. The only people reviewing this positively are the Carpenter apologists. I know a lot of those. The guys that\\'ll watch John Carpenter squat on celluloid and pinch out a movie and proclaim it a masterwork of horror. This \"movie\" is utter crap. It looks and sounds like a porno (good lord, the soundtrack is awful...), and has sub-par porn acting, which is shocking, because normally Ron Perlman is really a very good actor. I honestly have no idea what Carpenter was thinking when making this. Most likely \"Beans, beans, beans..\" until somebody fed him and rolled him up into a blanket for the day... They say nothing about the abortion debate whatsoever, when they could have had a very interesting central theme (how do religious zealot anti-abortionists feel when it\\'s the devil\\'s baby?) but instead they chose to have Ron Perlman and his terribly acted kids kill a bunch of people and have the horribly cast doctors try to calm the hysterically bad pregnant girl. Not a single person from this episode or what have you should come away unscathed. It\\'s just awful. Like, Plan 9 From Outerspace awful. Like, good god please would somebody turn it off before I soil myself awful. Try watching this and The Thing in the same day and your mind will implode.',\n",
       "       b'If you want Scream or anything like the big-studio horror product that we get forced on us these days don\\'t bother. This well-written film kept me up thinking about all it had to say. Importance of myth in our lives to make it make sense, how children interpret the world (and the violence in it), our ransacking of the environment and ignorance of its history and legends.. all here, but not flatly on the surface. You could technically call it a \"monster movie\" even though the Wendigo does not take physical form until the end, and then it\\'s even up to you and your beliefs as to what\\'s happening with the legendary spirit/beast. Some standard thriller elements for those looking just for the basics and the film never bores, though in fact the less you see of the creature, the better. Fessenden successfully continues George Romero\\'s tradition of using the genre as parable and as a discussion forum while still keeping us creeped out.',\n",
       "       b\"I'm never much for classic films. Movies like Patton, Going My Way, How Green was My Valley, The Godfather, Casablanca, Annie Hall, Gone with the Wind, Lawrence of Arabia, and Citizen Kane bore me. However, I would much rather watch any one of those films 3,469 times while being tied up on a chair than watch An American in Paris once in the most luxurious suite ever. If I did the latter, I'd probably be sleeping the entire time.<br /><br />The color art direction and the music didn't interest me, Gershwin or non-Gershwin. The dancing and the singing could help an insomniac fall to sleep. The dialogue doesn't match up to Singin' in the Rain. Basically, this movie is boring. The only other film that I fell asleep while watching was Butch Cassidy and the Sundance Kid. But you can't blame me. I only slept 5 minutes the night before.<br /><br />1 star/10 (Too bad we can't give zeroes.)\",\n",
       "       b\"I agree with the above comment, I love the realism in this, and in many movies (not just movies on eating disorders) the producers seem to forget that. They take an every day problem and create a hugely dramatic scene and then come the end of the movie everything is perfect again, which I dislike because its not reality. Not meaning to say things can't get better, and not meaning to say things don't in this movie, but it doesn't spend most of the movie creating all these problems, and come the end of the movie everything is perfect again. When people have eating disorders people don't just admit it and want to get better, and then life is peachy, it takes time, and I like how in this movie we grow with the characters, we go through the difficulties with them, getting better and worse, because it is a very important part of the movie. It gets into the minds of people with eating disorders, and shows the complications and pain, in a very realistic way, and I loved that. I also love how it shows The secrecy and betrayal people feel when suffering from eating disorders, it is scary to see how people react when they find out, especially if they approve of it. I thought this movie was very touching and beautiful and well told, and defiantly one of my favourites.\",\n",
       "       b'Finally a thriller which omits the car chases, explosions and other eye catching effects. The movie combines a simple plot (assasination of a french president) with an excellent background. It takes a look behind mans behavior with authorities, and explains why we would obey almost every order (even murder) which would be given to us.<br /><br />Furthermore it shows us how secret services can manipulate the run of history and how hardly they can be controlled. The best thing on this movie is, that there is no classic \"Hollywood end\" which can easily be predicted.',\n",
       "       b\"Where the hell are all these uncharted islands where prehistoric monsters lurk, evil doctors perform their experiments, madmen hold the ultimate karate championship, and the uber-rich hunt humans for sport? I had no idea there were still so many uncharted islands out there, but if you take into account the number of movies that utilize one of these mysterious islands as a location, you'd have to assume that there are at least 50 of these suckers out there. It always winds up feeling so damned convenient and I immediately deduct points from any movie that uses this hackneyed device. Hammerhead is the story of a mad scientist who is conducting experiments on one of these uncharted islands, so the movie already had a lot to make up for before it even began.<br /><br />The island in this movie used to belong to Dr. Moreau, but has recently been purchased by the Re-Animator himself, Jeffrey Combs. Old Jeffrey is doing some kind of cutting edge stem cell research, which has led him to start working with sharks while searching for a cure for cancer. If that sounds familiar, that's because this is roughly the same basic set-up as the smart shark facility in Deep Blue Sea, not to mention a host of other Nu Image movies. So apparently, Jeffrey's son was dying of cancer which prompted our mad doctor to start experimenting on his progeny. He did some kind of super fancy gene splicing and so forth, turning his son into a shark-man.<br /><br />William Forsythe leads a crew of unknown actors to the island to look into the doctor's experiments. If someone would have given him a sailor's hat, William would have been a dead ringer for the Skipper from Gilligan's Island. In typical Bond Villain fashion, the doctor decides that all of these intruders would make nice chum for his son. Not chums, like buddies... chum, like shark food. So enter shark-boy who starts stalking the Skipper and his cohorts all over the island. They, of course, make half-hearted attempts to escape and are thwarted over and over again while being chased by a guy in a rubber shark-man suit. <br /><br />The movie didn't make up any of the points that it lost for taking place on one of those dastardly deserted islands. It's funny that this movie is called Hammerhead, it made me think of an old joke. Why do you hit yourself in the head with a hammer? Because it feels so good when you stop. That's pretty much how this movie is. The only reason to watch it is because it feels so good when it's over.\",\n",
       "       b\"To get in touch with the beauty of this film pay close attention to the sound track, not only the music, but the way all sounds help to weave the imagery. How beautifully the opening scene leading to the expulsion of Gino establishes the theme of moral ambiguity! Note the way music introduces the characters as we are led inside Giovanna's marriage. Don't expect to find much here of the political life of Italy in 1943. That's not what this is about. On the other hand, if you are susceptible to the music of images and sounds, you will be led into a word that reaches beyond neo-realism. By the end of the film we there are moments Antonioni-like landscape that has more to do with the inner life of the characters than with real places. This is one of my favorite Visconti films.\",\n",
       "       b\"What a let down! This started with an intriguing mystery and interesting characters. Admittedly it moved along at the speed of a snail, but I was nevertheless gripped and kept watching.<br /><br />David Morrissey is always good value and he Suranne Jones were good leads. The Muslim aspects were very interesting. We were tantalised with possible terrorist connections.<br /><br />But then Morrissey's character was killed off and all the air left the balloon. The last episode was dull, dull, dull. The whole thing turned out to be very small beer and the d\\xc3\\xa9nouement was unbelievably feeble.<br /><br />Five hours of my life for that? My advice: watch paint dry instead.\",\n",
       "       b'The movie \"Atlantis: The Lost Empire\" is a shining gem in the rubble of films produced by the Disney Studios recently. Parents who have had to sit through \"The Jungle Book 2\" or even a Pokemon movie will surely appreciate this one.<br /><br />The film is one of few to attempt at an original story; previous feature films were merely re tellings of existing stories. Films such as \"Toy Story\", \"Finding Nemo\", and \"Monsters Inc.\" all do the same, but it must be noted that all were made by Pixar and only distributed by Disney. Recent films from the Disney Studios are mostly released direct to video, and are sequels to an existing successful film. The quality of those films is given way to the profitability. A new era started with \"Atlantis\" following it were \"Mulan\", \"Lilo & Stitch\", and most recently \"Open Range\". The writers have created all original story lines instead of the fairy tales of the past.<br /><br />A good portion of the movie is devoted to the quest to find Atlantis, a task that has captured the imagination of many for hundreds of years. Including that of young Milo Thatch, voiced by Michael J. Fox. Milo is employed by a museum in Washington D.C.. His grandfather was a renowned archaeologist, who had devoted his life to discovering Atlantis. This was seen as a waste by his peers, and they wish Milo to not follow in his footsteps. After failing to convince the museum board of directors to sponsor his expedition, Milo comes home to find a woman in his darkened apartment. She takes him to her employer, a Mr. Whitmore. Whitmore was a close friend of Milo\\'s grandfather, and wishes to send Milo with a team to locate Atlantis. Mr. Whitmore is very wealth and has paid for the best of everything. The crew that is to accompany him is the same as his grandfathers. The journey is filled with many great obstacles to overcome and is great fun to watch. The viewer finds themselves caught up in if they will reach Atlantis. The plot takes an unexpected turn after the discovery Atlantis, not just the discovery of people. It is enough to keep the interest of the older audience.<br /><br />The animators have done a wonderful job in then depth of the animation. The movie is very successful in blending traditional animation with Computer Generated Images. A feat not easily achieved, most audiences are quick to notice the difference in the two. The characters are believably human. There are some nice chase type scenes, with lots of action going on. A few lulls are filled with jokes that the children just may not get.<br /><br />The creativity of the writers really shines through. The culture of Atlantis is richly developed, including an entire language. The film uses references to Atlantis from historical sources, such as Plato. The disappearance of Atlantis from the world is explained. Believable, if by a younger audience, that magic really does exist. The powers of the people of Atlantis are not exactly presented as magic, but can best be described in this way.<br /><br />Although set in 1914 the level of technology used is unrealistic. The voyage is in a submarine very reminiscent of Captain Nemo\\'s nautilus, complete with sub pods that fire torpedoes. The giant diggers are driven by steam boilers so they did try for some era technology. The female characters are empowered in a way that women of the age would not have been, even holding roles in leadership. This is not a bad thing. It gives a good role model for my daughter to look to, rather than an all male cast.<br /><br />One reason this film is a favorite of mine over other Disney films is that there is not one single song, ever. A tradition that began with the first feature film, \"Snow White\", and carried on through to \"The Lion King\", almost every Disney film is full of upbeat songs. This is great and all, what would the Seven Dwarfs be without \"Hi HO!\"? After the millionth time through it\\'d almost be better without, but this one spares the parent. Not once does every single person on the screen suddenly know the words to a song that no one has ever heard before and break out in song. I for one am grateful.<br /><br />The storyline and depth of animation is sure to keep the attention of both parent and child alike. It is a film I am willing to watch again and again with my children.',\n",
       "       b'Let\\'s start this review out on a positive note -- I am very glad they didn\\'t decide to wimp out with Tony being shot and do a retrospective season like some people were rumoring. Actually, creator and writer of this episode David Chase did quite the opposite. We don\\'t actually know if Tony will live or die. He\\'s in a coma and his chances of recovering are very slim to none. This episode seemed to move very slow, and the coma induced dream Tony was in involving mistaken identity and robed Asian monks slapping the sh*t out of him was absolutely, flat-out weird. After 45-minutes I got a little sick of everyone grieving, but that shouldn\\' t be a reason to slam this episode. It was a weird and unpredictable episode, but it was still well-written and intense. Edie Falco gave an astounding career-defining performance in this episode as the conflicted wife having to face with her husband\\'s could-be demise. I also found it interesting AJ dropped out of school and swore a vendetta against Junior, which AJ most likely won\\'t have the balls to pull off. Silvio is now acting-boss which opens numerous doors to problems in later episodes. There were a lot of great quips in this episode, also, and I think Vito \\'Pole-Smoker\\' Spadafore may meet his demise if he keeps being a greedy S.O.B.<br /><br />This wasn\\'t a great episode and disappointed only because even though Tony kills people, we as an audience adore him and feel he is our hero of the show. This was a necessary episode for the series, even though it was a little snore inducing towards the conclusion. Kudos to Edie Falco\\'s performance, and David Chase and the writers for creating this wholly original and unpredictable plot twist. This is the only season of \\'The Sopranos\\' where I haven\\'t a f*cking clue where it is going to go. I can\\'t wait for next week\\'s episode. My Rating: 7.5/10 <br /><br />Best Line of the Episode: (Paulie to AJ): \"Let\\'s go, Van Helsing!\"',\n",
       "       b\"Yes, it's flawed - especially if you're into Hollywood films that demand a lot of effects, a purely entertaining or fantasy story or plot, and you can't actually think for yourself.<br /><br />Roeg's films are for the intelligent film-goer, and Insignificance is a perfect example.<br /><br />The characterizations are brilliant, the story is excellent, but, like all Nic Roeg's films - it has you thinking on every level about aspects of reality that would never have dawned on you before. His films always make you think, and personally, I like that in a film.<br /><br />So don't expect to come away from watching this film and feeling all happy-happy, because it's likely you'll be disappointed.<br /><br />But I think it's excellent.\",\n",
       "       b\"Marjorie, a young woman who works in a museum and lives with two female roommates, Pat and Terry.One night she gets in her car and is attacked by masked man with a knife.His plan is to rape her, but she manages to escape.The man has her purse.The police can't help her, since the actual rape didn't happen.Then one day, when Marjorie's roommates are at work, her assailant comes there.His name is Joe.A long battle begins against this man.But then she manages to spray his eyes and mouth with insect repellent, stuff that will kill him if he won't get help soon.She ties him up and makes Joe the subject of the same kind of physical and mental assaults he used on her earlier.The Extremities (1986) is directed by Robert M. Young.It's based on the controversial off-Broadway play from 1982 by William Mastrosimone.Farrah Fawcett, who sadly lost her battle with cancer last year, is terrific as Marjorie.James Russo, who played the attacker also in the play, is convincing as Joe.Alfre Woodard and Diana Scarwid are great as Pat and Terry.James Avery is seen as Security Guard.She got a Golden Globe nomination.This is not a movie that is supposed to entertain you.It asks a question is revenge justified.This is not a perfect movie, but I recommend it.\",\n",
       "       b\"This seems like two films: one a dreary, pretentious lengthy saga about an ac-tor who is taken over by the parts he plays; the other a brilliant social comment about a middle aged divorce who is picked up by a waitress. Shelley Winters is wonderful as a waitress with another business on the side. She drops heavy hints about the need for connections, her certificate in massage and her desire to get into the modelling game. I love the glimpse of her seedy flat with a kitchenette behind a curtain, and her terrible seducing outfit of navel-revealing, puff-sleeved crochet top.<br /><br />Do actors get Oscars for Shakespeare? We know they Oscars for impersonating disabled people, wearing a lot of prosthetics, or pretending to be mad. The Shakespearean scenes (which go ON and ON) are embarrassing and dated. And so are the 'going mad' scenes where Tony looks distracted while listening to his own voice-over.<br /><br />By the way, Anthony John is not aristocratic. He makes it quite clear in an early scene that he used to be a chorus boy. When he quotes his father's advice, he slips into a Cockney accent.\",\n",
       "       b\"This is a very engrossing BBC-TV mini-series which is loosely based upon a mysterious disappearance of a young mother, but the series is really more of a study of the assorted characters in the story, which lasts for five hours. It is thus very much an ensemble piece, where the wide variety of brilliant British actors and actresses can show off their talents. The actual characters portrayed are really 'the kind of people one does not normally meet', people so boring and nondescript that it is difficult to admire them. For instance, the lead character is a young husband (the one whose wife disappears) who has no job and no apparent interest in finding any. He lives off handouts from his parents-in-law. He was once in the Army but does not appear to have the slightest flicker of any ambition or any interests in life apart from doting on his small family. He is played by David Oyelowo, who is brilliant at the part, coming across as a totally sympathetic person, although his only activities for five hours are loving and grieving, which he does superbly, so that one wants to comfort him, as he is so obviously a nice guy. The standout performance of the whole series is unquestionably Penelope Wilton, who acts circles round everyone else in the story. She is simply incredible. She portrays a very unsympathetic woman, indeed the only character in the story who is all too familiar to everyone, namely an irrational, hysterical, self-centred, dense, querulous, blindly loving and blindly hating, elderly idiot-woman. Alas, alas, we know them too well. Wilton is one of Britain's finest actresses (see my review of her in 'Half Broken Things'). She takes a character who could have been two-dimensional and makes her four-dimensional. She is wonderfully supported by old pro Patrick Malahide, who plays her exasperated husband, and the pair of them set a high standard indeed for all the younger players. Janet McTeer, a spectacular actress when younger, has become a much less sympathetic type of person now that she is older, has coarsened in some way, and puts one off, but she redeems herself in the latter stages of the story by showing how brilliant an actress she can be when she has a chance by pulling off one of the most convincing and original drunk scenes I have ever seen on film. The big surprise is the enigmatic character Sarah, played with great depth and originality by actress Sarah Smart. She takes a character who could have been insufferably tedious and by sheer acting magic turns her into a deeply mysterious and intriguing person, about whom we wonder tirelessly for the entire five hours. She is so good at it that we end up wondering about Sarah Smart, frankly. I guess that's what happens when you really do your job properly, that people wonder where the character ends and the actress begins, if she knows herself, that is, and many do not. She has some deeply unnerving tricks with her eyes, which wobble and let us know she is unhinged, but we are not sure how or why, though we eventually learn that she had an extremely violent and traumatic childhood. Her mastery of ambiguous facial expressions is extraordinary. Rory Kinnear is amazingly convincing as an apparently hopeless fellow who lives with his mum and isn't up to much, but who turns out to have hidden depths. (I suppose most people have hidden depths, but do we want to plumb them, that is the question.) His mum is played very well indeed by Margot Leicester. A superb performance is given by Lucinda Dryzek, who plays a snotty, revolting teenage girl of the sort we all dread to meet, but who at crucial moments collapses in helpless tears and turns out to be pathetic, with all her arrogance just a pose. Three other children are also very good, Lucinda's friend, and her younger half-brother and half-sister. The younger siblings may be very dim indeed as characters in the story (they seem unable to say anything particularly articulate, being hopeless witnesses to the disappearance), with little to recommend them but their sweet natures, but that is conveyed to wonderful effect by Lee Massey as the boy and Tyler Anthony as the girl. Harriet Walter has a small role, but we do not get to see much of her, which is a shame, as she is such a fine actress that she was wasted here. One could go on, but one must draw a line somewhere. The series manages to be strangely fascinating because of the depth of portrayal of all these essentially uninteresting people caught up in a web of intense anxiety and suspense.\",\n",
       "       b'This movie was so poorly written and directed I fell asleep 30 minutes through the movie. The jokes in the movie are corny and even though the plot is interesting at some angles, it is too far fetched and at some points- ridiculous. If you are 11 or older you will overlook the writing in the movie and be disappointed, but if you are 10 or younger this is a film that will capture your attention and be amazed with all the stunts (which I might add are poorly done) and wish you were some warrior to. The casting in this movie wasn\\'t very good, and the music was very disappointing because it was like they were trying to build up the tension but it didn\\'t fit at all. On a scale of 1-10 (10 being excellent, 1 being horrible) the acting in this movie is a 4. Brenda Song is talented in comedy, but with this kind of movie, in some of the more serious scenes, her acting was laughable. When she made some of her \"fighting\" poses, I started laughing out loud. I think the worst thing about this movie is definitely the directing, for example, the part where her enemy turns out to be the person the evil villain is possesing, how her voice turns dark and evil, I think that was incredibly stupid, and how Wendy\\'s (Brenda Song)teachers were all her teachers at school being possessed by monks, that was pretty ridiculous to. So to sumamrize it all, a disappointing movie, but okay if you\\'re 10 or under.',\n",
       "       b\"Someone must have been seriously joking when they made this film.<br /><br />Firstly, it is an absolute impossibility that this movie was made in 1993. The fashions and music dictate that this is seriously 80's. My guess is that this has sat on the shelf for a long while before some crazed distributer picked it up and released it to a disbelieving world.<br /><br />There is a plot. Kind of. A strange loner meets a random man with a beard who tells him that if he meditates while singing his favourite song he will be able to turn into whomever he chooses. At this point I feel obliged to point out that the loner's favourite song is London Bridge Is Falling Down. Why is this his favourite song? Because he's an idiot. We are only a minute into the film and already the film has reached a monumental level of stupidity. It gets even stupider.<br /><br />The loner is the nostril picker. I can only assume this as there are two scenes in the film where he is seen picking his nose. That clears up the title. He decides to change into a girl so that he can get close to other girls. And kill them. That's more or less it.<br /><br />The acting is universally appalling. Every single performance in this movie sucks. In fact, I would go so far as to say that the acting is of the standard of a pornographic movie. It really is that terrible. The nostril picker appears to the audience as the nostril picker. The characters in the movie see him as the girl he has become through singing London Bridge Is Falling Down. Man, I feel like an idiot even typing this. Anyway, it is kind of strange seeing a middle aged weirdo hanging out with school girls. And not in a good way. There is even an extended montage of scenes where the nostril picker is at school with the girls and a song plays over the top. It is very possibly the worst song ever recorded. I'm not even going to describe it. You'll know it when you hear it. And you'll agree with me.<br /><br />There are some scenes of violence, sure. And there is a Benny Hill style chase sequence involving a transsexual. There is even an immortal bit of dialogue, that may or may not have been taken from Shakespeare or John Milton, where the nostril picker says to a prostitute, 'I've got the cash if you've got the gash'. Lovely, I'm sure you'll agree.<br /><br />Utter nonsense.\",\n",
       "       b'I haven\\'t actually finished the film. You may say that in this case I have no right to review it, especially so negatively. But I do, only because I stopped it on account of I couldn\\'t watch anymore...I got over halfway, and I only got there by promising myself something good was just around the corner. This film is so tiresome, so lackluster that I was actually insulted. I haven\\'t read many of the other reviews, so I\\'m not sure if there are other homosexual teens who have suffered through it, but I am homosexual, and I did go through \"similar\" revelations, day dreams, issues etc etc. There were maybe two moments where I actually felt this film could go somewhere, where I felt it may have some inkling of meaning, or relativity, but these hopes were dashed the moment the next set of clich\\xc3\\xa9-ridden narration came on. I mean, just look at the quotes on the IMDb page. Unfortunately you\\'re not able to hear the scratchy play back, nor the echo-ey fades if you\\'re just read the quotes, because they are just too painful/ridiculous/stupid to miss. I did give the film three stars, and all three of those stars go to the films cinematographer who did a fantastic job attempting to transform Archer\\'s tired \"concepts\" into something watchable. Mind you, I pray he wasn\\'t the one who decided to include all the long shots of TV closeups...another unnecessary clich\\xc3\\xa9 already over done in films such as Korine\\'s Gummo... I think it is extremely fitting that this film premiered at Sundance (only because Archer had connections in the festival via volunteer work he did, by the way...) because Sundance seems to be the one festival where clich\\xc3\\xa9 heavy drivel like this is still accepted as \"arthouse\". No, it\\'s not art house, I\\'m afraid it\\'s just plain s**t-house. Do not watch.',\n",
       "       b'basically, i like Verhoeven film because in his film, i enjoy a brilliant pscychosexual story that i have seen before in \"Basic Instinct\".it is really a wonderful thriller i enjoyed very much.so it is obviously for me to watch this another Verhoeven movie.<br /><br />well, it is his previous direction before his block buster hit \"Basic Instinct\" and for that i was very much curious to watch that movie and yeah, the movie has fulfilled my hope and expectation.<br /><br />this movie \"The Fourth Man\" is a brilliant pscychosexual drama which is a lit bit complex for some audiences. the story of this movie is about a gay writer named \"Reve\"(Krabbe), an alcoholic person who is lives by his own moral values and sees many visions that may warn him from a future accident.after the end of his lecture, he introduce a seductive woman named \"Christine\", who has a mysterious past she doesn\\'t want to reveal.Reve do sex with her at her house as she is a boy.next morning, he watch her sexy, macho boyfriend\\'s picture on her table, the person he met at the station.he is curious to meet him and tell Christine to invite him to her house.<br /><br />that\\'s it. i don\\'t want to reveal the entire story because it is a Verhoeven movie and the end of the film is really surprising!<br /><br />especially, i like the character \"Reve\" which is brilliantly played by \"Krabbe\".i basically like his acting because as a gay person i am purely identified with his character and yeah i like his charming face.<br /><br />i would like thanks Mr.Verhoeven to make such a black comedy.<br /><br />i rate this movie: 10 out of 10.',\n",
       "       b'Despite the patronage of George Lucas, this captivating and totally original fantasy in \"Lumage\" (a combination of animation through live action cut-outs) is about as far removed from the usual kiddie fare as anything made by Ralph Bakshi in his heyday. Brilliantly conceived characters such as the shape-shifting dog Ralph (one of a duo of bumbling, rejected heroes), Synonamess Botch (the hilariously foul-mouthed villain) and Rod Rescueman (the pompous novice superhero) breathe life into a uniquely clever concept: Frivoli vs. Murkwood or, the eternal fight between dreams and nightmares. In this context, the MOR-infused songs on the soundtrack ought not to have worked but somehow they do. It\\'s a real pity, therefore, that I have had to watch this via a truly crappy-looking boot (culled from a TV screening) of the uncensored version \\xc2\\x96 there is also a milder variant that toned down the language for its VHS release \\xc2\\x96 since the film is otherwise unavailable on DVD. Interestingly, both Henry Selick and David Fincher worked on this picture in subordinate capacities.',\n",
       "       b'What Hopkins does succeed at with this effort as writer and director is giving us a sense that we know absolutely no one in the film. However, perhaps therein lies the problem. His movie has a lot of ambition and his intentions were obviously complex and drawn from very deep within, but it\\'s so impersonal. There are no characters. We never know who anyone is, thus there is no investment on our part.<br /><br />It could be about a screenwriter intermingle with his own characters. Is it? Maybe. By that I don\\'t mean that Slipstream is ambiguous; I mean that there is no telling. Hopkins\\'s film is an experiment. On the face of it, one could make the case that it is about a would-be screenwriter, who at the very moment of his meeting with fate, realizes that life is hit and miss, and/or success is blind chance, as he is hurled into a \"slipstream\" of collisions between points in time, dreams, thoughts, and reality. Nevertheless, it is so unremittingly cerebral that it leaves no room for any hint of emotion, even to the tiny, quite rudimentary extent of allowing us a connection with its characters.<br /><br />I didn\\'t think the nippy and flamboyant school of shaky, machine-gun-speed camera-work and editing disengaged me, but reflecting upon the film I am beginning to realize that it had a lot to do with it. There are so many movies of the past decade in which the cuts or camera movement have sound effects as well as other atmosphere-deteriorating technical doodads. I suppose in this case it was justified in that its purpose was to compose the impressionistic responsiveness of dreams. However, I knew barely anything about Slipstream when watching it, and I came out the same way. And I just do not care, because Hopkins made no effort to make us care. There are interactive movies, and there are movies that sit in a rocking chair and knit, unaware of your presence. Slipstream is the latter.',\n",
       "       b\"It's a very good movie, not only for the fans of Lady Death comics, but also for those who like animated movies/series of adventure and fantasy.<br /><br />The film is about a innocent girl who is about killed for something she hadn't done, but for be who she is daughter of the ruler of hell, Lucifer himself.<br /><br />Then she seeks revenge...and the rest you better see it from the movie.<br /><br />I liked the movie a lot, the characters are like the original comics, form Chaos. I never had the chance of read the the first parts of the story in comics, only the last ones, after the passages in the movie, so I cannot tell you if the events are exactly like the comics, but...one way or another it's the story of Lady Death!\"],\n",
       "      dtype=object)>"
      ]
     },
     "execution_count": 50,
     "metadata": {},
     "output_type": "execute_result"
    }
   ],
   "source": [
    "text_batch"
   ]
  },
  {
   "cell_type": "code",
   "execution_count": 52,
   "metadata": {},
   "outputs": [
    {
     "data": {
      "text/plain": [
       "<tf.Tensor: shape=(), dtype=int32, numpy=0>"
      ]
     },
     "execution_count": 52,
     "metadata": {},
     "output_type": "execute_result"
    }
   ],
   "source": [
    "label_batch[0]"
   ]
  },
  {
   "cell_type": "code",
   "execution_count": 53,
   "metadata": {},
   "outputs": [
    {
     "data": {
      "text/plain": [
       "<tf.Tensor: shape=(32,), dtype=int32, numpy=\n",
       "array([0, 1, 1, 1, 1, 1, 1, 0, 1, 0, 0, 0, 1, 0, 1, 1, 0, 1, 0, 1, 1, 1,\n",
       "       1, 0, 1, 0, 0, 0, 1, 1, 0, 1], dtype=int32)>"
      ]
     },
     "execution_count": 53,
     "metadata": {},
     "output_type": "execute_result"
    }
   ],
   "source": [
    "label_batch"
   ]
  },
  {
   "cell_type": "code",
   "execution_count": 54,
   "metadata": {},
   "outputs": [
    {
     "data": {
      "text/plain": [
       "'neg'"
      ]
     },
     "execution_count": 54,
     "metadata": {},
     "output_type": "execute_result"
    }
   ],
   "source": [
    "raw_train_ds.class_names[label_batch[0]]"
   ]
  },
  {
   "cell_type": "code",
   "execution_count": 55,
   "metadata": {},
   "outputs": [
    {
     "name": "stdout",
     "output_type": "stream",
     "text": [
      "Review tf.Tensor(b'Belmondo is a tough cop. He goes after a big-time drug dealer (played by Henry Silva, normally a great villain - see \"Sharky\\'s Machine\"; but here he is clearly dubbed, and because of that he lacks his usual charisma). He goes to the scuzziest places of Paris and Marseilles, asks for some names, beats up some people, gets the names, goes to more scuzzy places, asks for more names, beats up more people, etc. The whole movie is punch after punch after punch. It seems that the people who made it had no other ambition than to create the French equivalent of \"Dirty Harry\". Belmondo, who was 50 here, does perform some good stunts at the beginning; apart from those, \"Le Marginal\" is a violent, episodic, trite, shallow and forgettable cop movie. (*1/2)', shape=(), dtype=string)\n",
      "Label neg\n",
      "Vectorized review (<tf.Tensor: shape=(1, 250), dtype=int64, numpy=\n",
      "array([[   1,    7,    4, 1233, 1021,   27,  261,  101,    4,    1, 1525,\n",
      "        6992,  248,   32, 1488,    1, 1659,    4,   86, 1011,   67,    1,\n",
      "        1707,   18,  128,   27,    7,  688, 2396,    3,   84,    5,   12,\n",
      "          27, 1453,   24,  616, 3314,   27,  261,    6,    2,    1, 1329,\n",
      "           5, 1371,    3,    1, 1581,   15,   46, 1356, 3612,   56,   46,\n",
      "          79,  201,    2, 1356,  261,    6,   50,    1, 1329, 1581,   15,\n",
      "          50, 1356, 3612,   56,   50,   79,  532,    2,  211,   17,    7,\n",
      "        2851,  101, 2851,  101, 2851,    9,  180,   12,    2,   79,   36,\n",
      "          90,    9,   66,   57,   78, 5415,   70,    6,  916,    2,  800,\n",
      "        4891,    5, 1678, 1347,    1,   36,   13, 1732,  128,  120, 3078,\n",
      "          46,   49, 3274,   31,    2,  435,  948,   35,  143, 3519,    1,\n",
      "           7,    4, 1097, 9578, 3092, 2056,    3, 2512, 1021,   17, 1105,\n",
      "           0,    0,    0,    0,    0,    0,    0,    0,    0,    0,    0,\n",
      "           0,    0,    0,    0,    0,    0,    0,    0,    0,    0,    0,\n",
      "           0,    0,    0,    0,    0,    0,    0,    0,    0,    0,    0,\n",
      "           0,    0,    0,    0,    0,    0,    0,    0,    0,    0,    0,\n",
      "           0,    0,    0,    0,    0,    0,    0,    0,    0,    0,    0,\n",
      "           0,    0,    0,    0,    0,    0,    0,    0,    0,    0,    0,\n",
      "           0,    0,    0,    0,    0,    0,    0,    0,    0,    0,    0,\n",
      "           0,    0,    0,    0,    0,    0,    0,    0,    0,    0,    0,\n",
      "           0,    0,    0,    0,    0,    0,    0,    0,    0,    0,    0,\n",
      "           0,    0,    0,    0,    0,    0,    0,    0,    0,    0,    0,\n",
      "           0,    0,    0,    0,    0,    0,    0,    0]])>, <tf.Tensor: shape=(), dtype=int32, numpy=0>)\n"
     ]
    }
   ],
   "source": [
    "# retrieve a batch (of 32 reviews and labels) from the dataset\n",
    "text_batch, label_batch = next(iter(raw_train_ds))\n",
    "first_review, first_label = text_batch[0], label_batch[0]\n",
    "print(\"Review\", first_review)\n",
    "print(\"Label\", raw_train_ds.class_names[first_label])\n",
    "print(\"Vectorized review\", vectorize_text(first_review, first_label))"
   ]
  },
  {
   "cell_type": "code",
   "execution_count": 56,
   "metadata": {},
   "outputs": [
    {
     "name": "stdout",
     "output_type": "stream",
     "text": [
      "1287 --->  silent\n",
      " 313 --->  night\n",
      "Vocabulary size: 10000\n"
     ]
    }
   ],
   "source": [
    "print(\"1287 ---> \",vectorize_layer.get_vocabulary()[1287])\n",
    "print(\" 313 ---> \",vectorize_layer.get_vocabulary()[313])\n",
    "print('Vocabulary size: {}'.format(len(vectorize_layer.get_vocabulary())))"
   ]
  },
  {
   "cell_type": "code",
   "execution_count": 57,
   "metadata": {},
   "outputs": [],
   "source": [
    "train_ds = raw_train_ds.map(vectorize_text)\n",
    "val_ds = raw_val_ds.map(vectorize_text)\n",
    "test_ds = raw_test_ds.map(vectorize_text)"
   ]
  },
  {
   "cell_type": "markdown",
   "metadata": {},
   "source": [
    "Configure the dataset for performance\n",
    "These are two important methods you should use when loading data to make sure that I/O does not become blocking.\n",
    "\n",
    ".cache() keeps data in memory after it's loaded off disk. This will ensure the dataset does not become a bottleneck while training your model. If your dataset is too large to fit into memory, you can also use this method to create a performant on-disk cache, which is more efficient to read than many small files.\n",
    "\n",
    ".prefetch() overlaps data preprocessing and model execution while training."
   ]
  },
  {
   "cell_type": "code",
   "execution_count": 58,
   "metadata": {},
   "outputs": [],
   "source": [
    "AUTOTUNE = tf.data.AUTOTUNE\n",
    "\n",
    "train_ds = train_ds.cache().prefetch(buffer_size=AUTOTUNE)\n",
    "val_ds = val_ds.cache().prefetch(buffer_size=AUTOTUNE)\n",
    "test_ds = test_ds.cache().prefetch(buffer_size=AUTOTUNE)"
   ]
  },
  {
   "cell_type": "markdown",
   "metadata": {},
   "source": [
    "Create the model"
   ]
  },
  {
   "cell_type": "code",
   "execution_count": null,
   "metadata": {},
   "outputs": [],
   "source": [
    "embedding_dim = 16\n",
    "# max_features = max_token"
   ]
  },
  {
   "cell_type": "code",
   "execution_count": 60,
   "metadata": {},
   "outputs": [
    {
     "data": {
      "text/html": [
       "<pre style=\"white-space:pre;overflow-x:auto;line-height:normal;font-family:Menlo,'DejaVu Sans Mono',consolas,'Courier New',monospace\"><span style=\"font-weight: bold\">Model: \"sequential\"</span>\n",
       "</pre>\n"
      ],
      "text/plain": [
       "\u001b[1mModel: \"sequential\"\u001b[0m\n"
      ]
     },
     "metadata": {},
     "output_type": "display_data"
    },
    {
     "data": {
      "text/html": [
       "<pre style=\"white-space:pre;overflow-x:auto;line-height:normal;font-family:Menlo,'DejaVu Sans Mono',consolas,'Courier New',monospace\">┏━━━━━━━━━━━━━━━━━━━━━━━━━━━━━━━━━┳━━━━━━━━━━━━━━━━━━━━━━━━┳━━━━━━━━━━━━━━━┓\n",
       "┃<span style=\"font-weight: bold\"> Layer (type)                    </span>┃<span style=\"font-weight: bold\"> Output Shape           </span>┃<span style=\"font-weight: bold\">       Param # </span>┃\n",
       "┡━━━━━━━━━━━━━━━━━━━━━━━━━━━━━━━━━╇━━━━━━━━━━━━━━━━━━━━━━━━╇━━━━━━━━━━━━━━━┩\n",
       "│ embedding (<span style=\"color: #0087ff; text-decoration-color: #0087ff\">Embedding</span>)           │ ?                      │   <span style=\"color: #00af00; text-decoration-color: #00af00\">0</span> (unbuilt) │\n",
       "├─────────────────────────────────┼────────────────────────┼───────────────┤\n",
       "│ dropout (<span style=\"color: #0087ff; text-decoration-color: #0087ff\">Dropout</span>)               │ ?                      │             <span style=\"color: #00af00; text-decoration-color: #00af00\">0</span> │\n",
       "├─────────────────────────────────┼────────────────────────┼───────────────┤\n",
       "│ global_average_pooling1d        │ ?                      │             <span style=\"color: #00af00; text-decoration-color: #00af00\">0</span> │\n",
       "│ (<span style=\"color: #0087ff; text-decoration-color: #0087ff\">GlobalAveragePooling1D</span>)        │                        │               │\n",
       "├─────────────────────────────────┼────────────────────────┼───────────────┤\n",
       "│ dropout_1 (<span style=\"color: #0087ff; text-decoration-color: #0087ff\">Dropout</span>)             │ ?                      │             <span style=\"color: #00af00; text-decoration-color: #00af00\">0</span> │\n",
       "├─────────────────────────────────┼────────────────────────┼───────────────┤\n",
       "│ dense (<span style=\"color: #0087ff; text-decoration-color: #0087ff\">Dense</span>)                   │ ?                      │   <span style=\"color: #00af00; text-decoration-color: #00af00\">0</span> (unbuilt) │\n",
       "└─────────────────────────────────┴────────────────────────┴───────────────┘\n",
       "</pre>\n"
      ],
      "text/plain": [
       "┏━━━━━━━━━━━━━━━━━━━━━━━━━━━━━━━━━┳━━━━━━━━━━━━━━━━━━━━━━━━┳━━━━━━━━━━━━━━━┓\n",
       "┃\u001b[1m \u001b[0m\u001b[1mLayer (type)                   \u001b[0m\u001b[1m \u001b[0m┃\u001b[1m \u001b[0m\u001b[1mOutput Shape          \u001b[0m\u001b[1m \u001b[0m┃\u001b[1m \u001b[0m\u001b[1m      Param #\u001b[0m\u001b[1m \u001b[0m┃\n",
       "┡━━━━━━━━━━━━━━━━━━━━━━━━━━━━━━━━━╇━━━━━━━━━━━━━━━━━━━━━━━━╇━━━━━━━━━━━━━━━┩\n",
       "│ embedding (\u001b[38;5;33mEmbedding\u001b[0m)           │ ?                      │   \u001b[38;5;34m0\u001b[0m (unbuilt) │\n",
       "├─────────────────────────────────┼────────────────────────┼───────────────┤\n",
       "│ dropout (\u001b[38;5;33mDropout\u001b[0m)               │ ?                      │             \u001b[38;5;34m0\u001b[0m │\n",
       "├─────────────────────────────────┼────────────────────────┼───────────────┤\n",
       "│ global_average_pooling1d        │ ?                      │             \u001b[38;5;34m0\u001b[0m │\n",
       "│ (\u001b[38;5;33mGlobalAveragePooling1D\u001b[0m)        │                        │               │\n",
       "├─────────────────────────────────┼────────────────────────┼───────────────┤\n",
       "│ dropout_1 (\u001b[38;5;33mDropout\u001b[0m)             │ ?                      │             \u001b[38;5;34m0\u001b[0m │\n",
       "├─────────────────────────────────┼────────────────────────┼───────────────┤\n",
       "│ dense (\u001b[38;5;33mDense\u001b[0m)                   │ ?                      │   \u001b[38;5;34m0\u001b[0m (unbuilt) │\n",
       "└─────────────────────────────────┴────────────────────────┴───────────────┘\n"
      ]
     },
     "metadata": {},
     "output_type": "display_data"
    },
    {
     "data": {
      "text/html": [
       "<pre style=\"white-space:pre;overflow-x:auto;line-height:normal;font-family:Menlo,'DejaVu Sans Mono',consolas,'Courier New',monospace\"><span style=\"font-weight: bold\"> Total params: </span><span style=\"color: #00af00; text-decoration-color: #00af00\">0</span> (0.00 B)\n",
       "</pre>\n"
      ],
      "text/plain": [
       "\u001b[1m Total params: \u001b[0m\u001b[38;5;34m0\u001b[0m (0.00 B)\n"
      ]
     },
     "metadata": {},
     "output_type": "display_data"
    },
    {
     "data": {
      "text/html": [
       "<pre style=\"white-space:pre;overflow-x:auto;line-height:normal;font-family:Menlo,'DejaVu Sans Mono',consolas,'Courier New',monospace\"><span style=\"font-weight: bold\"> Trainable params: </span><span style=\"color: #00af00; text-decoration-color: #00af00\">0</span> (0.00 B)\n",
       "</pre>\n"
      ],
      "text/plain": [
       "\u001b[1m Trainable params: \u001b[0m\u001b[38;5;34m0\u001b[0m (0.00 B)\n"
      ]
     },
     "metadata": {},
     "output_type": "display_data"
    },
    {
     "data": {
      "text/html": [
       "<pre style=\"white-space:pre;overflow-x:auto;line-height:normal;font-family:Menlo,'DejaVu Sans Mono',consolas,'Courier New',monospace\"><span style=\"font-weight: bold\"> Non-trainable params: </span><span style=\"color: #00af00; text-decoration-color: #00af00\">0</span> (0.00 B)\n",
       "</pre>\n"
      ],
      "text/plain": [
       "\u001b[1m Non-trainable params: \u001b[0m\u001b[38;5;34m0\u001b[0m (0.00 B)\n"
      ]
     },
     "metadata": {},
     "output_type": "display_data"
    }
   ],
   "source": [
    "model = tf.keras.Sequential([\n",
    "  layers.Embedding(max_features, embedding_dim),\n",
    "  layers.Dropout(0.2),\n",
    "  layers.GlobalAveragePooling1D(),\n",
    "  layers.Dropout(0.2),\n",
    "  layers.Dense(1, activation='sigmoid')])\n",
    "\n",
    "model.summary()"
   ]
  },
  {
   "cell_type": "markdown",
   "metadata": {},
   "source": [
    "question marks as not input/ max_features is given and no weights parameter is assigned of any dimension"
   ]
  },
  {
   "cell_type": "markdown",
   "metadata": {},
   "source": [
    "The first layer is an Embedding layer. This layer takes the integer-encoded reviews and looks up an embedding vector for each word-index. These vectors are learned as the model trains. The vectors add a dimension to the output array. The resulting dimensions are: (batch, sequence, embedding). To learn more about embeddings, check out the Word embeddings tutorial.\n",
    "Next, a GlobalAveragePooling1D layer returns a fixed-length output vector for each example by averaging over the sequence dimension. This allows the model to handle input of variable length, in the simplest way possible.\n",
    "The last layer is densely connected with a single output node."
   ]
  },
  {
   "cell_type": "markdown",
   "metadata": {},
   "source": [
    "Loss function and optimizer"
   ]
  },
  {
   "cell_type": "code",
   "execution_count": 61,
   "metadata": {},
   "outputs": [],
   "source": [
    "model.compile(loss=losses.BinaryCrossentropy(),\n",
    "              optimizer='adam',\n",
    "              metrics=[tf.metrics.BinaryAccuracy(threshold=0.5)])"
   ]
  },
  {
   "cell_type": "code",
   "execution_count": null,
   "metadata": {},
   "outputs": [
    {
     "name": "stdout",
     "output_type": "stream",
     "text": [
      "Epoch 1/3\n",
      "\u001b[1m625/625\u001b[0m \u001b[32m━━━━━━━━━━━━━━━━━━━━\u001b[0m\u001b[37m\u001b[0m \u001b[1m2s\u001b[0m 3ms/step - binary_accuracy: 0.8222 - loss: 0.4670 - val_binary_accuracy: 0.8390 - val_loss: 0.4218\n",
      "Epoch 2/3\n",
      "\u001b[1m625/625\u001b[0m \u001b[32m━━━━━━━━━━━━━━━━━━━━\u001b[0m\u001b[37m\u001b[0m \u001b[1m2s\u001b[0m 4ms/step - binary_accuracy: 0.8507 - loss: 0.3957 - val_binary_accuracy: 0.8536 - val_loss: 0.3774\n",
      "Epoch 3/3\n",
      "\u001b[1m625/625\u001b[0m \u001b[32m━━━━━━━━━━━━━━━━━━━━\u001b[0m\u001b[37m\u001b[0m \u001b[1m2s\u001b[0m 3ms/step - binary_accuracy: 0.8681 - loss: 0.3501 - val_binary_accuracy: 0.8642 - val_loss: 0.3491\n"
     ]
    }
   ],
   "source": [
    "epochs = 3\n",
    "train_history = model.fit(\n",
    "    train_ds,\n",
    "    validation_data=val_ds,\n",
    "    epochs=epochs)"
   ]
  },
  {
   "cell_type": "markdown",
   "metadata": {},
   "source": [
    "Evaluate the model"
   ]
  },
  {
   "cell_type": "code",
   "execution_count": 64,
   "metadata": {},
   "outputs": [
    {
     "name": "stdout",
     "output_type": "stream",
     "text": [
      "\u001b[1m782/782\u001b[0m \u001b[32m━━━━━━━━━━━━━━━━━━━━\u001b[0m\u001b[37m\u001b[0m \u001b[1m101s\u001b[0m 128ms/step - binary_accuracy: 0.8528 - loss: 0.3636\n",
      "Loss:  0.36351072788238525\n",
      "Accuracy:  0.8525999784469604\n"
     ]
    }
   ],
   "source": [
    "# Two values will be returned. Loss (a number which represents our error, lower values are better), and accuracy.\n",
    "loss, accuracy = model.evaluate(test_ds)\n",
    "\n",
    "print(\"Loss: \", loss)\n",
    "print(\"Accuracy: \", accuracy)"
   ]
  },
  {
   "cell_type": "markdown",
   "metadata": {},
   "source": [
    "Create a plot of accuracy and loss over time"
   ]
  },
  {
   "cell_type": "markdown",
   "metadata": {},
   "source": [
    "model.fit() returns a History object that contains a dictionary with everything that happened during training:"
   ]
  },
  {
   "cell_type": "code",
   "execution_count": null,
   "metadata": {},
   "outputs": [
    {
     "data": {
      "text/plain": [
       "dict_keys(['binary_accuracy', 'loss', 'val_binary_accuracy', 'val_loss'])"
      ]
     },
     "execution_count": 65,
     "metadata": {},
     "output_type": "execute_result"
    }
   ],
   "source": [
    "history_dict = train_history.history\n",
    "history_dict.keys()"
   ]
  },
  {
   "cell_type": "code",
   "execution_count": 66,
   "metadata": {},
   "outputs": [],
   "source": [
    "acc = history_dict['binary_accuracy']\n",
    "val_acc = history_dict['val_binary_accuracy']\n",
    "loss = history_dict['loss']\n",
    "val_loss = history_dict['val_loss']"
   ]
  },
  {
   "cell_type": "markdown",
   "metadata": {},
   "source": [
    "for 3 epochs"
   ]
  },
  {
   "cell_type": "code",
   "execution_count": 67,
   "metadata": {},
   "outputs": [
    {
     "data": {
      "text/plain": [
       "[0.8313000202178955, 0.8536499738693237, 0.8691499829292297]"
      ]
     },
     "execution_count": 67,
     "metadata": {},
     "output_type": "execute_result"
    }
   ],
   "source": [
    "acc"
   ]
  },
  {
   "cell_type": "code",
   "execution_count": 68,
   "metadata": {},
   "outputs": [
    {
     "data": {
      "text/plain": [
       "[0.8389999866485596, 0.853600025177002, 0.8641999959945679]"
      ]
     },
     "execution_count": 68,
     "metadata": {},
     "output_type": "execute_result"
    }
   ],
   "source": [
    "val_acc"
   ]
  },
  {
   "cell_type": "code",
   "execution_count": 69,
   "metadata": {},
   "outputs": [
    {
     "data": {
      "text/plain": [
       "[0.4486093819141388, 0.38505101203918457, 0.3440767228603363]"
      ]
     },
     "execution_count": 69,
     "metadata": {},
     "output_type": "execute_result"
    }
   ],
   "source": [
    "loss"
   ]
  },
  {
   "cell_type": "code",
   "execution_count": 70,
   "metadata": {},
   "outputs": [
    {
     "data": {
      "text/plain": [
       "range(1, 4)"
      ]
     },
     "execution_count": 70,
     "metadata": {},
     "output_type": "execute_result"
    }
   ],
   "source": [
    "epochs = range(1, len(acc) + 1)\n",
    "epochs"
   ]
  },
  {
   "cell_type": "code",
   "execution_count": 73,
   "metadata": {},
   "outputs": [
    {
     "data": {
      "image/png": "[encoded data removed]",
      "text/plain": [
       "<Figure size 640x480 with 1 Axes>"
      ]
     },
     "metadata": {},
     "output_type": "display_data"
    }
   ],
   "source": [
    "# \"bo\" is for \"blue dot\"\n",
    "plt.plot(epochs, loss, 'r', label='Training loss')\n",
    "# b is for \"solid blue line\"\n",
    "plt.plot(epochs, val_loss, 'b', label='Validation loss')\n",
    "plt.plot(epochs, acc, 'g', label='Training acc')\n",
    "plt.plot(epochs, val_acc, 'y', label='Validation acc')\n",
    "plt.title('Training and validation loss and Accuracy')\n",
    "plt.xlabel('Epochs')\n",
    "plt.ylabel('Loss and Accuracy')\n",
    "plt.legend()\n",
    "\n",
    "plt.show()"
   ]
  },
  {
   "cell_type": "code",
   "execution_count": 76,
   "metadata": {},
   "outputs": [
    {
     "data": {
      "image/png": "[encoded data removed]",
      "text/plain": [
       "<Figure size 640x480 with 1 Axes>"
      ]
     },
     "metadata": {},
     "output_type": "display_data"
    }
   ],
   "source": [
    "acc = history_dict['binary_accuracy']\n",
    "val_acc = history_dict['val_binary_accuracy']\n",
    "loss = history_dict['loss']\n",
    "val_loss = history_dict['val_loss']\n",
    "\n",
    "epochs = range(1, len(acc) + 1)\n",
    "\n",
    "# \"bo\" is for \"blue dot\"\n",
    "plt.plot(epochs, loss, 'r', label='Training loss')\n",
    "# b is for \"solid blue line\"\n",
    "plt.plot(epochs, val_loss, 'b', label='Validation loss')\n",
    "plt.title('Training and validation loss')\n",
    "plt.xlabel('Epochs')\n",
    "plt.ylabel('Loss')\n",
    "plt.legend()\n",
    "\n",
    "plt.show()"
   ]
  },
  {
   "cell_type": "code",
   "execution_count": 77,
   "metadata": {},
   "outputs": [
    {
     "data": {
      "image/png": "[encoded data removed]",
      "text/plain": [
       "<Figure size 640x480 with 1 Axes>"
      ]
     },
     "metadata": {},
     "output_type": "display_data"
    }
   ],
   "source": [
    "plt.plot(epochs, acc, 'r', label='Training acc')\n",
    "plt.plot(epochs, val_acc, 'b', label='Validation acc')\n",
    "plt.title('Training and validation accuracy')\n",
    "plt.xlabel('Epochs')\n",
    "plt.ylabel('Accuracy')\n",
    "plt.legend(loc='lower right')\n",
    "\n",
    "plt.show()"
   ]
  },
  {
   "cell_type": "markdown",
   "metadata": {},
   "source": [
    "In this plot, the dots represent the training loss and accuracy, and the solid lines are the validation loss and accuracy.\n",
    "\n",
    "Notice the training loss decreases with each epoch and the training accuracy increases with each epoch. This is expected when using a gradient descent optimization—it should minimize the desired quantity on every iteration."
   ]
  },
  {
   "cell_type": "markdown",
   "metadata": {},
   "source": []
  },
  {
   "cell_type": "markdown",
   "metadata": {},
   "source": [
    "This isn't the case for the validation loss and accuracy—they seem to peak before the training accuracy. This is an example of overfitting: the model performs better on the training data than it does on data it has never seen before. After this point, the model over-optimizes and learns representations specific to the training data that do not generalize to test data.\n",
    "\n",
    "For this particular case, you could prevent overfitting by simply stopping the training when the validation accuracy is no longer increasing. One way to do so is to use the tf.keras.callbacks.EarlyStopping callback."
   ]
  },
  {
   "cell_type": "markdown",
   "metadata": {},
   "source": [
    "Export the model\n",
    "In the code above, you applied the TextVectorization layer to the dataset before feeding text to the model. If you want to make your model capable of processing raw strings (for example, to simplify deploying it), you can include the TextVectorization layer inside your model. To do so, you can create a new model using the weights you just trained."
   ]
  },
  {
   "cell_type": "markdown",
   "metadata": {},
   "source": []
  },
  {
   "cell_type": "code",
   "execution_count": 78,
   "metadata": {},
   "outputs": [
    {
     "name": "stdout",
     "output_type": "stream",
     "text": [
      "\u001b[1m782/782\u001b[0m \u001b[32m━━━━━━━━━━━━━━━━━━━━\u001b[0m\u001b[37m\u001b[0m \u001b[1m87s\u001b[0m 108ms/step - accuracy: 0.4992 - loss: 0.6167\n",
      "{'accuracy': 0.5, 'loss': 0.6160348653793335}\n"
     ]
    }
   ],
   "source": [
    "export_model = tf.keras.Sequential([\n",
    "  vectorize_layer,\n",
    "  model,\n",
    "  layers.Activation('sigmoid')\n",
    "])\n",
    "\n",
    "export_model.compile(\n",
    "    loss=losses.BinaryCrossentropy(from_logits=False), optimizer=\"adam\", metrics=['accuracy']\n",
    ")\n",
    "\n",
    "# Test it with `raw_test_ds`, which yields raw strings\n",
    "metrics = export_model.evaluate(raw_test_ds, return_dict=True)\n",
    "print(metrics)"
   ]
  },
  {
   "cell_type": "markdown",
   "metadata": {},
   "source": [
    "Inference on new data"
   ]
  },
  {
   "cell_type": "markdown",
   "metadata": {},
   "source": [
    "tf.constant creates a TensorFlow constant tensor, which is an immutable tensor that cannot be modified.\n",
    "Syntax\n",
    "tf.constant(value, dtype=None, shape=None, name=None)\n",
    "Arguments\n",
    "value: The initial value of the tensor.\n",
    "dtype: The data type of the tensor (optional).\n",
    "shape: The shape of the tensor (optional).\n",
    "name: The name of the tensor (optional)."
   ]
  },
  {
   "cell_type": "code",
   "execution_count": 79,
   "metadata": {},
   "outputs": [
    {
     "name": "stdout",
     "output_type": "stream",
     "text": [
      "\u001b[1m1/1\u001b[0m \u001b[32m━━━━━━━━━━━━━━━━━━━━\u001b[0m\u001b[37m\u001b[0m \u001b[1m0s\u001b[0m 359ms/step\n"
     ]
    },
    {
     "data": {
      "text/plain": [
       "array([[0.66090345],\n",
       "       [0.63565505],\n",
       "       [0.62270474]], dtype=float32)"
      ]
     },
     "execution_count": 79,
     "metadata": {},
     "output_type": "execute_result"
    }
   ],
   "source": [
    "examples = tf.constant([\n",
    "  \"The movie was great!\",\n",
    "  \"The movie was okay.\",\n",
    "  \"The movie was terrible...\"\n",
    "])\n",
    "\n",
    "export_model.predict(examples)"
   ]
  }
 ],
 "metadata": {
  "kernelspec": {
   "display_name": "Python 3",
   "language": "python",
   "name": "python3"
  },
  "language_info": {
   "codemirror_mode": {
    "name": "ipython",
    "version": 3
   },
   "file_extension": ".py",
   "mimetype": "text/x-python",
   "name": "python",
   "nbconvert_exporter": "python",
   "pygments_lexer": "ipython3",
   "version": "3.11.0"
  }
 },
 "nbformat": 4,
 "nbformat_minor": 2
}
